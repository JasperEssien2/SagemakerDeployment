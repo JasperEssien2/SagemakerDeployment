{
 "cells": [
  {
   "cell_type": "markdown",
   "metadata": {},
   "source": [
    "# Sentiment Analysis Web App\n",
    "\n",
    "_Deep Learning Nanodegree Program | Deployment_\n",
    "\n",
    "---\n",
    "\n",
    "In this notebook we will use Amazon's SageMaker service to construct a random tree model to predict the sentiment of a movie review. In addition, we will deploy this model to an endpoint and construct a very simple web app which will interact with our model's deployed endpoint.\n",
    "\n",
    "## General Outline\n",
    "\n",
    "Typically, when using a notebook instance with SageMaker, you will proceed through the following steps. Of course, not every step will need to be done with each project. Also, there is quite a lot of room for variation in many of the steps, as you will see throughout these lessons.\n",
    "\n",
    "1. Download or otherwise retrieve the data.\n",
    "2. Process / Prepare the data.\n",
    "3. Upload the processed data to S3.\n",
    "4. Train a chosen model.\n",
    "5. Test the trained model (typically using a batch transform job).\n",
    "6. Deploy the trained model.\n",
    "7. Use the deployed model.\n",
    "\n",
    "In this notebook we will progress through each of the steps above. We will also see that the final step, using the deployed model, can be quite challenging."
   ]
  },
  {
   "cell_type": "markdown",
   "metadata": {},
   "source": [
    "## Step 1: Downloading the data\n",
    "\n",
    "The dataset we are going to use is very popular among researchers in Natural Language Processing, usually referred to as the [IMDb dataset](http://ai.stanford.edu/~amaas/data/sentiment/). It consists of movie reviews from the website [imdb.com](http://www.imdb.com/), each labeled as either '**pos**itive', if the reviewer enjoyed the film, or '**neg**ative' otherwise.\n",
    "\n",
    "> Maas, Andrew L., et al. [Learning Word Vectors for Sentiment Analysis](http://ai.stanford.edu/~amaas/data/sentiment/). In _Proceedings of the 49th Annual Meeting of the Association for Computational Linguistics: Human Language Technologies_. Association for Computational Linguistics, 2011.\n",
    "\n",
    "We begin by using some Jupyter Notebook magic to download and extract the dataset."
   ]
  },
  {
   "cell_type": "code",
   "execution_count": 1,
   "metadata": {},
   "outputs": [
    {
     "name": "stdout",
     "output_type": "stream",
     "text": [
      "mkdir: cannot create directory ‘../data’: File exists\n",
      "--2020-06-23 23:02:57--  http://ai.stanford.edu/~amaas/data/sentiment/aclImdb_v1.tar.gz\n",
      "Resolving ai.stanford.edu (ai.stanford.edu)... 171.64.68.10\n",
      "Connecting to ai.stanford.edu (ai.stanford.edu)|171.64.68.10|:80... connected.\n",
      "HTTP request sent, awaiting response... 200 OK\n",
      "Length: 84125825 (80M) [application/x-gzip]\n",
      "Saving to: ‘../data/aclImdb_v1.tar.gz’\n",
      "\n",
      "../data/aclImdb_v1. 100%[===================>]  80.23M  40.2MB/s    in 2.0s    \n",
      "\n",
      "2020-06-23 23:02:59 (40.2 MB/s) - ‘../data/aclImdb_v1.tar.gz’ saved [84125825/84125825]\n",
      "\n"
     ]
    }
   ],
   "source": [
    "%mkdir ../data\n",
    "!wget -O ../data/aclImdb_v1.tar.gz http://ai.stanford.edu/~amaas/data/sentiment/aclImdb_v1.tar.gz\n",
    "!tar -zxf ../data/aclImdb_v1.tar.gz -C ../data"
   ]
  },
  {
   "cell_type": "markdown",
   "metadata": {},
   "source": [
    "## Step 2: Preparing and Processing the data\n",
    "\n",
    "The data we have downloaded is split into various files, each of which contains a single review. It will be much easier going forward if we combine these individual files into two large files, one for training and one for testing."
   ]
  },
  {
   "cell_type": "code",
   "execution_count": 2,
   "metadata": {},
   "outputs": [],
   "source": [
    "import os\n",
    "import glob\n",
    "\n",
    "def read_imdb_data(data_dir='../data/aclImdb'):\n",
    "    data = {}\n",
    "    labels = {}\n",
    "    \n",
    "    for data_type in ['train', 'test']:\n",
    "        data[data_type] = {}\n",
    "        labels[data_type] = {}\n",
    "        \n",
    "        for sentiment in ['pos', 'neg']:\n",
    "            data[data_type][sentiment] = []\n",
    "            labels[data_type][sentiment] = []\n",
    "            \n",
    "            path = os.path.join(data_dir, data_type, sentiment, '*.txt')\n",
    "            files = glob.glob(path)\n",
    "            \n",
    "            for f in files:\n",
    "                with open(f) as review:\n",
    "                    data[data_type][sentiment].append(review.read())\n",
    "                    # Here we represent a positive review by '1' and a negative review by '0'\n",
    "                    labels[data_type][sentiment].append(1 if sentiment == 'pos' else 0)\n",
    "                    \n",
    "            assert len(data[data_type][sentiment]) == len(labels[data_type][sentiment]), \\\n",
    "                    \"{}/{} data size does not match labels size\".format(data_type, sentiment)\n",
    "                \n",
    "    return data, labels"
   ]
  },
  {
   "cell_type": "code",
   "execution_count": 3,
   "metadata": {},
   "outputs": [
    {
     "name": "stdout",
     "output_type": "stream",
     "text": [
      "IMDB reviews: train = 12500 pos / 12500 neg, test = 12500 pos / 12500 neg\n"
     ]
    }
   ],
   "source": [
    "data, labels = read_imdb_data()\n",
    "print(\"IMDB reviews: train = {} pos / {} neg, test = {} pos / {} neg\".format(\n",
    "            len(data['train']['pos']), len(data['train']['neg']),\n",
    "            len(data['test']['pos']), len(data['test']['neg'])))"
   ]
  },
  {
   "cell_type": "code",
   "execution_count": 4,
   "metadata": {},
   "outputs": [],
   "source": [
    "from sklearn.utils import shuffle\n",
    "\n",
    "def prepare_imdb_data(data, labels):\n",
    "    \"\"\"Prepare training and test sets from IMDb movie reviews.\"\"\"\n",
    "    \n",
    "    #Combine positive and negative reviews and labels\n",
    "    data_train = data['train']['pos'] + data['train']['neg']\n",
    "    data_test = data['test']['pos'] + data['test']['neg']\n",
    "    labels_train = labels['train']['pos'] + labels['train']['neg']\n",
    "    labels_test = labels['test']['pos'] + labels['test']['neg']\n",
    "    \n",
    "    #Shuffle reviews and corresponding labels within training and test sets\n",
    "    data_train, labels_train = shuffle(data_train, labels_train)\n",
    "    data_test, labels_test = shuffle(data_test, labels_test)\n",
    "    \n",
    "    # Return a unified training data, test data, training labels, test labets\n",
    "    return data_train, data_test, labels_train, labels_test"
   ]
  },
  {
   "cell_type": "code",
   "execution_count": 5,
   "metadata": {},
   "outputs": [
    {
     "name": "stdout",
     "output_type": "stream",
     "text": [
      "IMDb reviews (combined): train = 25000, test = 25000\n"
     ]
    }
   ],
   "source": [
    "train_X, test_X, train_y, test_y = prepare_imdb_data(data, labels)\n",
    "print(\"IMDb reviews (combined): train = {}, test = {}\".format(len(train_X), len(test_X)))"
   ]
  },
  {
   "cell_type": "code",
   "execution_count": 6,
   "metadata": {},
   "outputs": [
    {
     "data": {
      "text/plain": [
       "\"I saw this film as it was the second feature on a disc containing the previously banned Video Nasty 'Blood Rites'. As Blood Rites was entirely awful, I really wasn't expecting much from this film; but actually, it would seem that trash director Andy Milligan has outdone himself this time as Seeds of Sin tops Blood Rites in style and stands tall as a more than adequate slice of sick sixties sexploitation. The plot is actually quite similar to Blood Rites, as we focus on a dysfunctional family unit, and of course; there is an inheritance at stake. The film is shot in black and white, and the look and feel of it reminded me a lot of the trash classic 'The Curious Dr Humpp'. There's barely any gore on display, and the director seems keener to focus on sex, with themes of incest and hatred seeping through. The acting is typically trashy, but most of the women get to appear nude at some point and despite a poor reputation, director Andy Milligan actually seems to have an eye for this sort of thing, as many of the sequences in this film are actually quite beautiful. The plot is paper thin, and most of the film is filler; but the music is catchy, and the director also does a surprisingly good job with the sex scenes themselves, as most are somewhat erotic. Overall, this is not a great film; but it's likely to appeal to the cult fan, and gets a much higher recommendation than the better known and lower quality 'Blood Rites'.\""
      ]
     },
     "execution_count": 6,
     "metadata": {},
     "output_type": "execute_result"
    }
   ],
   "source": [
    "train_X[100]"
   ]
  },
  {
   "cell_type": "markdown",
   "metadata": {},
   "source": [
    "## Processing the data\n",
    "\n",
    "Now that we have our training and testing datasets merged and ready to use, we need to start processing the raw data into something that will be useable by our machine learning algorithm. To begin with, we remove any html formatting and any non-alpha numeric characters that may appear in the reviews. We will do this in a very simplistic way using Python's regular expression module. We will discuss the reason for this rather simplistic pre-processing later on."
   ]
  },
  {
   "cell_type": "code",
   "execution_count": 7,
   "metadata": {},
   "outputs": [],
   "source": [
    "import re\n",
    "\n",
    "REPLACE_NO_SPACE = re.compile(\"(\\.)|(\\;)|(\\:)|(\\!)|(\\')|(\\?)|(\\,)|(\\\")|(\\()|(\\))|(\\[)|(\\])\")\n",
    "REPLACE_WITH_SPACE = re.compile(\"(<br\\s*/><br\\s*/>)|(\\-)|(\\/)\")\n",
    "\n",
    "def review_to_words(review):\n",
    "    words = REPLACE_NO_SPACE.sub(\"\", review.lower())\n",
    "    words = REPLACE_WITH_SPACE.sub(\" \", words)\n",
    "    return words"
   ]
  },
  {
   "cell_type": "code",
   "execution_count": 8,
   "metadata": {},
   "outputs": [
    {
     "data": {
      "text/plain": [
       "'i saw this film as it was the second feature on a disc containing the previously banned video nasty blood rites as blood rites was entirely awful i really wasnt expecting much from this film but actually it would seem that trash director andy milligan has outdone himself this time as seeds of sin tops blood rites in style and stands tall as a more than adequate slice of sick sixties sexploitation the plot is actually quite similar to blood rites as we focus on a dysfunctional family unit and of course there is an inheritance at stake the film is shot in black and white and the look and feel of it reminded me a lot of the trash classic the curious dr humpp theres barely any gore on display and the director seems keener to focus on sex with themes of incest and hatred seeping through the acting is typically trashy but most of the women get to appear nude at some point and despite a poor reputation director andy milligan actually seems to have an eye for this sort of thing as many of the sequences in this film are actually quite beautiful the plot is paper thin and most of the film is filler but the music is catchy and the director also does a surprisingly good job with the sex scenes themselves as most are somewhat erotic overall this is not a great film but its likely to appeal to the cult fan and gets a much higher recommendation than the better known and lower quality blood rites'"
      ]
     },
     "execution_count": 8,
     "metadata": {},
     "output_type": "execute_result"
    }
   ],
   "source": [
    "review_to_words(train_X[100])"
   ]
  },
  {
   "cell_type": "code",
   "execution_count": 9,
   "metadata": {},
   "outputs": [],
   "source": [
    "import pickle\n",
    "\n",
    "cache_dir = os.path.join(\"../cache\", \"sentiment_web_app\")  # where to store cache files\n",
    "os.makedirs(cache_dir, exist_ok=True)  # ensure cache directory exists\n",
    "\n",
    "def preprocess_data(data_train, data_test, labels_train, labels_test,\n",
    "                    cache_dir=cache_dir, cache_file=\"preprocessed_data.pkl\"):\n",
    "    \"\"\"Convert each review to words; read from cache if available.\"\"\"\n",
    "\n",
    "    # If cache_file is not None, try to read from it first\n",
    "    cache_data = None\n",
    "    if cache_file is not None:\n",
    "        try:\n",
    "            with open(os.path.join(cache_dir, cache_file), \"rb\") as f:\n",
    "                cache_data = pickle.load(f)\n",
    "            print(\"Read preprocessed data from cache file:\", cache_file)\n",
    "        except:\n",
    "            pass  # unable to read from cache, but that's okay\n",
    "    \n",
    "    # If cache is missing, then do the heavy lifting\n",
    "    if cache_data is None:\n",
    "        # Preprocess training and test data to obtain words for each review\n",
    "        #words_train = list(map(review_to_words, data_train))\n",
    "        #words_test = list(map(review_to_words, data_test))\n",
    "        words_train = [review_to_words(review) for review in data_train]\n",
    "        words_test = [review_to_words(review) for review in data_test]\n",
    "        \n",
    "        # Write to cache file for future runs\n",
    "        if cache_file is not None:\n",
    "            cache_data = dict(words_train=words_train, words_test=words_test,\n",
    "                              labels_train=labels_train, labels_test=labels_test)\n",
    "            with open(os.path.join(cache_dir, cache_file), \"wb\") as f:\n",
    "                pickle.dump(cache_data, f)\n",
    "            print(\"Wrote preprocessed data to cache file:\", cache_file)\n",
    "    else:\n",
    "        # Unpack data loaded from cache file\n",
    "        words_train, words_test, labels_train, labels_test = (cache_data['words_train'],\n",
    "                cache_data['words_test'], cache_data['labels_train'], cache_data['labels_test'])\n",
    "    \n",
    "    return words_train, words_test, labels_train, labels_test"
   ]
  },
  {
   "cell_type": "code",
   "execution_count": 10,
   "metadata": {},
   "outputs": [
    {
     "name": "stdout",
     "output_type": "stream",
     "text": [
      "Wrote preprocessed data to cache file: preprocessed_data.pkl\n"
     ]
    }
   ],
   "source": [
    "# Preprocess data\n",
    "train_X, test_X, train_y, test_y = preprocess_data(train_X, test_X, train_y, test_y)"
   ]
  },
  {
   "cell_type": "markdown",
   "metadata": {},
   "source": [
    "### Extract Bag-of-Words features\n",
    "\n",
    "For the model we will be implementing, rather than using the reviews directly, we are going to transform each review into a Bag-of-Words feature representation. Keep in mind that 'in the wild' we will only have access to the training set so our transformer can only use the training set to construct a representation."
   ]
  },
  {
   "cell_type": "code",
   "execution_count": 11,
   "metadata": {},
   "outputs": [
    {
     "name": "stderr",
     "output_type": "stream",
     "text": [
      "/home/ec2-user/anaconda3/envs/python3/lib/python3.6/site-packages/sklearn/externals/joblib/__init__.py:15: FutureWarning: sklearn.externals.joblib is deprecated in 0.21 and will be removed in 0.23. Please import this functionality directly from joblib, which can be installed with: pip install joblib. If this warning is raised when loading pickled models, you may need to re-serialize those models with scikit-learn 0.21+.\n",
      "  warnings.warn(msg, category=FutureWarning)\n"
     ]
    }
   ],
   "source": [
    "import numpy as np\n",
    "from sklearn.feature_extraction.text import CountVectorizer\n",
    "from sklearn.externals import joblib\n",
    "# joblib is an enhanced version of pickle that is more efficient for storing NumPy arrays\n",
    "\n",
    "def extract_BoW_features(words_train, words_test, vocabulary_size=5000,\n",
    "                         cache_dir=cache_dir, cache_file=\"bow_features.pkl\"):\n",
    "    \"\"\"Extract Bag-of-Words for a given set of documents, already preprocessed into words.\"\"\"\n",
    "    \n",
    "    # If cache_file is not None, try to read from it first\n",
    "    cache_data = None\n",
    "    if cache_file is not None:\n",
    "        try:\n",
    "            with open(os.path.join(cache_dir, cache_file), \"rb\") as f:\n",
    "                cache_data = joblib.load(f)\n",
    "            print(\"Read features from cache file:\", cache_file)\n",
    "        except:\n",
    "            pass  # unable to read from cache, but that's okay\n",
    "    \n",
    "    # If cache is missing, then do the heavy lifting\n",
    "    if cache_data is None:\n",
    "        # Fit a vectorizer to training documents and use it to transform them\n",
    "        # NOTE: Training documents have already been preprocessed and tokenized into words;\n",
    "        #       pass in dummy functions to skip those steps, e.g. preprocessor=lambda x: x\n",
    "        vectorizer = CountVectorizer(max_features=vocabulary_size)\n",
    "        features_train = vectorizer.fit_transform(words_train).toarray()\n",
    "\n",
    "        # Apply the same vectorizer to transform the test documents (ignore unknown words)\n",
    "        features_test = vectorizer.transform(words_test).toarray()\n",
    "        \n",
    "        # NOTE: Remember to convert the features using .toarray() for a compact representation\n",
    "        \n",
    "        # Write to cache file for future runs (store vocabulary as well)\n",
    "        if cache_file is not None:\n",
    "            vocabulary = vectorizer.vocabulary_\n",
    "            cache_data = dict(features_train=features_train, features_test=features_test,\n",
    "                             vocabulary=vocabulary)\n",
    "            with open(os.path.join(cache_dir, cache_file), \"wb\") as f:\n",
    "                joblib.dump(cache_data, f)\n",
    "            print(\"Wrote features to cache file:\", cache_file)\n",
    "    else:\n",
    "        # Unpack data loaded from cache file\n",
    "        features_train, features_test, vocabulary = (cache_data['features_train'],\n",
    "                cache_data['features_test'], cache_data['vocabulary'])\n",
    "    \n",
    "    # Return both the extracted features as well as the vocabulary\n",
    "    return features_train, features_test, vocabulary"
   ]
  },
  {
   "cell_type": "code",
   "execution_count": 12,
   "metadata": {},
   "outputs": [
    {
     "name": "stdout",
     "output_type": "stream",
     "text": [
      "Wrote features to cache file: bow_features.pkl\n"
     ]
    }
   ],
   "source": [
    "# Extract Bag of Words features for both training and test datasets\n",
    "train_X, test_X, vocabulary = extract_BoW_features(train_X, test_X)"
   ]
  },
  {
   "cell_type": "code",
   "execution_count": 13,
   "metadata": {},
   "outputs": [
    {
     "data": {
      "text/plain": [
       "5000"
      ]
     },
     "execution_count": 13,
     "metadata": {},
     "output_type": "execute_result"
    }
   ],
   "source": [
    "len(train_X[100])"
   ]
  },
  {
   "cell_type": "markdown",
   "metadata": {},
   "source": [
    "## Step 3: Upload data to S3\n",
    "\n",
    "Now that we have created the feature representation of our training (and testing) data, it is time to start setting up and using the XGBoost classifier provided by SageMaker.\n",
    "\n",
    "### Writing the datasets\n",
    "\n",
    "The XGBoost classifier that we will be using requires the dataset to be written to a file and stored using Amazon S3. To do this, we will start by splitting the training dataset into two parts, the data we will train the model with and a validation set. Then, we will write those datasets to a file locally and then upload the files to S3. In addition, we will write the test set to a file and upload that file to S3. This is so that we can use SageMakers Batch Transform functionality to test our model once we've fit it."
   ]
  },
  {
   "cell_type": "code",
   "execution_count": 14,
   "metadata": {},
   "outputs": [],
   "source": [
    "import pandas as pd\n",
    "\n",
    "# Earlier we shuffled the training dataset so to make things simple we can just assign\n",
    "# the first 10 000 reviews to the validation set and use the remaining reviews for training.\n",
    "val_X = pd.DataFrame(train_X[:10000])\n",
    "train_X = pd.DataFrame(train_X[10000:])\n",
    "\n",
    "val_y = pd.DataFrame(train_y[:10000])\n",
    "train_y = pd.DataFrame(train_y[10000:])"
   ]
  },
  {
   "cell_type": "markdown",
   "metadata": {},
   "source": [
    "The documentation for the XGBoost algorithm in SageMaker requires that the training and validation datasets should contain no headers or index and that the label should occur first for each sample.\n",
    "\n",
    "For more information about this and other algorithms, the SageMaker developer documentation can be found on __[Amazon's website.](https://docs.aws.amazon.com/sagemaker/latest/dg/)__"
   ]
  },
  {
   "cell_type": "code",
   "execution_count": 15,
   "metadata": {},
   "outputs": [],
   "source": [
    "# First we make sure that the local directory in which we'd like to store the training and validation csv files exists.\n",
    "data_dir = '../data/sentiment_web_app'\n",
    "if not os.path.exists(data_dir):\n",
    "    os.makedirs(data_dir)"
   ]
  },
  {
   "cell_type": "code",
   "execution_count": 16,
   "metadata": {},
   "outputs": [],
   "source": [
    "pd.DataFrame(test_X).to_csv(os.path.join(data_dir, 'test.csv'), header=False, index=False)\n",
    "\n",
    "pd.concat([val_y, val_X], axis=1).to_csv(os.path.join(data_dir, 'validation.csv'), header=False, index=False)\n",
    "pd.concat([train_y, train_X], axis=1).to_csv(os.path.join(data_dir, 'train.csv'), header=False, index=False)"
   ]
  },
  {
   "cell_type": "code",
   "execution_count": 17,
   "metadata": {},
   "outputs": [],
   "source": [
    "# To save a bit of memory we can set text_X, train_X, val_X, train_y and val_y to None.\n",
    "\n",
    "test_X = train_X = val_X = train_y = val_y = None"
   ]
  },
  {
   "cell_type": "markdown",
   "metadata": {},
   "source": [
    "### Uploading Training / Validation files to S3\n",
    "\n",
    "Amazon's S3 service allows us to store files that can be accessed by both the built-in training models such as the XGBoost model we will be using as well as custom models such as the one we will see a little later.\n",
    "\n",
    "For this and most other tasks we will be doing using SageMaker, there are two methods we could use. The first is to use the low level functionality of SageMaker which requires knowing each of the objects involved in the SageMaker environment. The second is to use the high level functionality in which certain choices have been made on the user's behalf. The low level approach benefits from allowing the user a great deal of flexibility while the high level approach makes development much quicker. For our purposes we will opt to use the high level approach although using the low-level approach is certainly an option.\n",
    "\n",
    "Recall the method `upload_data()` which is a member of the object representing our current SageMaker session. What this method does is upload the data to the default bucket (which is created if it does not exist) into the path described by the key_prefix variable. To see this for yourself, once you have uploaded the data files, go to the S3 console and look to see where the files have been uploaded.\n",
    "\n",
    "For additional resources, see the __[SageMaker API documentation](http://sagemaker.readthedocs.io/en/latest/)__ and in addition the __[SageMaker Developer Guide.](https://docs.aws.amazon.com/sagemaker/latest/dg/)__"
   ]
  },
  {
   "cell_type": "code",
   "execution_count": 18,
   "metadata": {},
   "outputs": [],
   "source": [
    "import sagemaker\n",
    "\n",
    "session = sagemaker.Session() # Store the current SageMaker session\n",
    "\n",
    "# S3 prefix (which folder will we use)\n",
    "prefix = 'sentiment-web-app'\n",
    "\n",
    "test_location = session.upload_data(os.path.join(data_dir, 'test.csv'), key_prefix=prefix)\n",
    "val_location = session.upload_data(os.path.join(data_dir, 'validation.csv'), key_prefix=prefix)\n",
    "train_location = session.upload_data(os.path.join(data_dir, 'train.csv'), key_prefix=prefix)"
   ]
  },
  {
   "cell_type": "markdown",
   "metadata": {},
   "source": [
    "## Step 4: Creating the XGBoost model\n",
    "\n",
    "Now that the data has been uploaded it is time to create the XGBoost model. To begin with, we need to do some setup. At this point it is worth discussing what a model is in SageMaker. It is easiest to think of a model of comprising three different objects in the SageMaker ecosystem, which interact with one another.\n",
    "\n",
    "- Model Artifacts\n",
    "- Training Code (Container)\n",
    "- Inference Code (Container)\n",
    "\n",
    "The Model Artifacts are what you might think of as the actual model itself. For example, if you were building a neural network, the model artifacts would be the weights of the various layers. In our case, for an XGBoost model, the artifacts are the actual trees that are created during training.\n",
    "\n",
    "The other two objects, the training code and the inference code are then used to manipulate the training artifacts. More precisely, the training code uses the training data that is provided and creates the model artifacts, while the inference code uses the model artifacts to make predictions on new data.\n",
    "\n",
    "The way that SageMaker runs the training and inference code is by making use of Docker containers. For now, think of a container as being a way of packaging code up so that dependencies aren't an issue."
   ]
  },
  {
   "cell_type": "code",
   "execution_count": 19,
   "metadata": {},
   "outputs": [],
   "source": [
    "from sagemaker import get_execution_role\n",
    "\n",
    "# Our current execution role is required when creating the model as the training\n",
    "# and inference code will need to access the model artifacts.\n",
    "role = get_execution_role()"
   ]
  },
  {
   "cell_type": "code",
   "execution_count": 20,
   "metadata": {},
   "outputs": [
    {
     "name": "stderr",
     "output_type": "stream",
     "text": [
      "'get_image_uri' method will be deprecated in favor of 'ImageURIProvider' class in SageMaker Python SDK v2.\n",
      "WARNING:root:There is a more up to date SageMaker XGBoost image. To use the newer image, please set 'repo_version'='1.0-1'. For example:\n",
      "\tget_image_uri(region, 'xgboost', '1.0-1').\n"
     ]
    }
   ],
   "source": [
    "# We need to retrieve the location of the container which is provided by Amazon for using XGBoost.\n",
    "# As a matter of convenience, the training and inference code both use the same container.\n",
    "from sagemaker.amazon.amazon_estimator import get_image_uri\n",
    "\n",
    "container = get_image_uri(session.boto_region_name, 'xgboost')"
   ]
  },
  {
   "cell_type": "code",
   "execution_count": 21,
   "metadata": {},
   "outputs": [
    {
     "name": "stderr",
     "output_type": "stream",
     "text": [
      "WARNING:root:Parameter image_name will be renamed to image_uri in SageMaker Python SDK v2.\n"
     ]
    }
   ],
   "source": [
    "# First we create a SageMaker estimator object for our model.\n",
    "xgb = sagemaker.estimator.Estimator(container, # The location of the container we wish to use\n",
    "                                    role,                                    # What is our current IAM Role\n",
    "                                    train_instance_count=1,                  # How many compute instances\n",
    "                                    train_instance_type='ml.m4.xlarge',      # What kind of compute instances\n",
    "                                    output_path='s3://{}/{}/output'.format(session.default_bucket(), prefix),\n",
    "                                    sagemaker_session=session)\n",
    "\n",
    "# And then set the algorithm specific parameters.\n",
    "xgb.set_hyperparameters(max_depth=5,\n",
    "                        eta=0.2,\n",
    "                        gamma=4,\n",
    "                        min_child_weight=6,\n",
    "                        subsample=0.8,\n",
    "                        silent=0,\n",
    "                        objective='binary:logistic',\n",
    "                        early_stopping_rounds=10,\n",
    "                        num_round=500)"
   ]
  },
  {
   "cell_type": "markdown",
   "metadata": {},
   "source": [
    "### Fit the XGBoost model\n",
    "\n",
    "Now that our model has been set up we simply need to attach the training and validation datasets and then ask SageMaker to set up the computation."
   ]
  },
  {
   "cell_type": "code",
   "execution_count": 22,
   "metadata": {},
   "outputs": [
    {
     "name": "stderr",
     "output_type": "stream",
     "text": [
      "WARNING:sagemaker:'s3_input' class will be renamed to 'TrainingInput' in SageMaker Python SDK v2.\n",
      "WARNING:sagemaker:'s3_input' class will be renamed to 'TrainingInput' in SageMaker Python SDK v2.\n"
     ]
    }
   ],
   "source": [
    "s3_input_train = sagemaker.s3_input(s3_data=train_location, content_type='csv')\n",
    "s3_input_validation = sagemaker.s3_input(s3_data=val_location, content_type='csv')"
   ]
  },
  {
   "cell_type": "code",
   "execution_count": 23,
   "metadata": {},
   "outputs": [
    {
     "name": "stdout",
     "output_type": "stream",
     "text": [
      "2020-06-24 00:06:05 Starting - Starting the training job...\n",
      "2020-06-24 00:06:07 Starting - Launching requested ML instances.........\n",
      "2020-06-24 00:07:44 Starting - Preparing the instances for training......\n",
      "2020-06-24 00:08:54 Downloading - Downloading input data...\n",
      "2020-06-24 00:09:36 Training - Training image download completed. Training in progress..\u001b[34mArguments: train\u001b[0m\n",
      "\u001b[34m[2020-06-24:00:09:36:INFO] Running standalone xgboost training.\u001b[0m\n",
      "\u001b[34m[2020-06-24:00:09:36:INFO] File size need to be processed in the node: 238.5mb. Available memory size in the node: 8468.57mb\u001b[0m\n",
      "\u001b[34m[2020-06-24:00:09:36:INFO] Determined delimiter of CSV input is ','\u001b[0m\n",
      "\u001b[34m[00:09:36] S3DistributionType set as FullyReplicated\u001b[0m\n",
      "\u001b[34m[00:09:38] 15000x5000 matrix with 75000000 entries loaded from /opt/ml/input/data/train?format=csv&label_column=0&delimiter=,\u001b[0m\n",
      "\u001b[34m[2020-06-24:00:09:38:INFO] Determined delimiter of CSV input is ','\u001b[0m\n",
      "\u001b[34m[00:09:38] S3DistributionType set as FullyReplicated\u001b[0m\n",
      "\u001b[34m[00:09:39] 10000x5000 matrix with 50000000 entries loaded from /opt/ml/input/data/validation?format=csv&label_column=0&delimiter=,\u001b[0m\n",
      "\u001b[34m[00:09:43] src/tree/updater_prune.cc:74: tree pruning end, 1 roots, 34 extra nodes, 10 pruned nodes, max_depth=5\u001b[0m\n",
      "\u001b[34m[0]#011train-error:0.307533#011validation-error:0.3142\u001b[0m\n",
      "\u001b[34mMultiple eval metrics have been passed: 'validation-error' will be used for early stopping.\n",
      "\u001b[0m\n",
      "\u001b[34mWill train until validation-error hasn't improved in 10 rounds.\u001b[0m\n",
      "\u001b[34m[00:09:44] src/tree/updater_prune.cc:74: tree pruning end, 1 roots, 38 extra nodes, 2 pruned nodes, max_depth=5\u001b[0m\n",
      "\u001b[34m[1]#011train-error:0.289267#011validation-error:0.2973\u001b[0m\n",
      "\u001b[34m[00:09:46] src/tree/updater_prune.cc:74: tree pruning end, 1 roots, 32 extra nodes, 12 pruned nodes, max_depth=5\u001b[0m\n",
      "\u001b[34m[2]#011train-error:0.282133#011validation-error:0.2919\u001b[0m\n",
      "\u001b[34m[00:09:47] src/tree/updater_prune.cc:74: tree pruning end, 1 roots, 26 extra nodes, 6 pruned nodes, max_depth=5\u001b[0m\n",
      "\u001b[34m[3]#011train-error:0.279267#011validation-error:0.2881\u001b[0m\n",
      "\u001b[34m[00:09:48] src/tree/updater_prune.cc:74: tree pruning end, 1 roots, 50 extra nodes, 0 pruned nodes, max_depth=5\u001b[0m\n",
      "\u001b[34m[4]#011train-error:0.268067#011validation-error:0.2835\u001b[0m\n",
      "\u001b[34m[00:09:50] src/tree/updater_prune.cc:74: tree pruning end, 1 roots, 30 extra nodes, 6 pruned nodes, max_depth=5\u001b[0m\n",
      "\u001b[34m[5]#011train-error:0.261267#011validation-error:0.2751\u001b[0m\n",
      "\u001b[34m[00:09:51] src/tree/updater_prune.cc:74: tree pruning end, 1 roots, 34 extra nodes, 4 pruned nodes, max_depth=5\u001b[0m\n",
      "\u001b[34m[6]#011train-error:0.244933#011validation-error:0.2599\u001b[0m\n",
      "\u001b[34m[00:09:52] src/tree/updater_prune.cc:74: tree pruning end, 1 roots, 40 extra nodes, 10 pruned nodes, max_depth=5\u001b[0m\n",
      "\u001b[34m[7]#011train-error:0.235067#011validation-error:0.2501\u001b[0m\n",
      "\u001b[34m[00:09:54] src/tree/updater_prune.cc:74: tree pruning end, 1 roots, 28 extra nodes, 8 pruned nodes, max_depth=5\u001b[0m\n",
      "\u001b[34m[8]#011train-error:0.234733#011validation-error:0.2507\u001b[0m\n",
      "\u001b[34m[00:09:55] src/tree/updater_prune.cc:74: tree pruning end, 1 roots, 24 extra nodes, 8 pruned nodes, max_depth=5\u001b[0m\n",
      "\u001b[34m[9]#011train-error:0.230133#011validation-error:0.2448\u001b[0m\n",
      "\u001b[34m[00:09:56] src/tree/updater_prune.cc:74: tree pruning end, 1 roots, 28 extra nodes, 8 pruned nodes, max_depth=5\u001b[0m\n",
      "\u001b[34m[10]#011train-error:0.2246#011validation-error:0.2392\u001b[0m\n",
      "\u001b[34m[00:09:57] src/tree/updater_prune.cc:74: tree pruning end, 1 roots, 26 extra nodes, 14 pruned nodes, max_depth=5\u001b[0m\n",
      "\u001b[34m[11]#011train-error:0.2192#011validation-error:0.2343\u001b[0m\n",
      "\u001b[34m[00:09:59] src/tree/updater_prune.cc:74: tree pruning end, 1 roots, 26 extra nodes, 10 pruned nodes, max_depth=5\u001b[0m\n",
      "\u001b[34m[12]#011train-error:0.2148#011validation-error:0.2297\u001b[0m\n",
      "\u001b[34m[00:10:00] src/tree/updater_prune.cc:74: tree pruning end, 1 roots, 42 extra nodes, 8 pruned nodes, max_depth=5\u001b[0m\n",
      "\u001b[34m[13]#011train-error:0.210533#011validation-error:0.2258\u001b[0m\n",
      "\u001b[34m[00:10:01] src/tree/updater_prune.cc:74: tree pruning end, 1 roots, 38 extra nodes, 4 pruned nodes, max_depth=5\u001b[0m\n",
      "\u001b[34m[14]#011train-error:0.2032#011validation-error:0.222\u001b[0m\n",
      "\u001b[34m[00:10:02] src/tree/updater_prune.cc:74: tree pruning end, 1 roots, 22 extra nodes, 18 pruned nodes, max_depth=5\u001b[0m\n",
      "\u001b[34m[15]#011train-error:0.201933#011validation-error:0.2208\u001b[0m\n",
      "\u001b[34m[00:10:04] src/tree/updater_prune.cc:74: tree pruning end, 1 roots, 28 extra nodes, 10 pruned nodes, max_depth=5\u001b[0m\n",
      "\u001b[34m[16]#011train-error:0.1972#011validation-error:0.2197\u001b[0m\n",
      "\u001b[34m[00:10:05] src/tree/updater_prune.cc:74: tree pruning end, 1 roots, 24 extra nodes, 10 pruned nodes, max_depth=5\u001b[0m\n",
      "\u001b[34m[17]#011train-error:0.1944#011validation-error:0.217\u001b[0m\n",
      "\u001b[34m[00:10:06] src/tree/updater_prune.cc:74: tree pruning end, 1 roots, 26 extra nodes, 8 pruned nodes, max_depth=5\u001b[0m\n",
      "\u001b[34m[18]#011train-error:0.192#011validation-error:0.2142\u001b[0m\n",
      "\u001b[34m[00:10:08] src/tree/updater_prune.cc:74: tree pruning end, 1 roots, 24 extra nodes, 12 pruned nodes, max_depth=5\u001b[0m\n",
      "\u001b[34m[19]#011train-error:0.190867#011validation-error:0.2122\u001b[0m\n",
      "\u001b[34m[00:10:09] src/tree/updater_prune.cc:74: tree pruning end, 1 roots, 24 extra nodes, 14 pruned nodes, max_depth=5\u001b[0m\n",
      "\u001b[34m[20]#011train-error:0.188#011validation-error:0.2112\u001b[0m\n",
      "\u001b[34m[00:10:10] src/tree/updater_prune.cc:74: tree pruning end, 1 roots, 38 extra nodes, 0 pruned nodes, max_depth=5\u001b[0m\n",
      "\u001b[34m[21]#011train-error:0.1844#011validation-error:0.2076\u001b[0m\n",
      "\u001b[34m[00:10:11] src/tree/updater_prune.cc:74: tree pruning end, 1 roots, 48 extra nodes, 2 pruned nodes, max_depth=5\u001b[0m\n",
      "\u001b[34m[22]#011train-error:0.1822#011validation-error:0.2048\u001b[0m\n",
      "\u001b[34m[00:10:13] src/tree/updater_prune.cc:74: tree pruning end, 1 roots, 34 extra nodes, 10 pruned nodes, max_depth=5\u001b[0m\n",
      "\u001b[34m[23]#011train-error:0.1802#011validation-error:0.2033\u001b[0m\n",
      "\u001b[34m[00:10:14] src/tree/updater_prune.cc:74: tree pruning end, 1 roots, 22 extra nodes, 4 pruned nodes, max_depth=5\u001b[0m\n",
      "\u001b[34m[24]#011train-error:0.178#011validation-error:0.2023\u001b[0m\n",
      "\u001b[34m[00:10:15] src/tree/updater_prune.cc:74: tree pruning end, 1 roots, 20 extra nodes, 10 pruned nodes, max_depth=5\u001b[0m\n",
      "\u001b[34m[25]#011train-error:0.1752#011validation-error:0.2007\u001b[0m\n",
      "\u001b[34m[00:10:16] src/tree/updater_prune.cc:74: tree pruning end, 1 roots, 24 extra nodes, 10 pruned nodes, max_depth=5\u001b[0m\n",
      "\u001b[34m[26]#011train-error:0.172133#011validation-error:0.2009\u001b[0m\n",
      "\u001b[34m[00:10:18] src/tree/updater_prune.cc:74: tree pruning end, 1 roots, 18 extra nodes, 8 pruned nodes, max_depth=5\u001b[0m\n",
      "\u001b[34m[27]#011train-error:0.1724#011validation-error:0.2001\u001b[0m\n",
      "\u001b[34m[00:10:19] src/tree/updater_prune.cc:74: tree pruning end, 1 roots, 16 extra nodes, 12 pruned nodes, max_depth=5\u001b[0m\n",
      "\u001b[34m[28]#011train-error:0.169467#011validation-error:0.1985\u001b[0m\n",
      "\u001b[34m[00:10:20] src/tree/updater_prune.cc:74: tree pruning end, 1 roots, 22 extra nodes, 8 pruned nodes, max_depth=5\u001b[0m\n",
      "\u001b[34m[29]#011train-error:0.167467#011validation-error:0.1974\u001b[0m\n",
      "\u001b[34m[00:10:22] src/tree/updater_prune.cc:74: tree pruning end, 1 roots, 18 extra nodes, 12 pruned nodes, max_depth=5\u001b[0m\n",
      "\u001b[34m[30]#011train-error:0.165#011validation-error:0.1964\u001b[0m\n",
      "\u001b[34m[00:10:23] src/tree/updater_prune.cc:74: tree pruning end, 1 roots, 26 extra nodes, 12 pruned nodes, max_depth=5\u001b[0m\n",
      "\u001b[34m[31]#011train-error:0.163667#011validation-error:0.1943\u001b[0m\n",
      "\u001b[34m[00:10:24] src/tree/updater_prune.cc:74: tree pruning end, 1 roots, 28 extra nodes, 10 pruned nodes, max_depth=5\u001b[0m\n",
      "\u001b[34m[32]#011train-error:0.161667#011validation-error:0.1926\u001b[0m\n",
      "\u001b[34m[00:10:25] src/tree/updater_prune.cc:74: tree pruning end, 1 roots, 22 extra nodes, 10 pruned nodes, max_depth=5\u001b[0m\n",
      "\u001b[34m[33]#011train-error:0.160733#011validation-error:0.1906\u001b[0m\n",
      "\u001b[34m[00:10:27] src/tree/updater_prune.cc:74: tree pruning end, 1 roots, 26 extra nodes, 6 pruned nodes, max_depth=5\u001b[0m\n",
      "\u001b[34m[34]#011train-error:0.159533#011validation-error:0.1914\u001b[0m\n",
      "\u001b[34m[00:10:28] src/tree/updater_prune.cc:74: tree pruning end, 1 roots, 20 extra nodes, 6 pruned nodes, max_depth=5\u001b[0m\n",
      "\u001b[34m[35]#011train-error:0.1578#011validation-error:0.1895\u001b[0m\n",
      "\u001b[34m[00:10:29] src/tree/updater_prune.cc:74: tree pruning end, 1 roots, 28 extra nodes, 10 pruned nodes, max_depth=5\u001b[0m\n",
      "\u001b[34m[36]#011train-error:0.156733#011validation-error:0.1867\u001b[0m\n",
      "\u001b[34m[00:10:30] src/tree/updater_prune.cc:74: tree pruning end, 1 roots, 28 extra nodes, 14 pruned nodes, max_depth=5\u001b[0m\n",
      "\u001b[34m[37]#011train-error:0.1554#011validation-error:0.1847\u001b[0m\n",
      "\u001b[34m[00:10:32] src/tree/updater_prune.cc:74: tree pruning end, 1 roots, 26 extra nodes, 2 pruned nodes, max_depth=5\u001b[0m\n",
      "\u001b[34m[38]#011train-error:0.152333#011validation-error:0.1857\u001b[0m\n",
      "\u001b[34m[00:10:33] src/tree/updater_prune.cc:74: tree pruning end, 1 roots, 34 extra nodes, 4 pruned nodes, max_depth=5\u001b[0m\n",
      "\u001b[34m[39]#011train-error:0.1482#011validation-error:0.1845\u001b[0m\n"
     ]
    },
    {
     "name": "stdout",
     "output_type": "stream",
     "text": [
      "\u001b[34m[00:10:34] src/tree/updater_prune.cc:74: tree pruning end, 1 roots, 34 extra nodes, 4 pruned nodes, max_depth=5\u001b[0m\n",
      "\u001b[34m[40]#011train-error:0.148#011validation-error:0.1831\u001b[0m\n",
      "\u001b[34m[00:10:36] src/tree/updater_prune.cc:74: tree pruning end, 1 roots, 12 extra nodes, 8 pruned nodes, max_depth=5\u001b[0m\n",
      "\u001b[34m[41]#011train-error:0.147667#011validation-error:0.1831\u001b[0m\n",
      "\u001b[34m[00:10:37] src/tree/updater_prune.cc:74: tree pruning end, 1 roots, 28 extra nodes, 6 pruned nodes, max_depth=5\u001b[0m\n",
      "\u001b[34m[42]#011train-error:0.147067#011validation-error:0.1812\u001b[0m\n",
      "\u001b[34m[00:10:38] src/tree/updater_prune.cc:74: tree pruning end, 1 roots, 30 extra nodes, 14 pruned nodes, max_depth=5\u001b[0m\n",
      "\u001b[34m[43]#011train-error:0.145267#011validation-error:0.1793\u001b[0m\n",
      "\u001b[34m[00:10:39] src/tree/updater_prune.cc:74: tree pruning end, 1 roots, 26 extra nodes, 8 pruned nodes, max_depth=5\u001b[0m\n",
      "\u001b[34m[44]#011train-error:0.145#011validation-error:0.1787\u001b[0m\n",
      "\u001b[34m[00:10:41] src/tree/updater_prune.cc:74: tree pruning end, 1 roots, 34 extra nodes, 8 pruned nodes, max_depth=5\u001b[0m\n",
      "\u001b[34m[45]#011train-error:0.1428#011validation-error:0.1778\u001b[0m\n",
      "\u001b[34m[00:10:42] src/tree/updater_prune.cc:74: tree pruning end, 1 roots, 18 extra nodes, 12 pruned nodes, max_depth=5\u001b[0m\n",
      "\u001b[34m[46]#011train-error:0.142#011validation-error:0.1761\u001b[0m\n",
      "\u001b[34m[00:10:43] src/tree/updater_prune.cc:74: tree pruning end, 1 roots, 34 extra nodes, 2 pruned nodes, max_depth=5\u001b[0m\n",
      "\u001b[34m[47]#011train-error:0.141133#011validation-error:0.1765\u001b[0m\n",
      "\u001b[34m[00:10:44] src/tree/updater_prune.cc:74: tree pruning end, 1 roots, 16 extra nodes, 4 pruned nodes, max_depth=5\u001b[0m\n",
      "\u001b[34m[48]#011train-error:0.1396#011validation-error:0.1754\u001b[0m\n",
      "\u001b[34m[00:10:46] src/tree/updater_prune.cc:74: tree pruning end, 1 roots, 24 extra nodes, 8 pruned nodes, max_depth=5\u001b[0m\n",
      "\u001b[34m[49]#011train-error:0.138667#011validation-error:0.1753\u001b[0m\n",
      "\u001b[34m[00:10:47] src/tree/updater_prune.cc:74: tree pruning end, 1 roots, 16 extra nodes, 14 pruned nodes, max_depth=5\u001b[0m\n",
      "\u001b[34m[50]#011train-error:0.138133#011validation-error:0.1729\u001b[0m\n",
      "\u001b[34m[00:10:48] src/tree/updater_prune.cc:74: tree pruning end, 1 roots, 30 extra nodes, 8 pruned nodes, max_depth=5\u001b[0m\n",
      "\u001b[34m[51]#011train-error:0.136867#011validation-error:0.1725\u001b[0m\n",
      "\u001b[34m[00:10:50] src/tree/updater_prune.cc:74: tree pruning end, 1 roots, 18 extra nodes, 8 pruned nodes, max_depth=5\u001b[0m\n",
      "\u001b[34m[52]#011train-error:0.137133#011validation-error:0.1733\u001b[0m\n",
      "\u001b[34m[00:10:51] src/tree/updater_prune.cc:74: tree pruning end, 1 roots, 28 extra nodes, 4 pruned nodes, max_depth=5\u001b[0m\n",
      "\u001b[34m[53]#011train-error:0.1366#011validation-error:0.1736\u001b[0m\n",
      "\u001b[34m[00:10:52] src/tree/updater_prune.cc:74: tree pruning end, 1 roots, 30 extra nodes, 12 pruned nodes, max_depth=5\u001b[0m\n",
      "\u001b[34m[54]#011train-error:0.135067#011validation-error:0.1726\u001b[0m\n",
      "\u001b[34m[00:10:53] src/tree/updater_prune.cc:74: tree pruning end, 1 roots, 16 extra nodes, 4 pruned nodes, max_depth=5\u001b[0m\n",
      "\u001b[34m[55]#011train-error:0.134867#011validation-error:0.1697\u001b[0m\n",
      "\u001b[34m[00:10:55] src/tree/updater_prune.cc:74: tree pruning end, 1 roots, 18 extra nodes, 10 pruned nodes, max_depth=5\u001b[0m\n",
      "\u001b[34m[56]#011train-error:0.133733#011validation-error:0.1698\u001b[0m\n",
      "\u001b[34m[00:10:56] src/tree/updater_prune.cc:74: tree pruning end, 1 roots, 22 extra nodes, 6 pruned nodes, max_depth=5\u001b[0m\n",
      "\u001b[34m[57]#011train-error:0.1322#011validation-error:0.1689\u001b[0m\n",
      "\u001b[34m[00:10:57] src/tree/updater_prune.cc:74: tree pruning end, 1 roots, 24 extra nodes, 4 pruned nodes, max_depth=5\u001b[0m\n",
      "\u001b[34m[58]#011train-error:0.131267#011validation-error:0.1681\u001b[0m\n",
      "\u001b[34m[00:10:59] src/tree/updater_prune.cc:74: tree pruning end, 1 roots, 30 extra nodes, 18 pruned nodes, max_depth=5\u001b[0m\n",
      "\u001b[34m[59]#011train-error:0.1312#011validation-error:0.1682\u001b[0m\n",
      "\u001b[34m[00:11:00] src/tree/updater_prune.cc:74: tree pruning end, 1 roots, 18 extra nodes, 8 pruned nodes, max_depth=5\u001b[0m\n",
      "\u001b[34m[60]#011train-error:0.130333#011validation-error:0.1685\u001b[0m\n",
      "\u001b[34m[00:11:01] src/tree/updater_prune.cc:74: tree pruning end, 1 roots, 28 extra nodes, 8 pruned nodes, max_depth=5\u001b[0m\n",
      "\u001b[34m[61]#011train-error:0.129133#011validation-error:0.1679\u001b[0m\n",
      "\u001b[34m[00:11:02] src/tree/updater_prune.cc:74: tree pruning end, 1 roots, 12 extra nodes, 10 pruned nodes, max_depth=5\u001b[0m\n",
      "\u001b[34m[62]#011train-error:0.1294#011validation-error:0.1671\u001b[0m\n",
      "\u001b[34m[00:11:04] src/tree/updater_prune.cc:74: tree pruning end, 1 roots, 18 extra nodes, 4 pruned nodes, max_depth=5\u001b[0m\n",
      "\u001b[34m[63]#011train-error:0.128667#011validation-error:0.1689\u001b[0m\n",
      "\u001b[34m[00:11:05] src/tree/updater_prune.cc:74: tree pruning end, 1 roots, 18 extra nodes, 12 pruned nodes, max_depth=5\u001b[0m\n",
      "\u001b[34m[64]#011train-error:0.127467#011validation-error:0.1681\u001b[0m\n",
      "\u001b[34m[00:11:06] src/tree/updater_prune.cc:74: tree pruning end, 1 roots, 28 extra nodes, 4 pruned nodes, max_depth=5\u001b[0m\n",
      "\u001b[34m[65]#011train-error:0.126067#011validation-error:0.167\u001b[0m\n",
      "\u001b[34m[00:11:07] src/tree/updater_prune.cc:74: tree pruning end, 1 roots, 20 extra nodes, 8 pruned nodes, max_depth=5\u001b[0m\n",
      "\u001b[34m[66]#011train-error:0.125867#011validation-error:0.1648\u001b[0m\n",
      "\u001b[34m[00:11:09] src/tree/updater_prune.cc:74: tree pruning end, 1 roots, 16 extra nodes, 10 pruned nodes, max_depth=5\u001b[0m\n",
      "\u001b[34m[67]#011train-error:0.1248#011validation-error:0.1634\u001b[0m\n",
      "\u001b[34m[00:11:10] src/tree/updater_prune.cc:74: tree pruning end, 1 roots, 16 extra nodes, 2 pruned nodes, max_depth=5\u001b[0m\n",
      "\u001b[34m[68]#011train-error:0.123267#011validation-error:0.1629\u001b[0m\n",
      "\u001b[34m[00:11:11] src/tree/updater_prune.cc:74: tree pruning end, 1 roots, 30 extra nodes, 0 pruned nodes, max_depth=5\u001b[0m\n",
      "\u001b[34m[69]#011train-error:0.122267#011validation-error:0.1634\u001b[0m\n",
      "\u001b[34m[00:11:13] src/tree/updater_prune.cc:74: tree pruning end, 1 roots, 40 extra nodes, 14 pruned nodes, max_depth=5\u001b[0m\n",
      "\u001b[34m[70]#011train-error:0.1208#011validation-error:0.1643\u001b[0m\n",
      "\u001b[34m[00:11:14] src/tree/updater_prune.cc:74: tree pruning end, 1 roots, 26 extra nodes, 10 pruned nodes, max_depth=5\u001b[0m\n",
      "\u001b[34m[71]#011train-error:0.120867#011validation-error:0.1644\u001b[0m\n",
      "\u001b[34m[00:11:15] src/tree/updater_prune.cc:74: tree pruning end, 1 roots, 18 extra nodes, 10 pruned nodes, max_depth=5\u001b[0m\n",
      "\u001b[34m[72]#011train-error:0.121267#011validation-error:0.1629\u001b[0m\n",
      "\u001b[34m[00:11:16] src/tree/updater_prune.cc:74: tree pruning end, 1 roots, 18 extra nodes, 16 pruned nodes, max_depth=5\u001b[0m\n",
      "\u001b[34m[73]#011train-error:0.1208#011validation-error:0.1622\u001b[0m\n",
      "\u001b[34m[00:11:18] src/tree/updater_prune.cc:74: tree pruning end, 1 roots, 28 extra nodes, 12 pruned nodes, max_depth=5\u001b[0m\n",
      "\u001b[34m[74]#011train-error:0.118533#011validation-error:0.1619\u001b[0m\n",
      "\u001b[34m[00:11:19] src/tree/updater_prune.cc:74: tree pruning end, 1 roots, 12 extra nodes, 2 pruned nodes, max_depth=5\u001b[0m\n",
      "\u001b[34m[75]#011train-error:0.118333#011validation-error:0.1612\u001b[0m\n",
      "\u001b[34m[00:11:20] src/tree/updater_prune.cc:74: tree pruning end, 1 roots, 18 extra nodes, 12 pruned nodes, max_depth=5\u001b[0m\n",
      "\u001b[34m[76]#011train-error:0.116933#011validation-error:0.1617\u001b[0m\n",
      "\u001b[34m[00:11:21] src/tree/updater_prune.cc:74: tree pruning end, 1 roots, 12 extra nodes, 8 pruned nodes, max_depth=5\u001b[0m\n",
      "\u001b[34m[77]#011train-error:0.115867#011validation-error:0.1612\u001b[0m\n",
      "\u001b[34m[00:11:23] src/tree/updater_prune.cc:74: tree pruning end, 1 roots, 24 extra nodes, 6 pruned nodes, max_depth=5\u001b[0m\n",
      "\u001b[34m[78]#011train-error:0.115467#011validation-error:0.161\u001b[0m\n",
      "\u001b[34m[00:11:24] src/tree/updater_prune.cc:74: tree pruning end, 1 roots, 18 extra nodes, 12 pruned nodes, max_depth=5\u001b[0m\n",
      "\u001b[34m[79]#011train-error:0.1142#011validation-error:0.1601\u001b[0m\n",
      "\u001b[34m[00:11:25] src/tree/updater_prune.cc:74: tree pruning end, 1 roots, 18 extra nodes, 8 pruned nodes, max_depth=5\u001b[0m\n",
      "\u001b[34m[80]#011train-error:0.113933#011validation-error:0.1587\u001b[0m\n",
      "\u001b[34m[00:11:27] src/tree/updater_prune.cc:74: tree pruning end, 1 roots, 20 extra nodes, 6 pruned nodes, max_depth=5\u001b[0m\n",
      "\u001b[34m[81]#011train-error:0.112467#011validation-error:0.1579\u001b[0m\n",
      "\u001b[34m[00:11:28] src/tree/updater_prune.cc:74: tree pruning end, 1 roots, 16 extra nodes, 10 pruned nodes, max_depth=5\u001b[0m\n",
      "\u001b[34m[82]#011train-error:0.112733#011validation-error:0.1577\u001b[0m\n",
      "\u001b[34m[00:11:29] src/tree/updater_prune.cc:74: tree pruning end, 1 roots, 12 extra nodes, 10 pruned nodes, max_depth=5\u001b[0m\n",
      "\u001b[34m[83]#011train-error:0.112#011validation-error:0.1572\u001b[0m\n",
      "\u001b[34m[00:11:30] src/tree/updater_prune.cc:74: tree pruning end, 1 roots, 26 extra nodes, 4 pruned nodes, max_depth=5\u001b[0m\n",
      "\u001b[34m[84]#011train-error:0.111667#011validation-error:0.1564\u001b[0m\n",
      "\u001b[34m[00:11:32] src/tree/updater_prune.cc:74: tree pruning end, 1 roots, 24 extra nodes, 2 pruned nodes, max_depth=5\u001b[0m\n",
      "\u001b[34m[85]#011train-error:0.111867#011validation-error:0.1557\u001b[0m\n",
      "\u001b[34m[00:11:33] src/tree/updater_prune.cc:74: tree pruning end, 1 roots, 20 extra nodes, 10 pruned nodes, max_depth=5\u001b[0m\n",
      "\u001b[34m[86]#011train-error:0.111267#011validation-error:0.1555\u001b[0m\n",
      "\u001b[34m[00:11:34] src/tree/updater_prune.cc:74: tree pruning end, 1 roots, 14 extra nodes, 8 pruned nodes, max_depth=5\u001b[0m\n",
      "\u001b[34m[87]#011train-error:0.1108#011validation-error:0.1549\u001b[0m\n"
     ]
    },
    {
     "name": "stdout",
     "output_type": "stream",
     "text": [
      "\u001b[34m[00:11:36] src/tree/updater_prune.cc:74: tree pruning end, 1 roots, 12 extra nodes, 10 pruned nodes, max_depth=5\u001b[0m\n",
      "\u001b[34m[88]#011train-error:0.110067#011validation-error:0.1549\u001b[0m\n",
      "\u001b[34m[00:11:37] src/tree/updater_prune.cc:74: tree pruning end, 1 roots, 10 extra nodes, 2 pruned nodes, max_depth=5\u001b[0m\n",
      "\u001b[34m[89]#011train-error:0.1096#011validation-error:0.1545\u001b[0m\n",
      "\u001b[34m[00:11:38] src/tree/updater_prune.cc:74: tree pruning end, 1 roots, 24 extra nodes, 6 pruned nodes, max_depth=5\u001b[0m\n",
      "\u001b[34m[90]#011train-error:0.1092#011validation-error:0.1551\u001b[0m\n",
      "\u001b[34m[00:11:39] src/tree/updater_prune.cc:74: tree pruning end, 1 roots, 12 extra nodes, 8 pruned nodes, max_depth=5\u001b[0m\n",
      "\u001b[34m[91]#011train-error:0.109067#011validation-error:0.1564\u001b[0m\n",
      "\u001b[34m[00:11:41] src/tree/updater_prune.cc:74: tree pruning end, 1 roots, 22 extra nodes, 8 pruned nodes, max_depth=5\u001b[0m\n",
      "\u001b[34m[92]#011train-error:0.1076#011validation-error:0.1549\u001b[0m\n",
      "\u001b[34m[00:11:42] src/tree/updater_prune.cc:74: tree pruning end, 1 roots, 18 extra nodes, 10 pruned nodes, max_depth=5\u001b[0m\n",
      "\u001b[34m[93]#011train-error:0.107867#011validation-error:0.1552\u001b[0m\n",
      "\u001b[34m[00:11:43] src/tree/updater_prune.cc:74: tree pruning end, 1 roots, 14 extra nodes, 8 pruned nodes, max_depth=5\u001b[0m\n",
      "\u001b[34m[94]#011train-error:0.107533#011validation-error:0.1547\u001b[0m\n",
      "\u001b[34m[00:11:44] src/tree/updater_prune.cc:74: tree pruning end, 1 roots, 22 extra nodes, 16 pruned nodes, max_depth=5\u001b[0m\n",
      "\u001b[34m[95]#011train-error:0.106667#011validation-error:0.1547\u001b[0m\n",
      "\u001b[34m[00:11:46] src/tree/updater_prune.cc:74: tree pruning end, 1 roots, 16 extra nodes, 20 pruned nodes, max_depth=5\u001b[0m\n",
      "\u001b[34m[96]#011train-error:0.106333#011validation-error:0.1535\u001b[0m\n",
      "\u001b[34m[00:11:47] src/tree/updater_prune.cc:74: tree pruning end, 1 roots, 12 extra nodes, 6 pruned nodes, max_depth=5\u001b[0m\n",
      "\u001b[34m[97]#011train-error:0.106333#011validation-error:0.1532\u001b[0m\n",
      "\u001b[34m[00:11:48] src/tree/updater_prune.cc:74: tree pruning end, 1 roots, 18 extra nodes, 12 pruned nodes, max_depth=5\u001b[0m\n",
      "\u001b[34m[98]#011train-error:0.105733#011validation-error:0.1527\u001b[0m\n",
      "\u001b[34m[00:11:50] src/tree/updater_prune.cc:74: tree pruning end, 1 roots, 20 extra nodes, 8 pruned nodes, max_depth=5\u001b[0m\n",
      "\u001b[34m[99]#011train-error:0.105333#011validation-error:0.1528\u001b[0m\n",
      "\u001b[34m[00:11:51] src/tree/updater_prune.cc:74: tree pruning end, 1 roots, 14 extra nodes, 2 pruned nodes, max_depth=5\u001b[0m\n",
      "\u001b[34m[100]#011train-error:0.1046#011validation-error:0.1525\u001b[0m\n",
      "\u001b[34m[00:11:52] src/tree/updater_prune.cc:74: tree pruning end, 1 roots, 10 extra nodes, 10 pruned nodes, max_depth=5\u001b[0m\n",
      "\u001b[34m[101]#011train-error:0.104867#011validation-error:0.1517\u001b[0m\n",
      "\u001b[34m[00:11:53] src/tree/updater_prune.cc:74: tree pruning end, 1 roots, 18 extra nodes, 8 pruned nodes, max_depth=5\u001b[0m\n",
      "\u001b[34m[102]#011train-error:0.1036#011validation-error:0.1512\u001b[0m\n",
      "\u001b[34m[00:11:55] src/tree/updater_prune.cc:74: tree pruning end, 1 roots, 20 extra nodes, 4 pruned nodes, max_depth=5\u001b[0m\n",
      "\u001b[34m[103]#011train-error:0.1024#011validation-error:0.1497\u001b[0m\n",
      "\u001b[34m[00:11:56] src/tree/updater_prune.cc:74: tree pruning end, 1 roots, 12 extra nodes, 6 pruned nodes, max_depth=5\u001b[0m\n",
      "\u001b[34m[104]#011train-error:0.1018#011validation-error:0.1499\u001b[0m\n",
      "\u001b[34m[00:11:57] src/tree/updater_prune.cc:74: tree pruning end, 1 roots, 12 extra nodes, 4 pruned nodes, max_depth=5\u001b[0m\n",
      "\u001b[34m[105]#011train-error:0.1014#011validation-error:0.1503\u001b[0m\n",
      "\u001b[34m[00:11:59] src/tree/updater_prune.cc:74: tree pruning end, 1 roots, 14 extra nodes, 8 pruned nodes, max_depth=5\u001b[0m\n",
      "\u001b[34m[106]#011train-error:0.101333#011validation-error:0.1499\u001b[0m\n",
      "\u001b[34m[00:12:00] src/tree/updater_prune.cc:74: tree pruning end, 1 roots, 22 extra nodes, 10 pruned nodes, max_depth=5\u001b[0m\n",
      "\u001b[34m[107]#011train-error:0.100667#011validation-error:0.1491\u001b[0m\n",
      "\u001b[34m[00:12:01] src/tree/updater_prune.cc:74: tree pruning end, 1 roots, 18 extra nodes, 14 pruned nodes, max_depth=5\u001b[0m\n",
      "\u001b[34m[108]#011train-error:0.099733#011validation-error:0.1487\u001b[0m\n",
      "\u001b[34m[00:12:02] src/tree/updater_prune.cc:74: tree pruning end, 1 roots, 12 extra nodes, 2 pruned nodes, max_depth=5\u001b[0m\n",
      "\u001b[34m[109]#011train-error:0.099267#011validation-error:0.1486\u001b[0m\n",
      "\u001b[34m[00:12:04] src/tree/updater_prune.cc:74: tree pruning end, 1 roots, 26 extra nodes, 14 pruned nodes, max_depth=5\u001b[0m\n",
      "\u001b[34m[110]#011train-error:0.0982#011validation-error:0.1488\u001b[0m\n",
      "\u001b[34m[00:12:05] src/tree/updater_prune.cc:74: tree pruning end, 1 roots, 12 extra nodes, 4 pruned nodes, max_depth=5\u001b[0m\n",
      "\u001b[34m[111]#011train-error:0.097667#011validation-error:0.1494\u001b[0m\n",
      "\u001b[34m[00:12:06] src/tree/updater_prune.cc:74: tree pruning end, 1 roots, 24 extra nodes, 0 pruned nodes, max_depth=5\u001b[0m\n",
      "\u001b[34m[112]#011train-error:0.097133#011validation-error:0.1481\u001b[0m\n",
      "\u001b[34m[00:12:07] src/tree/updater_prune.cc:74: tree pruning end, 1 roots, 22 extra nodes, 10 pruned nodes, max_depth=5\u001b[0m\n",
      "\u001b[34m[113]#011train-error:0.096467#011validation-error:0.1491\u001b[0m\n",
      "\u001b[34m[00:12:09] src/tree/updater_prune.cc:74: tree pruning end, 1 roots, 16 extra nodes, 4 pruned nodes, max_depth=5\u001b[0m\n",
      "\u001b[34m[114]#011train-error:0.095667#011validation-error:0.1487\u001b[0m\n",
      "\u001b[34m[00:12:10] src/tree/updater_prune.cc:74: tree pruning end, 1 roots, 10 extra nodes, 14 pruned nodes, max_depth=5\u001b[0m\n",
      "\u001b[34m[115]#011train-error:0.0964#011validation-error:0.1489\u001b[0m\n",
      "\u001b[34m[00:12:11] src/tree/updater_prune.cc:74: tree pruning end, 1 roots, 30 extra nodes, 6 pruned nodes, max_depth=5\u001b[0m\n",
      "\u001b[34m[116]#011train-error:0.094933#011validation-error:0.1491\u001b[0m\n",
      "\u001b[34m[00:12:12] src/tree/updater_prune.cc:74: tree pruning end, 1 roots, 26 extra nodes, 10 pruned nodes, max_depth=5\u001b[0m\n",
      "\u001b[34m[117]#011train-error:0.0936#011validation-error:0.1488\u001b[0m\n",
      "\u001b[34m[00:12:14] src/tree/updater_prune.cc:74: tree pruning end, 1 roots, 16 extra nodes, 12 pruned nodes, max_depth=5\u001b[0m\n",
      "\u001b[34m[118]#011train-error:0.0932#011validation-error:0.1491\u001b[0m\n",
      "\u001b[34m[00:12:15] src/tree/updater_prune.cc:74: tree pruning end, 1 roots, 16 extra nodes, 8 pruned nodes, max_depth=5\u001b[0m\n",
      "\u001b[34m[119]#011train-error:0.093533#011validation-error:0.1482\u001b[0m\n",
      "\u001b[34m[00:12:16] src/tree/updater_prune.cc:74: tree pruning end, 1 roots, 12 extra nodes, 4 pruned nodes, max_depth=5\u001b[0m\n",
      "\u001b[34m[120]#011train-error:0.092867#011validation-error:0.1476\u001b[0m\n",
      "\u001b[34m[00:12:17] src/tree/updater_prune.cc:74: tree pruning end, 1 roots, 10 extra nodes, 10 pruned nodes, max_depth=5\u001b[0m\n",
      "\u001b[34m[121]#011train-error:0.092733#011validation-error:0.1469\u001b[0m\n",
      "\u001b[34m[00:12:19] src/tree/updater_prune.cc:74: tree pruning end, 1 roots, 10 extra nodes, 2 pruned nodes, max_depth=5\u001b[0m\n",
      "\u001b[34m[122]#011train-error:0.092333#011validation-error:0.1468\u001b[0m\n",
      "\u001b[34m[00:12:20] src/tree/updater_prune.cc:74: tree pruning end, 1 roots, 10 extra nodes, 14 pruned nodes, max_depth=5\u001b[0m\n",
      "\u001b[34m[123]#011train-error:0.091933#011validation-error:0.1466\u001b[0m\n",
      "\u001b[34m[00:12:21] src/tree/updater_prune.cc:74: tree pruning end, 1 roots, 24 extra nodes, 10 pruned nodes, max_depth=5\u001b[0m\n",
      "\u001b[34m[124]#011train-error:0.091267#011validation-error:0.1461\u001b[0m\n",
      "\u001b[34m[00:12:23] src/tree/updater_prune.cc:74: tree pruning end, 1 roots, 22 extra nodes, 8 pruned nodes, max_depth=5\u001b[0m\n",
      "\u001b[34m[125]#011train-error:0.091667#011validation-error:0.146\u001b[0m\n",
      "\u001b[34m[00:12:24] src/tree/updater_prune.cc:74: tree pruning end, 1 roots, 10 extra nodes, 8 pruned nodes, max_depth=5\u001b[0m\n",
      "\u001b[34m[126]#011train-error:0.091333#011validation-error:0.1454\u001b[0m\n",
      "\u001b[34m[00:12:25] src/tree/updater_prune.cc:74: tree pruning end, 1 roots, 16 extra nodes, 4 pruned nodes, max_depth=5\u001b[0m\n",
      "\u001b[34m[127]#011train-error:0.091533#011validation-error:0.1452\u001b[0m\n",
      "\u001b[34m[00:12:26] src/tree/updater_prune.cc:74: tree pruning end, 1 roots, 16 extra nodes, 12 pruned nodes, max_depth=5\u001b[0m\n",
      "\u001b[34m[128]#011train-error:0.091067#011validation-error:0.1449\u001b[0m\n",
      "\u001b[34m[00:12:28] src/tree/updater_prune.cc:74: tree pruning end, 1 roots, 22 extra nodes, 6 pruned nodes, max_depth=5\u001b[0m\n",
      "\u001b[34m[129]#011train-error:0.0908#011validation-error:0.1441\u001b[0m\n",
      "\u001b[34m[00:12:29] src/tree/updater_prune.cc:74: tree pruning end, 1 roots, 18 extra nodes, 8 pruned nodes, max_depth=5\u001b[0m\n",
      "\u001b[34m[130]#011train-error:0.090667#011validation-error:0.1447\u001b[0m\n",
      "\u001b[34m[00:12:30] src/tree/updater_prune.cc:74: tree pruning end, 1 roots, 16 extra nodes, 6 pruned nodes, max_depth=5\u001b[0m\n",
      "\u001b[34m[131]#011train-error:0.0906#011validation-error:0.1445\u001b[0m\n",
      "\u001b[34m[00:12:31] src/tree/updater_prune.cc:74: tree pruning end, 1 roots, 16 extra nodes, 10 pruned nodes, max_depth=5\u001b[0m\n",
      "\u001b[34m[132]#011train-error:0.090267#011validation-error:0.1443\u001b[0m\n",
      "\u001b[34m[00:12:33] src/tree/updater_prune.cc:74: tree pruning end, 1 roots, 12 extra nodes, 6 pruned nodes, max_depth=5\u001b[0m\n",
      "\u001b[34m[133]#011train-error:0.0898#011validation-error:0.1445\u001b[0m\n",
      "\u001b[34m[00:12:34] src/tree/updater_prune.cc:74: tree pruning end, 1 roots, 16 extra nodes, 10 pruned nodes, max_depth=5\u001b[0m\n",
      "\u001b[34m[134]#011train-error:0.090133#011validation-error:0.1445\u001b[0m\n",
      "\u001b[34m[00:12:35] src/tree/updater_prune.cc:74: tree pruning end, 1 roots, 14 extra nodes, 14 pruned nodes, max_depth=5\u001b[0m\n",
      "\u001b[34m[135]#011train-error:0.089667#011validation-error:0.1443\u001b[0m\n"
     ]
    },
    {
     "name": "stdout",
     "output_type": "stream",
     "text": [
      "\u001b[34m[00:12:37] src/tree/updater_prune.cc:74: tree pruning end, 1 roots, 14 extra nodes, 4 pruned nodes, max_depth=5\u001b[0m\n",
      "\u001b[34m[136]#011train-error:0.090133#011validation-error:0.1436\u001b[0m\n",
      "\u001b[34m[00:12:38] src/tree/updater_prune.cc:74: tree pruning end, 1 roots, 22 extra nodes, 6 pruned nodes, max_depth=5\u001b[0m\n",
      "\u001b[34m[137]#011train-error:0.088867#011validation-error:0.1435\u001b[0m\n",
      "\u001b[34m[00:12:39] src/tree/updater_prune.cc:74: tree pruning end, 1 roots, 20 extra nodes, 14 pruned nodes, max_depth=5\u001b[0m\n",
      "\u001b[34m[138]#011train-error:0.0888#011validation-error:0.143\u001b[0m\n",
      "\u001b[34m[00:12:40] src/tree/updater_prune.cc:74: tree pruning end, 1 roots, 10 extra nodes, 4 pruned nodes, max_depth=5\u001b[0m\n",
      "\u001b[34m[139]#011train-error:0.088267#011validation-error:0.1419\u001b[0m\n",
      "\u001b[34m[00:12:42] src/tree/updater_prune.cc:74: tree pruning end, 1 roots, 32 extra nodes, 10 pruned nodes, max_depth=5\u001b[0m\n",
      "\u001b[34m[140]#011train-error:0.088133#011validation-error:0.1428\u001b[0m\n",
      "\u001b[34m[00:12:43] src/tree/updater_prune.cc:74: tree pruning end, 1 roots, 12 extra nodes, 0 pruned nodes, max_depth=5\u001b[0m\n",
      "\u001b[34m[141]#011train-error:0.088#011validation-error:0.1433\u001b[0m\n",
      "\u001b[34m[00:12:44] src/tree/updater_prune.cc:74: tree pruning end, 1 roots, 16 extra nodes, 6 pruned nodes, max_depth=5\u001b[0m\n",
      "\u001b[34m[142]#011train-error:0.088#011validation-error:0.1438\u001b[0m\n",
      "\u001b[34m[00:12:45] src/tree/updater_prune.cc:74: tree pruning end, 1 roots, 10 extra nodes, 4 pruned nodes, max_depth=5\u001b[0m\n",
      "\u001b[34m[143]#011train-error:0.087867#011validation-error:0.1433\u001b[0m\n",
      "\u001b[34m[00:12:47] src/tree/updater_prune.cc:74: tree pruning end, 1 roots, 14 extra nodes, 14 pruned nodes, max_depth=5\u001b[0m\n",
      "\u001b[34m[144]#011train-error:0.087933#011validation-error:0.1436\u001b[0m\n",
      "\u001b[34m[00:12:48] src/tree/updater_prune.cc:74: tree pruning end, 1 roots, 24 extra nodes, 8 pruned nodes, max_depth=5\u001b[0m\n",
      "\u001b[34m[145]#011train-error:0.087333#011validation-error:0.1426\u001b[0m\n",
      "\u001b[34m[00:12:49] src/tree/updater_prune.cc:74: tree pruning end, 1 roots, 14 extra nodes, 14 pruned nodes, max_depth=5\u001b[0m\n",
      "\u001b[34m[146]#011train-error:0.086667#011validation-error:0.1419\u001b[0m\n",
      "\u001b[34m[00:12:50] src/tree/updater_prune.cc:74: tree pruning end, 1 roots, 12 extra nodes, 8 pruned nodes, max_depth=5\u001b[0m\n",
      "\u001b[34m[147]#011train-error:0.086867#011validation-error:0.1429\u001b[0m\n",
      "\u001b[34m[00:12:52] src/tree/updater_prune.cc:74: tree pruning end, 1 roots, 14 extra nodes, 6 pruned nodes, max_depth=5\u001b[0m\n",
      "\u001b[34m[148]#011train-error:0.086267#011validation-error:0.1421\u001b[0m\n",
      "\u001b[34m[00:12:53] src/tree/updater_prune.cc:74: tree pruning end, 1 roots, 14 extra nodes, 6 pruned nodes, max_depth=5\u001b[0m\n",
      "\u001b[34m[149]#011train-error:0.086267#011validation-error:0.1415\u001b[0m\n",
      "\u001b[34m[00:12:54] src/tree/updater_prune.cc:74: tree pruning end, 1 roots, 20 extra nodes, 6 pruned nodes, max_depth=5\u001b[0m\n",
      "\u001b[34m[150]#011train-error:0.086#011validation-error:0.1417\u001b[0m\n",
      "\u001b[34m[00:12:55] src/tree/updater_prune.cc:74: tree pruning end, 1 roots, 14 extra nodes, 20 pruned nodes, max_depth=5\u001b[0m\n",
      "\u001b[34m[151]#011train-error:0.085267#011validation-error:0.1413\u001b[0m\n",
      "\u001b[34m[00:12:57] src/tree/updater_prune.cc:74: tree pruning end, 1 roots, 16 extra nodes, 6 pruned nodes, max_depth=5\u001b[0m\n",
      "\u001b[34m[152]#011train-error:0.084867#011validation-error:0.1415\u001b[0m\n",
      "\u001b[34m[00:12:58] src/tree/updater_prune.cc:74: tree pruning end, 1 roots, 14 extra nodes, 12 pruned nodes, max_depth=5\u001b[0m\n",
      "\u001b[34m[153]#011train-error:0.0846#011validation-error:0.1418\u001b[0m\n",
      "\u001b[34m[00:12:59] src/tree/updater_prune.cc:74: tree pruning end, 1 roots, 24 extra nodes, 14 pruned nodes, max_depth=5\u001b[0m\n",
      "\u001b[34m[154]#011train-error:0.084133#011validation-error:0.1415\u001b[0m\n",
      "\u001b[34m[00:13:01] src/tree/updater_prune.cc:74: tree pruning end, 1 roots, 12 extra nodes, 4 pruned nodes, max_depth=5\u001b[0m\n",
      "\u001b[34m[155]#011train-error:0.084#011validation-error:0.1416\u001b[0m\n",
      "\u001b[34m[00:13:02] src/tree/updater_prune.cc:74: tree pruning end, 1 roots, 12 extra nodes, 8 pruned nodes, max_depth=5\u001b[0m\n",
      "\u001b[34m[156]#011train-error:0.083867#011validation-error:0.1407\u001b[0m\n",
      "\u001b[34m[00:13:03] src/tree/updater_prune.cc:74: tree pruning end, 1 roots, 26 extra nodes, 4 pruned nodes, max_depth=5\u001b[0m\n",
      "\u001b[34m[157]#011train-error:0.083333#011validation-error:0.14\u001b[0m\n",
      "\u001b[34m[00:13:04] src/tree/updater_prune.cc:74: tree pruning end, 1 roots, 12 extra nodes, 10 pruned nodes, max_depth=5\u001b[0m\n",
      "\u001b[34m[158]#011train-error:0.0834#011validation-error:0.1398\u001b[0m\n",
      "\u001b[34m[00:13:06] src/tree/updater_prune.cc:74: tree pruning end, 1 roots, 20 extra nodes, 10 pruned nodes, max_depth=5\u001b[0m\n",
      "\u001b[34m[159]#011train-error:0.083#011validation-error:0.1389\u001b[0m\n",
      "\u001b[34m[00:13:07] src/tree/updater_prune.cc:74: tree pruning end, 1 roots, 14 extra nodes, 2 pruned nodes, max_depth=5\u001b[0m\n",
      "\u001b[34m[160]#011train-error:0.082733#011validation-error:0.139\u001b[0m\n",
      "\u001b[34m[00:13:08] src/tree/updater_prune.cc:74: tree pruning end, 1 roots, 14 extra nodes, 16 pruned nodes, max_depth=5\u001b[0m\n",
      "\u001b[34m[161]#011train-error:0.0826#011validation-error:0.139\u001b[0m\n",
      "\u001b[34m[00:13:09] src/tree/updater_prune.cc:74: tree pruning end, 1 roots, 18 extra nodes, 10 pruned nodes, max_depth=5\u001b[0m\n",
      "\u001b[34m[162]#011train-error:0.082#011validation-error:0.1388\u001b[0m\n",
      "\u001b[34m[00:13:11] src/tree/updater_prune.cc:74: tree pruning end, 1 roots, 16 extra nodes, 2 pruned nodes, max_depth=5\u001b[0m\n",
      "\u001b[34m[163]#011train-error:0.081133#011validation-error:0.1381\u001b[0m\n",
      "\u001b[34m[00:13:12] src/tree/updater_prune.cc:74: tree pruning end, 1 roots, 14 extra nodes, 6 pruned nodes, max_depth=5\u001b[0m\n",
      "\u001b[34m[164]#011train-error:0.080867#011validation-error:0.1383\u001b[0m\n",
      "\u001b[34m[00:13:13] src/tree/updater_prune.cc:74: tree pruning end, 1 roots, 12 extra nodes, 10 pruned nodes, max_depth=5\u001b[0m\n",
      "\u001b[34m[165]#011train-error:0.081#011validation-error:0.1373\u001b[0m\n",
      "\u001b[34m[00:13:14] src/tree/updater_prune.cc:74: tree pruning end, 1 roots, 12 extra nodes, 6 pruned nodes, max_depth=5\u001b[0m\n",
      "\u001b[34m[166]#011train-error:0.080933#011validation-error:0.1367\u001b[0m\n",
      "\u001b[34m[00:13:16] src/tree/updater_prune.cc:74: tree pruning end, 1 roots, 28 extra nodes, 12 pruned nodes, max_depth=5\u001b[0m\n",
      "\u001b[34m[167]#011train-error:0.0802#011validation-error:0.1361\u001b[0m\n",
      "\u001b[34m[00:13:17] src/tree/updater_prune.cc:74: tree pruning end, 1 roots, 10 extra nodes, 4 pruned nodes, max_depth=5\u001b[0m\n",
      "\u001b[34m[168]#011train-error:0.079933#011validation-error:0.1363\u001b[0m\n",
      "\u001b[34m[00:13:18] src/tree/updater_prune.cc:74: tree pruning end, 1 roots, 24 extra nodes, 6 pruned nodes, max_depth=5\u001b[0m\n",
      "\u001b[34m[169]#011train-error:0.080067#011validation-error:0.1372\u001b[0m\n",
      "\u001b[34m[00:13:19] src/tree/updater_prune.cc:74: tree pruning end, 1 roots, 18 extra nodes, 8 pruned nodes, max_depth=5\u001b[0m\n",
      "\u001b[34m[170]#011train-error:0.079933#011validation-error:0.1367\u001b[0m\n",
      "\u001b[34m[00:13:21] src/tree/updater_prune.cc:74: tree pruning end, 1 roots, 24 extra nodes, 8 pruned nodes, max_depth=5\u001b[0m\n",
      "\u001b[34m[171]#011train-error:0.080133#011validation-error:0.1372\u001b[0m\n",
      "\u001b[34m[00:13:22] src/tree/updater_prune.cc:74: tree pruning end, 1 roots, 20 extra nodes, 8 pruned nodes, max_depth=5\u001b[0m\n",
      "\u001b[34m[172]#011train-error:0.079#011validation-error:0.1362\u001b[0m\n",
      "\u001b[34m[00:13:23] src/tree/updater_prune.cc:74: tree pruning end, 1 roots, 22 extra nodes, 2 pruned nodes, max_depth=5\u001b[0m\n",
      "\u001b[34m[173]#011train-error:0.0784#011validation-error:0.1362\u001b[0m\n",
      "\u001b[34m[00:13:25] src/tree/updater_prune.cc:74: tree pruning end, 1 roots, 12 extra nodes, 12 pruned nodes, max_depth=5\u001b[0m\n",
      "\u001b[34m[174]#011train-error:0.078333#011validation-error:0.1357\u001b[0m\n",
      "\u001b[34m[00:13:26] src/tree/updater_prune.cc:74: tree pruning end, 1 roots, 14 extra nodes, 10 pruned nodes, max_depth=5\u001b[0m\n",
      "\u001b[34m[175]#011train-error:0.078267#011validation-error:0.1361\u001b[0m\n",
      "\u001b[34m[00:13:27] src/tree/updater_prune.cc:74: tree pruning end, 1 roots, 20 extra nodes, 12 pruned nodes, max_depth=5\u001b[0m\n",
      "\u001b[34m[176]#011train-error:0.078#011validation-error:0.1355\u001b[0m\n",
      "\u001b[34m[00:13:28] src/tree/updater_prune.cc:74: tree pruning end, 1 roots, 10 extra nodes, 2 pruned nodes, max_depth=5\u001b[0m\n",
      "\u001b[34m[177]#011train-error:0.077333#011validation-error:0.1357\u001b[0m\n",
      "\u001b[34m[00:13:30] src/tree/updater_prune.cc:74: tree pruning end, 1 roots, 10 extra nodes, 12 pruned nodes, max_depth=5\u001b[0m\n",
      "\u001b[34m[178]#011train-error:0.077#011validation-error:0.1355\u001b[0m\n",
      "\u001b[34m[00:13:31] src/tree/updater_prune.cc:74: tree pruning end, 1 roots, 20 extra nodes, 12 pruned nodes, max_depth=5\u001b[0m\n",
      "\u001b[34m[179]#011train-error:0.076467#011validation-error:0.1356\u001b[0m\n"
     ]
    },
    {
     "name": "stdout",
     "output_type": "stream",
     "text": [
      "\u001b[34m[00:13:32] src/tree/updater_prune.cc:74: tree pruning end, 1 roots, 22 extra nodes, 14 pruned nodes, max_depth=5\u001b[0m\n",
      "\u001b[34m[180]#011train-error:0.076533#011validation-error:0.1359\u001b[0m\n",
      "\u001b[34m[00:13:33] src/tree/updater_prune.cc:74: tree pruning end, 1 roots, 14 extra nodes, 8 pruned nodes, max_depth=5\u001b[0m\n",
      "\u001b[34m[181]#011train-error:0.075933#011validation-error:0.1367\u001b[0m\n",
      "\u001b[34m[00:13:35] src/tree/updater_prune.cc:74: tree pruning end, 1 roots, 12 extra nodes, 6 pruned nodes, max_depth=5\u001b[0m\n",
      "\u001b[34m[182]#011train-error:0.075733#011validation-error:0.1364\u001b[0m\n",
      "\u001b[34m[00:13:36] src/tree/updater_prune.cc:74: tree pruning end, 1 roots, 12 extra nodes, 4 pruned nodes, max_depth=5\u001b[0m\n",
      "\u001b[34m[183]#011train-error:0.075467#011validation-error:0.1356\u001b[0m\n",
      "\u001b[34m[00:13:37] src/tree/updater_prune.cc:74: tree pruning end, 1 roots, 24 extra nodes, 4 pruned nodes, max_depth=5\u001b[0m\n",
      "\u001b[34m[184]#011train-error:0.074733#011validation-error:0.1359\u001b[0m\n",
      "\u001b[34m[00:13:38] src/tree/updater_prune.cc:74: tree pruning end, 1 roots, 10 extra nodes, 8 pruned nodes, max_depth=5\u001b[0m\n",
      "\u001b[34m[185]#011train-error:0.074867#011validation-error:0.1357\u001b[0m\n",
      "\u001b[34m[00:13:40] src/tree/updater_prune.cc:74: tree pruning end, 1 roots, 20 extra nodes, 10 pruned nodes, max_depth=5\u001b[0m\n",
      "\u001b[34m[186]#011train-error:0.075#011validation-error:0.1361\u001b[0m\n",
      "\u001b[34mStopping. Best iteration:\u001b[0m\n",
      "\u001b[34m[176]#011train-error:0.078#011validation-error:0.1355\n",
      "\u001b[0m\n",
      "\n",
      "2020-06-24 00:14:40 Uploading - Uploading generated training model\n",
      "2020-06-24 00:14:47 Completed - Training job completed\n",
      "Training seconds: 353\n",
      "Billable seconds: 353\n"
     ]
    }
   ],
   "source": [
    "xgb.fit({'train': s3_input_train, 'validation': s3_input_validation})"
   ]
  },
  {
   "cell_type": "markdown",
   "metadata": {},
   "source": [
    "## Step 5: Testing the model\n",
    "\n",
    "Now that we've fit our XGBoost model, it's time to see how well it performs. To do this we will use SageMakers Batch Transform functionality. Batch Transform is a convenient way to perform inference on a large dataset in a way that is not realtime. That is, we don't necessarily need to use our model's results immediately and instead we can perform inference on a large number of samples. An example of this in industry might be performing an end of month report. This method of inference can also be useful to us as it means that we can perform inference on our entire test set. \n",
    "\n",
    "To perform a Batch Transformation we need to first create a transformer objects from our trained estimator object."
   ]
  },
  {
   "cell_type": "code",
   "execution_count": 24,
   "metadata": {},
   "outputs": [
    {
     "name": "stderr",
     "output_type": "stream",
     "text": [
      "WARNING:sagemaker:Parameter image will be renamed to image_uri in SageMaker Python SDK v2.\n"
     ]
    }
   ],
   "source": [
    "xgb_transformer = xgb.transformer(instance_count = 1, instance_type = 'ml.m4.xlarge')"
   ]
  },
  {
   "cell_type": "markdown",
   "metadata": {},
   "source": [
    "Next we actually perform the transform job. When doing so we need to make sure to specify the type of data we are sending so that it is serialized correctly in the background. In our case we are providing our model with csv data so we specify `text/csv`. Also, if the test data that we have provided is too large to process all at once then we need to specify how the data file should be split up. Since each line is a single entry in our data set we tell SageMaker that it can split the input on each line."
   ]
  },
  {
   "cell_type": "code",
   "execution_count": 25,
   "metadata": {},
   "outputs": [],
   "source": [
    "xgb_transformer.transform(test_location, content_type='text/csv', split_type='Line')"
   ]
  },
  {
   "cell_type": "markdown",
   "metadata": {},
   "source": [
    "Currently the transform job is running but it is doing so in the background. Since we wish to wait until the transform job is done and we would like a bit of feedback we can run the `wait()` method."
   ]
  },
  {
   "cell_type": "code",
   "execution_count": 26,
   "metadata": {},
   "outputs": [
    {
     "name": "stdout",
     "output_type": "stream",
     "text": [
      ".....................\u001b[34mArguments: serve\u001b[0m\n",
      "\u001b[34m[2020-06-24 00:18:45 +0000] [1] [INFO] Starting gunicorn 19.7.1\u001b[0m\n",
      "\u001b[34m[2020-06-24 00:18:45 +0000] [1] [INFO] Listening at: http://0.0.0.0:8080 (1)\u001b[0m\n",
      "\u001b[34m[2020-06-24 00:18:45 +0000] [1] [INFO] Using worker: gevent\u001b[0m\n",
      "\u001b[34m[2020-06-24 00:18:45 +0000] [36] [INFO] Booting worker with pid: 36\u001b[0m\n",
      "\u001b[34m[2020-06-24 00:18:45 +0000] [37] [INFO] Booting worker with pid: 37\u001b[0m\n",
      "\u001b[34m[2020-06-24 00:18:45 +0000] [38] [INFO] Booting worker with pid: 38\u001b[0m\n",
      "\u001b[34m[2020-06-24 00:18:45 +0000] [39] [INFO] Booting worker with pid: 39\u001b[0m\n",
      "\u001b[34m[2020-06-24:00:18:45:INFO] Model loaded successfully for worker : 37\u001b[0m\n",
      "\u001b[34m[2020-06-24:00:18:45:INFO] Model loaded successfully for worker : 36\u001b[0m\n",
      "\u001b[34m[2020-06-24:00:18:45:INFO] Model loaded successfully for worker : 38\u001b[0m\n",
      "\u001b[34m[2020-06-24:00:18:45:INFO] Model loaded successfully for worker : 39\u001b[0m\n",
      "\u001b[34m[2020-06-24:00:19:09:INFO] Sniff delimiter as ','\u001b[0m\n",
      "\u001b[34m[2020-06-24:00:19:09:INFO] Determined delimiter of CSV input is ','\u001b[0m\n",
      "\u001b[34m[2020-06-24:00:19:09:INFO] Sniff delimiter as ','\u001b[0m\n",
      "\u001b[34m[2020-06-24:00:19:09:INFO] Determined delimiter of CSV input is ','\u001b[0m\n",
      "\u001b[35m[2020-06-24:00:19:09:INFO] Sniff delimiter as ','\u001b[0m\n",
      "\u001b[35m[2020-06-24:00:19:09:INFO] Determined delimiter of CSV input is ','\u001b[0m\n",
      "\u001b[35m[2020-06-24:00:19:09:INFO] Sniff delimiter as ','\u001b[0m\n",
      "\u001b[35m[2020-06-24:00:19:09:INFO] Determined delimiter of CSV input is ','\u001b[0m\n",
      "\u001b[34m[2020-06-24:00:19:09:INFO] Sniff delimiter as ','\u001b[0m\n",
      "\u001b[34m[2020-06-24:00:19:09:INFO] Determined delimiter of CSV input is ','\u001b[0m\n",
      "\u001b[34m[2020-06-24:00:19:10:INFO] Sniff delimiter as ','\u001b[0m\n",
      "\u001b[34m[2020-06-24:00:19:10:INFO] Determined delimiter of CSV input is ','\u001b[0m\n",
      "\u001b[35m[2020-06-24:00:19:09:INFO] Sniff delimiter as ','\u001b[0m\n",
      "\u001b[35m[2020-06-24:00:19:09:INFO] Determined delimiter of CSV input is ','\u001b[0m\n",
      "\u001b[35m[2020-06-24:00:19:10:INFO] Sniff delimiter as ','\u001b[0m\n",
      "\u001b[35m[2020-06-24:00:19:10:INFO] Determined delimiter of CSV input is ','\u001b[0m\n",
      "\u001b[32m2020-06-24T00:19:06.838:[sagemaker logs]: MaxConcurrentTransforms=4, MaxPayloadInMB=6, BatchStrategy=MULTI_RECORD\u001b[0m\n",
      "\u001b[34m[2020-06-24:00:19:12:INFO] Sniff delimiter as ','\u001b[0m\n",
      "\u001b[34m[2020-06-24:00:19:12:INFO] Determined delimiter of CSV input is ','\u001b[0m\n",
      "\u001b[34m[2020-06-24:00:19:12:INFO] Sniff delimiter as ','\u001b[0m\n",
      "\u001b[34m[2020-06-24:00:19:12:INFO] Determined delimiter of CSV input is ','\u001b[0m\n",
      "\u001b[34m[2020-06-24:00:19:12:INFO] Sniff delimiter as ','\u001b[0m\n",
      "\u001b[34m[2020-06-24:00:19:12:INFO] Determined delimiter of CSV input is ','\u001b[0m\n",
      "\u001b[34m[2020-06-24:00:19:12:INFO] Sniff delimiter as ','\u001b[0m\n",
      "\u001b[34m[2020-06-24:00:19:12:INFO] Determined delimiter of CSV input is ','\u001b[0m\n",
      "\u001b[35m[2020-06-24:00:19:12:INFO] Sniff delimiter as ','\u001b[0m\n",
      "\u001b[35m[2020-06-24:00:19:12:INFO] Determined delimiter of CSV input is ','\u001b[0m\n",
      "\u001b[35m[2020-06-24:00:19:12:INFO] Sniff delimiter as ','\u001b[0m\n",
      "\u001b[35m[2020-06-24:00:19:12:INFO] Determined delimiter of CSV input is ','\u001b[0m\n",
      "\u001b[35m[2020-06-24:00:19:12:INFO] Sniff delimiter as ','\u001b[0m\n",
      "\u001b[35m[2020-06-24:00:19:12:INFO] Determined delimiter of CSV input is ','\u001b[0m\n",
      "\u001b[35m[2020-06-24:00:19:12:INFO] Sniff delimiter as ','\u001b[0m\n",
      "\u001b[35m[2020-06-24:00:19:12:INFO] Determined delimiter of CSV input is ','\u001b[0m\n",
      "\u001b[34m[2020-06-24:00:19:14:INFO] Sniff delimiter as ','\u001b[0m\n",
      "\u001b[34m[2020-06-24:00:19:14:INFO] Determined delimiter of CSV input is ','\u001b[0m\n",
      "\u001b[35m[2020-06-24:00:19:14:INFO] Sniff delimiter as ','\u001b[0m\n",
      "\u001b[35m[2020-06-24:00:19:14:INFO] Determined delimiter of CSV input is ','\u001b[0m\n",
      "\u001b[34m[2020-06-24:00:19:14:INFO] Sniff delimiter as ','\u001b[0m\n",
      "\u001b[34m[2020-06-24:00:19:14:INFO] Determined delimiter of CSV input is ','\u001b[0m\n",
      "\u001b[34m[2020-06-24:00:19:14:INFO] Sniff delimiter as ','\u001b[0m\n",
      "\u001b[34m[2020-06-24:00:19:14:INFO] Determined delimiter of CSV input is ','\u001b[0m\n",
      "\u001b[34m[2020-06-24:00:19:14:INFO] Sniff delimiter as ','\u001b[0m\n",
      "\u001b[34m[2020-06-24:00:19:14:INFO] Determined delimiter of CSV input is ','\u001b[0m\n",
      "\u001b[35m[2020-06-24:00:19:14:INFO] Sniff delimiter as ','\u001b[0m\n",
      "\u001b[35m[2020-06-24:00:19:14:INFO] Determined delimiter of CSV input is ','\u001b[0m\n",
      "\u001b[35m[2020-06-24:00:19:14:INFO] Sniff delimiter as ','\u001b[0m\n",
      "\u001b[35m[2020-06-24:00:19:14:INFO] Determined delimiter of CSV input is ','\u001b[0m\n",
      "\u001b[35m[2020-06-24:00:19:14:INFO] Sniff delimiter as ','\u001b[0m\n",
      "\u001b[35m[2020-06-24:00:19:14:INFO] Determined delimiter of CSV input is ','\u001b[0m\n",
      "\u001b[34m[2020-06-24:00:19:17:INFO] Sniff delimiter as ','\u001b[0m\n",
      "\u001b[34m[2020-06-24:00:19:17:INFO] Determined delimiter of CSV input is ','\u001b[0m\n",
      "\u001b[34m[2020-06-24:00:19:17:INFO] Sniff delimiter as ','\u001b[0m\n",
      "\u001b[34m[2020-06-24:00:19:17:INFO] Determined delimiter of CSV input is ','\u001b[0m\n",
      "\u001b[34m[2020-06-24:00:19:17:INFO] Sniff delimiter as ','\u001b[0m\n",
      "\u001b[34m[2020-06-24:00:19:17:INFO] Determined delimiter of CSV input is ','\u001b[0m\n",
      "\u001b[34m[2020-06-24:00:19:17:INFO] Sniff delimiter as ','\u001b[0m\n",
      "\u001b[34m[2020-06-24:00:19:17:INFO] Determined delimiter of CSV input is ','\u001b[0m\n",
      "\u001b[35m[2020-06-24:00:19:17:INFO] Sniff delimiter as ','\u001b[0m\n",
      "\u001b[35m[2020-06-24:00:19:17:INFO] Determined delimiter of CSV input is ','\u001b[0m\n",
      "\u001b[35m[2020-06-24:00:19:17:INFO] Sniff delimiter as ','\u001b[0m\n",
      "\u001b[35m[2020-06-24:00:19:17:INFO] Determined delimiter of CSV input is ','\u001b[0m\n",
      "\u001b[35m[2020-06-24:00:19:17:INFO] Sniff delimiter as ','\u001b[0m\n",
      "\u001b[35m[2020-06-24:00:19:17:INFO] Determined delimiter of CSV input is ','\u001b[0m\n",
      "\u001b[35m[2020-06-24:00:19:17:INFO] Sniff delimiter as ','\u001b[0m\n",
      "\u001b[35m[2020-06-24:00:19:17:INFO] Determined delimiter of CSV input is ','\u001b[0m\n",
      "\u001b[34m[2020-06-24:00:19:19:INFO] Sniff delimiter as ','\u001b[0m\n",
      "\u001b[34m[2020-06-24:00:19:19:INFO] Determined delimiter of CSV input is ','\u001b[0m\n",
      "\u001b[34m[2020-06-24:00:19:19:INFO] Sniff delimiter as ','\u001b[0m\n",
      "\u001b[34m[2020-06-24:00:19:19:INFO] Determined delimiter of CSV input is ','\u001b[0m\n",
      "\u001b[34m[2020-06-24:00:19:19:INFO] Sniff delimiter as ','\u001b[0m\n",
      "\u001b[34m[2020-06-24:00:19:19:INFO] Determined delimiter of CSV input is ','\u001b[0m\n",
      "\u001b[35m[2020-06-24:00:19:19:INFO] Sniff delimiter as ','\u001b[0m\n",
      "\u001b[35m[2020-06-24:00:19:19:INFO] Determined delimiter of CSV input is ','\u001b[0m\n",
      "\u001b[35m[2020-06-24:00:19:19:INFO] Sniff delimiter as ','\u001b[0m\n",
      "\u001b[35m[2020-06-24:00:19:19:INFO] Determined delimiter of CSV input is ','\u001b[0m\n",
      "\u001b[35m[2020-06-24:00:19:19:INFO] Sniff delimiter as ','\u001b[0m\n",
      "\u001b[35m[2020-06-24:00:19:19:INFO] Determined delimiter of CSV input is ','\u001b[0m\n",
      "\u001b[34m[2020-06-24:00:19:22:INFO] Sniff delimiter as ','\u001b[0m\n",
      "\u001b[35m[2020-06-24:00:19:22:INFO] Sniff delimiter as ','\u001b[0m\n",
      "\u001b[34m[2020-06-24:00:19:22:INFO] Determined delimiter of CSV input is ','\u001b[0m\n",
      "\u001b[34m[2020-06-24:00:19:22:INFO] Sniff delimiter as ','\u001b[0m\n",
      "\u001b[34m[2020-06-24:00:19:22:INFO] Determined delimiter of CSV input is ','\u001b[0m\n",
      "\u001b[35m[2020-06-24:00:19:22:INFO] Determined delimiter of CSV input is ','\u001b[0m\n",
      "\u001b[35m[2020-06-24:00:19:22:INFO] Sniff delimiter as ','\u001b[0m\n",
      "\u001b[35m[2020-06-24:00:19:22:INFO] Determined delimiter of CSV input is ','\u001b[0m\n",
      "\u001b[34m[2020-06-24:00:19:24:INFO] Sniff delimiter as ','\u001b[0m\n",
      "\u001b[34m[2020-06-24:00:19:24:INFO] Determined delimiter of CSV input is ','\u001b[0m\n",
      "\u001b[34m[2020-06-24:00:19:24:INFO] Sniff delimiter as ','\u001b[0m\n",
      "\u001b[34m[2020-06-24:00:19:24:INFO] Determined delimiter of CSV input is ','\u001b[0m\n",
      "\u001b[34m[2020-06-24:00:19:24:INFO] Sniff delimiter as ','\u001b[0m\n",
      "\u001b[35m[2020-06-24:00:19:24:INFO] Sniff delimiter as ','\u001b[0m\n",
      "\u001b[35m[2020-06-24:00:19:24:INFO] Determined delimiter of CSV input is ','\u001b[0m\n",
      "\u001b[35m[2020-06-24:00:19:24:INFO] Sniff delimiter as ','\u001b[0m\n",
      "\u001b[35m[2020-06-24:00:19:24:INFO] Determined delimiter of CSV input is ','\u001b[0m\n",
      "\u001b[35m[2020-06-24:00:19:24:INFO] Sniff delimiter as ','\u001b[0m\n",
      "\u001b[34m[2020-06-24:00:19:24:INFO] Determined delimiter of CSV input is ','\u001b[0m\n",
      "\u001b[34m[2020-06-24:00:19:24:INFO] Sniff delimiter as ','\u001b[0m\n",
      "\u001b[34m[2020-06-24:00:19:24:INFO] Determined delimiter of CSV input is ','\u001b[0m\n",
      "\u001b[35m[2020-06-24:00:19:24:INFO] Determined delimiter of CSV input is ','\u001b[0m\n",
      "\u001b[35m[2020-06-24:00:19:24:INFO] Sniff delimiter as ','\u001b[0m\n",
      "\u001b[35m[2020-06-24:00:19:24:INFO] Determined delimiter of CSV input is ','\u001b[0m\n",
      "\u001b[34m[2020-06-24:00:19:26:INFO] Sniff delimiter as ','\u001b[0m\n",
      "\u001b[34m[2020-06-24:00:19:26:INFO] Determined delimiter of CSV input is ','\u001b[0m\n",
      "\u001b[34m[2020-06-24:00:19:26:INFO] Sniff delimiter as ','\u001b[0m\n",
      "\u001b[34m[2020-06-24:00:19:26:INFO] Determined delimiter of CSV input is ','\u001b[0m\n",
      "\u001b[35m[2020-06-24:00:19:26:INFO] Sniff delimiter as ','\u001b[0m\n",
      "\u001b[35m[2020-06-24:00:19:26:INFO] Determined delimiter of CSV input is ','\u001b[0m\n",
      "\u001b[35m[2020-06-24:00:19:26:INFO] Sniff delimiter as ','\u001b[0m\n",
      "\u001b[35m[2020-06-24:00:19:26:INFO] Determined delimiter of CSV input is ','\u001b[0m\n",
      "\u001b[34m[2020-06-24:00:19:26:INFO] Sniff delimiter as ','\u001b[0m\n",
      "\u001b[34m[2020-06-24:00:19:26:INFO] Determined delimiter of CSV input is ','\u001b[0m\n",
      "\u001b[34m[2020-06-24:00:19:26:INFO] Sniff delimiter as ','\u001b[0m\n",
      "\u001b[34m[2020-06-24:00:19:26:INFO] Determined delimiter of CSV input is ','\u001b[0m\n",
      "\u001b[35m[2020-06-24:00:19:26:INFO] Sniff delimiter as ','\u001b[0m\n",
      "\u001b[35m[2020-06-24:00:19:26:INFO] Determined delimiter of CSV input is ','\u001b[0m\n",
      "\u001b[35m[2020-06-24:00:19:26:INFO] Sniff delimiter as ','\u001b[0m\n",
      "\u001b[35m[2020-06-24:00:19:26:INFO] Determined delimiter of CSV input is ','\u001b[0m\n",
      "\u001b[34m[2020-06-24:00:19:28:INFO] Sniff delimiter as ','\u001b[0m\n",
      "\u001b[34m[2020-06-24:00:19:28:INFO] Determined delimiter of CSV input is ','\u001b[0m\n",
      "\u001b[34m[2020-06-24:00:19:28:INFO] Sniff delimiter as ','\u001b[0m\n",
      "\u001b[34m[2020-06-24:00:19:28:INFO] Determined delimiter of CSV input is ','\u001b[0m\n",
      "\u001b[34m[2020-06-24:00:19:29:INFO] Sniff delimiter as ','\u001b[0m\n",
      "\u001b[34m[2020-06-24:00:19:29:INFO] Determined delimiter of CSV input is ','\u001b[0m\n",
      "\u001b[34m[2020-06-24:00:19:29:INFO] Sniff delimiter as ','\u001b[0m\n",
      "\u001b[34m[2020-06-24:00:19:29:INFO] Determined delimiter of CSV input is ','\u001b[0m\n",
      "\u001b[35m[2020-06-24:00:19:28:INFO] Sniff delimiter as ','\u001b[0m\n",
      "\u001b[35m[2020-06-24:00:19:28:INFO] Determined delimiter of CSV input is ','\u001b[0m\n",
      "\u001b[35m[2020-06-24:00:19:28:INFO] Sniff delimiter as ','\u001b[0m\n",
      "\u001b[35m[2020-06-24:00:19:28:INFO] Determined delimiter of CSV input is ','\u001b[0m\n",
      "\u001b[35m[2020-06-24:00:19:29:INFO] Sniff delimiter as ','\u001b[0m\n",
      "\u001b[35m[2020-06-24:00:19:29:INFO] Determined delimiter of CSV input is ','\u001b[0m\n",
      "\u001b[35m[2020-06-24:00:19:29:INFO] Sniff delimiter as ','\u001b[0m\n",
      "\u001b[35m[2020-06-24:00:19:29:INFO] Determined delimiter of CSV input is ','\u001b[0m\n"
     ]
    },
    {
     "name": "stdout",
     "output_type": "stream",
     "text": [
      "\n"
     ]
    }
   ],
   "source": [
    "xgb_transformer.wait()"
   ]
  },
  {
   "cell_type": "markdown",
   "metadata": {},
   "source": [
    "Now the transform job has executed and the result, the estimated sentiment of each review, has been saved on S3. Since we would rather work on this file locally we can perform a bit of notebook magic to copy the file to the `data_dir`."
   ]
  },
  {
   "cell_type": "code",
   "execution_count": 27,
   "metadata": {},
   "outputs": [
    {
     "name": "stdout",
     "output_type": "stream",
     "text": [
      "Completed 256.0 KiB/369.9 KiB (782.1 KiB/s) with 1 file(s) remaining\r",
      "Completed 369.9 KiB/369.9 KiB (1.1 MiB/s) with 1 file(s) remaining  \r",
      "download: s3://sagemaker-us-west-2-910150640493/xgboost-2020-06-24-00-15-21-394/test.csv.out to ../data/sentiment_web_app/test.csv.out\r\n"
     ]
    }
   ],
   "source": [
    "!aws s3 cp --recursive $xgb_transformer.output_path $data_dir"
   ]
  },
  {
   "cell_type": "markdown",
   "metadata": {},
   "source": [
    "The last step is now to read in the output from our model, convert the output to something a little more usable, in this case we want the sentiment to be either `1` (positive) or `0` (negative), and then compare to the ground truth labels."
   ]
  },
  {
   "cell_type": "code",
   "execution_count": 28,
   "metadata": {},
   "outputs": [],
   "source": [
    "predictions = pd.read_csv(os.path.join(data_dir, 'test.csv.out'), header=None)\n",
    "predictions = [round(num) for num in predictions.squeeze().values]"
   ]
  },
  {
   "cell_type": "code",
   "execution_count": 29,
   "metadata": {},
   "outputs": [
    {
     "data": {
      "text/plain": [
       "0.8616"
      ]
     },
     "execution_count": 29,
     "metadata": {},
     "output_type": "execute_result"
    }
   ],
   "source": [
    "from sklearn.metrics import accuracy_score\n",
    "accuracy_score(test_y, predictions)"
   ]
  },
  {
   "cell_type": "markdown",
   "metadata": {},
   "source": [
    "## Step 6: Deploying the model\n",
    "\n",
    "Once we construct and fit our model, SageMaker stores the resulting model artifacts and we can use those to deploy an endpoint (inference code). To see this, look in the SageMaker console and you should see that a model has been created along with a link to the S3 location where the model artifacts have been stored.\n",
    "\n",
    "Deploying an endpoint is a lot like training the model with a few important differences. The first is that a deployed model doesn't change the model artifacts, so as you send it various testing instances the model won't change. Another difference is that since we aren't performing a fixed computation, as we were in the training step or while performing a batch transform, the compute instance that gets started stays running until we tell it to stop. This is important to note as if we forget and leave it running we will be charged the entire time.\n",
    "\n",
    "In other words **If you are no longer using a deployed endpoint, shut it down!**"
   ]
  },
  {
   "cell_type": "code",
   "execution_count": 30,
   "metadata": {},
   "outputs": [
    {
     "name": "stderr",
     "output_type": "stream",
     "text": [
      "WARNING:sagemaker:Parameter image will be renamed to image_uri in SageMaker Python SDK v2.\n",
      "WARNING:sagemaker:Using already existing model: xgboost-2020-06-24-00-06-05-002\n"
     ]
    },
    {
     "name": "stdout",
     "output_type": "stream",
     "text": [
      "-------------!"
     ]
    }
   ],
   "source": [
    "xgb_predictor = xgb.deploy(initial_instance_count = 1, instance_type = 'ml.m4.xlarge')"
   ]
  },
  {
   "cell_type": "markdown",
   "metadata": {},
   "source": [
    "### Testing the model (again)\n",
    "\n",
    "Now that we have deployed our endpoint, we can send the testing data to it and get back the inference results. We already did this earlier using the batch transform functionality of SageMaker, however, we will test our model again using the newly deployed endpoint so that we can make sure that it works properly and to get a bit of a feel for how the endpoint works.\n",
    "\n",
    "When using the created endpoint it is important to know that we are limited in the amount of information we can send in each call so we need to break the testing data up into chunks and then send each chunk. Also, we need to serialize our data before we send it to the endpoint to ensure that our data is transmitted properly. Fortunately, SageMaker can do the serialization part for us provided we tell it the format of our data."
   ]
  },
  {
   "cell_type": "code",
   "execution_count": 31,
   "metadata": {},
   "outputs": [],
   "source": [
    "from sagemaker.predictor import csv_serializer\n",
    "\n",
    "# We need to tell the endpoint what format the data we are sending is in so that SageMaker can perform the serialization.\n",
    "xgb_predictor.content_type = 'text/csv'\n",
    "xgb_predictor.serializer = csv_serializer"
   ]
  },
  {
   "cell_type": "code",
   "execution_count": 32,
   "metadata": {},
   "outputs": [],
   "source": [
    "# We split the data into chunks and send each chunk seperately, accumulating the results.\n",
    "\n",
    "def predict(data, rows=512):\n",
    "    split_array = np.array_split(data, int(data.shape[0] / float(rows) + 1))\n",
    "    predictions = ''\n",
    "    for array in split_array:\n",
    "        predictions = ','.join([predictions, xgb_predictor.predict(array).decode('utf-8')])\n",
    "    \n",
    "    return np.fromstring(predictions[1:], sep=',')"
   ]
  },
  {
   "cell_type": "code",
   "execution_count": 33,
   "metadata": {},
   "outputs": [],
   "source": [
    "test_X = pd.read_csv(os.path.join(data_dir, 'test.csv'), header=None).values\n",
    "\n",
    "predictions = predict(test_X)\n",
    "predictions = [round(num) for num in predictions]"
   ]
  },
  {
   "cell_type": "markdown",
   "metadata": {},
   "source": [
    "Lastly, we check to see what the accuracy of our model is."
   ]
  },
  {
   "cell_type": "code",
   "execution_count": 34,
   "metadata": {},
   "outputs": [
    {
     "data": {
      "text/plain": [
       "0.8616"
      ]
     },
     "execution_count": 34,
     "metadata": {},
     "output_type": "execute_result"
    }
   ],
   "source": [
    "from sklearn.metrics import accuracy_score\n",
    "accuracy_score(test_y, predictions)"
   ]
  },
  {
   "cell_type": "markdown",
   "metadata": {},
   "source": [
    "And the results here should agree with the model testing that we did earlier using the batch transform job.\n",
    "\n",
    "### Cleaning up\n",
    "\n",
    "Now that we've determined that deploying our model works as expected, we are going to shut it down. Remember that the longer the endpoint is left running, the greater the cost and since we have a bit more work to do before we are able to use our endpoint with our simple web app, we should shut everything down."
   ]
  },
  {
   "cell_type": "code",
   "execution_count": 35,
   "metadata": {},
   "outputs": [],
   "source": [
    "xgb_predictor.delete_endpoint()"
   ]
  },
  {
   "cell_type": "markdown",
   "metadata": {},
   "source": [
    "## Step 7: Putting our model to work\n",
    "\n",
    "As we've mentioned a few times now, our goal is to have our model deployed and then access it using a very simple web app. The intent is for this web app to take some user submitted data (a review), send it off to our endpoint (the model) and then display the result.\n",
    "\n",
    "However, there is a small catch. Currently the only way we can access the endpoint to send it data is using the SageMaker API. We can, if we wish, expose the actual URL that our model's endpoint is receiving data from, however, if we just send it data ourselves we will not get anything in return. This is because the endpoint created by SageMaker requires the entity accessing it have the correct permissions. So, we would need to somehow authenticate our web app with AWS.\n",
    "\n",
    "Having a website that authenticates to AWS seems a bit beyond the scope of this lesson so we will opt for an alternative approach. Namely, we will create a new endpoint which does not require authentication and which acts as a proxy for the SageMaker endpoint.\n",
    "\n",
    "As an additional constraint, we will try to avoid doing any data processing in the web app itself. Remember that when we constructed and tested our model we started with a movie review, then we simplified it by removing any html formatting and punctuation, then we constructed a bag of words embedding and the resulting vector is what we sent to our model. All of this needs to be done to our user input as well.\n",
    "\n",
    "Fortunately we can do all of this data processing in the backend, using Amazon's Lambda service.\n",
    "\n",
    "<img src=\"Web App Diagram.svg\">\n",
    "\n",
    "The diagram above gives an overview of how the various services will work together. On the far right is the model which we trained above and which will be deployed using SageMaker. On the far left is our web app that collects a user's movie review, sends it off and expects a positive or negative sentiment in return.\n",
    "\n",
    "In the middle is where some of the magic happens. We will construct a Lambda function, which you can think of as a straightforward Python function that can be executed whenever a specified event occurs. This Python function will do the data processing we need to perform on a user submitted review. In addition, we will give this function permission to send and recieve data from a SageMaker endpoint.\n",
    "\n",
    "Lastly, the method we will use to execute the Lambda function is a new endpoint that we will create using API Gateway. This endpoint will be a url that listens for data to be sent to it. Once it gets some data it will pass that data on to the Lambda function and then return whatever the Lambda function returns. Essentially it will act as an interface that lets our web app communicate with the Lambda function.\n",
    "\n",
    "### Processing a single review\n",
    "\n",
    "For now, suppose we are given a movie review by our user in the form of a string, like so:"
   ]
  },
  {
   "cell_type": "code",
   "execution_count": 36,
   "metadata": {},
   "outputs": [],
   "source": [
    "test_review = \"Nothing but a disgusting materialistic pageant of glistening abed remote control greed zombies, totally devoid of any heart or heat. A romantic comedy that has zero romantic chemestry and zero laughs!\""
   ]
  },
  {
   "cell_type": "markdown",
   "metadata": {},
   "source": [
    "How do we go from this string to the bag of words feature vector that is expected by our model?\n",
    "\n",
    "If we recall at the beginning of this notebook, the first step is to remove any unnecessary characters using the `review_to_words` method. Remember that we intentionally did this in a very simplistic way. This is because we are going to have to copy this method to our (eventual) Lambda function (we will go into more detail later) and this means it needs to be rather simplistic."
   ]
  },
  {
   "cell_type": "code",
   "execution_count": 37,
   "metadata": {},
   "outputs": [
    {
     "name": "stdout",
     "output_type": "stream",
     "text": [
      "nothing but a disgusting materialistic pageant of glistening abed remote control greed zombies totally devoid of any heart or heat a romantic comedy that has zero romantic chemestry and zero laughs\n"
     ]
    }
   ],
   "source": [
    "test_words = review_to_words(test_review)\n",
    "print(test_words)"
   ]
  },
  {
   "cell_type": "markdown",
   "metadata": {},
   "source": [
    "Next, we need to construct a bag of words embedding of the `test_words` string. To do this, remember that a bag of words embedding uses a `vocabulary` consisting of the most frequently appearing words in a set of documents. Then, for each word in the vocabulary we record the number of times that word appears in `test_words`. We constructed the `vocabulary` earlier using the training set for our problem so encoding `test_words` is relatively straightforward."
   ]
  },
  {
   "cell_type": "code",
   "execution_count": 38,
   "metadata": {},
   "outputs": [],
   "source": [
    "def bow_encoding(words, vocabulary):\n",
    "    bow = [0] * len(vocabulary) # Start by setting the count for each word in the vocabulary to zero.\n",
    "    for word in words.split():  # For each word in the string\n",
    "        if word in vocabulary:  # If the word is one that occurs in the vocabulary, increase its count.\n",
    "            bow[vocabulary[word]] += 1\n",
    "    return bow"
   ]
  },
  {
   "cell_type": "code",
   "execution_count": 39,
   "metadata": {},
   "outputs": [
    {
     "name": "stdout",
     "output_type": "stream",
     "text": [
      "[0, 0, 0, 0, 0, 0, 0, 0, 0, 0, 0, 0, 0, 0, 0, 0, 0, 0, 0, 0, 0, 0, 0, 0, 0, 0, 0, 0, 0, 0, 0, 0, 0, 0, 0, 0, 0, 0, 0, 0, 0, 0, 0, 0, 0, 0, 0, 0, 0, 0, 0, 0, 0, 0, 0, 0, 0, 0, 0, 0, 0, 0, 0, 0, 0, 0, 0, 0, 0, 0, 0, 0, 0, 0, 0, 0, 0, 0, 0, 0, 0, 0, 0, 0, 0, 0, 0, 0, 0, 0, 0, 0, 0, 0, 0, 0, 0, 0, 0, 0, 0, 0, 0, 0, 0, 0, 0, 0, 0, 0, 0, 0, 0, 0, 0, 0, 0, 0, 0, 0, 0, 0, 0, 0, 0, 0, 0, 0, 0, 0, 0, 0, 0, 0, 0, 0, 0, 0, 0, 0, 0, 0, 0, 0, 0, 0, 0, 0, 0, 0, 0, 0, 0, 0, 0, 0, 0, 0, 0, 0, 0, 0, 0, 0, 0, 0, 0, 0, 0, 0, 0, 0, 0, 0, 0, 0, 0, 0, 0, 0, 0, 0, 0, 0, 0, 0, 0, 0, 0, 0, 0, 0, 0, 0, 0, 0, 0, 0, 0, 0, 0, 0, 0, 0, 0, 0, 0, 0, 0, 0, 0, 0, 0, 0, 0, 0, 0, 0, 0, 0, 0, 0, 0, 0, 0, 0, 1, 0, 0, 0, 0, 0, 0, 0, 0, 0, 0, 0, 0, 0, 0, 0, 0, 0, 0, 0, 0, 0, 0, 0, 0, 0, 0, 0, 0, 0, 1, 0, 0, 0, 0, 0, 0, 0, 0, 0, 0, 0, 0, 0, 0, 0, 0, 0, 0, 0, 0, 0, 0, 0, 0, 0, 0, 0, 0, 0, 0, 0, 0, 0, 0, 0, 0, 0, 0, 0, 0, 0, 0, 0, 0, 0, 0, 0, 0, 0, 0, 0, 0, 0, 0, 0, 0, 0, 0, 0, 0, 0, 0, 0, 0, 0, 0, 0, 0, 0, 0, 0, 0, 0, 0, 0, 0, 0, 0, 0, 0, 0, 0, 0, 0, 0, 0, 0, 0, 0, 0, 0, 0, 0, 0, 0, 0, 0, 0, 0, 0, 0, 0, 0, 0, 0, 0, 0, 0, 0, 0, 0, 0, 0, 0, 0, 0, 0, 0, 0, 0, 0, 0, 0, 0, 0, 0, 0, 0, 0, 0, 0, 0, 0, 0, 0, 0, 0, 0, 0, 0, 0, 0, 0, 0, 0, 0, 0, 0, 0, 0, 0, 0, 0, 0, 0, 0, 0, 0, 0, 0, 0, 0, 0, 0, 0, 0, 0, 0, 0, 0, 0, 0, 0, 0, 0, 0, 0, 0, 0, 0, 0, 0, 0, 0, 0, 0, 0, 0, 0, 0, 0, 0, 0, 0, 0, 0, 0, 0, 0, 0, 0, 0, 0, 0, 0, 0, 0, 0, 0, 0, 0, 0, 0, 0, 0, 0, 0, 0, 0, 0, 0, 0, 0, 0, 0, 0, 0, 0, 0, 0, 0, 0, 0, 0, 0, 0, 0, 0, 0, 0, 0, 0, 0, 0, 0, 0, 0, 0, 0, 0, 0, 0, 0, 0, 0, 0, 0, 0, 0, 0, 0, 0, 0, 0, 0, 0, 0, 0, 0, 0, 0, 0, 0, 0, 0, 0, 0, 0, 0, 0, 0, 0, 0, 0, 0, 0, 0, 0, 0, 0, 0, 0, 0, 0, 0, 0, 0, 0, 0, 0, 0, 0, 0, 0, 0, 0, 0, 0, 0, 0, 0, 0, 0, 0, 0, 0, 0, 0, 0, 0, 0, 0, 0, 0, 0, 0, 0, 0, 0, 0, 0, 0, 0, 0, 0, 0, 0, 0, 0, 0, 0, 0, 0, 0, 0, 0, 0, 0, 0, 0, 0, 0, 0, 0, 0, 0, 0, 0, 0, 0, 0, 0, 0, 0, 0, 0, 0, 0, 0, 0, 0, 0, 0, 0, 0, 0, 0, 0, 0, 1, 0, 0, 0, 0, 0, 0, 0, 0, 0, 0, 0, 0, 0, 0, 0, 0, 0, 0, 0, 0, 0, 0, 0, 0, 0, 0, 0, 0, 0, 0, 0, 0, 0, 0, 0, 0, 0, 0, 0, 0, 0, 0, 0, 0, 0, 0, 0, 0, 0, 0, 0, 0, 0, 0, 0, 0, 0, 0, 0, 0, 0, 0, 0, 0, 0, 0, 0, 0, 0, 0, 0, 0, 0, 0, 0, 0, 0, 0, 0, 0, 0, 0, 0, 0, 0, 0, 0, 0, 0, 0, 0, 0, 0, 0, 0, 0, 0, 0, 0, 0, 0, 0, 0, 0, 0, 0, 0, 0, 0, 0, 0, 0, 0, 0, 0, 0, 0, 0, 0, 0, 0, 0, 0, 0, 0, 0, 0, 0, 0, 0, 0, 0, 0, 0, 0, 0, 0, 0, 0, 0, 0, 0, 0, 0, 0, 0, 0, 0, 0, 0, 0, 0, 0, 0, 0, 0, 0, 0, 0, 0, 0, 0, 0, 0, 0, 0, 0, 0, 0, 0, 0, 0, 0, 0, 0, 0, 0, 0, 0, 0, 0, 0, 0, 0, 0, 0, 0, 0, 0, 0, 0, 0, 0, 0, 0, 0, 0, 0, 0, 0, 0, 0, 0, 0, 0, 0, 0, 0, 0, 0, 0, 0, 0, 0, 0, 0, 0, 0, 0, 0, 0, 0, 0, 0, 0, 0, 0, 0, 0, 0, 0, 0, 0, 0, 0, 0, 0, 0, 0, 0, 0, 0, 0, 0, 0, 0, 0, 0, 0, 0, 0, 0, 0, 1, 0, 0, 0, 0, 0, 0, 0, 0, 0, 0, 0, 0, 0, 0, 0, 0, 0, 0, 0, 0, 0, 0, 0, 0, 0, 0, 0, 0, 0, 0, 0, 0, 0, 0, 0, 0, 0, 0, 0, 0, 0, 0, 0, 0, 0, 0, 0, 0, 0, 0, 0, 0, 0, 0, 0, 0, 0, 0, 0, 0, 0, 0, 0, 0, 0, 0, 0, 0, 0, 0, 0, 0, 0, 0, 0, 0, 0, 0, 0, 0, 0, 0, 0, 0, 0, 0, 1, 0, 0, 0, 0, 0, 0, 0, 0, 0, 0, 0, 0, 0, 0, 0, 0, 0, 0, 0, 0, 0, 0, 0, 0, 0, 0, 0, 0, 0, 0, 0, 0, 0, 0, 0, 0, 0, 0, 0, 0, 0, 0, 0, 0, 0, 0, 0, 0, 0, 0, 0, 0, 0, 0, 0, 0, 0, 0, 0, 0, 0, 0, 0, 0, 0, 0, 0, 0, 0, 0, 0, 0, 0, 0, 0, 0, 0, 0, 0, 0, 0, 0, 0, 0, 0, 0, 0, 0, 0, 0, 0, 0, 0, 0, 0, 0, 0, 0, 0, 0, 0, 0, 0, 0, 0, 0, 0, 0, 0, 0, 0, 0, 0, 0, 0, 0, 0, 0, 0, 0, 0, 0, 0, 0, 0, 0, 0, 0, 0, 0, 0, 0, 0, 0, 0, 0, 0, 0, 0, 0, 0, 0, 0, 0, 0, 0, 0, 0, 0, 0, 0, 0, 0, 0, 0, 0, 0, 0, 0, 0, 0, 0, 0, 0, 0, 0, 0, 0, 0, 0, 0, 0, 0, 0, 0, 0, 0, 0, 0, 0, 0, 0, 0, 0, 0, 0, 0, 0, 0, 0, 0, 0, 0, 0, 0, 0, 0, 0, 0, 0, 0, 0, 0, 0, 0, 0, 0, 0, 0, 0, 0, 0, 0, 0, 0, 0, 0, 0, 0, 0, 0, 0, 0, 0, 0, 0, 0, 0, 0, 0, 0, 0, 0, 0, 0, 0, 0, 0, 0, 0, 0, 0, 0, 0, 0, 0, 0, 0, 0, 0, 0, 0, 1, 0, 0, 0, 0, 0, 0, 0, 0, 0, 0, 0, 0, 0, 0, 0, 0, 0, 0, 0, 0, 0, 0, 0, 0, 0, 0, 0, 0, 0, 0, 0, 0, 0, 0, 0, 0, 0, 0, 0, 0, 0, 0, 0, 0, 0, 0, 0, 0, 0, 0, 0, 0, 0, 0, 0, 1, 0, 0, 0, 0, 0, 0, 0, 0, 0, 0, 0, 0, 0, 0, 0, 0, 0, 0, 0, 0, 0, 0, 0, 0, 0, 0, 0, 0, 0, 0, 0, 0, 0, 0, 0, 0, 0, 0, 0, 0, 0, 0, 0, 0, 0, 0, 0, 0, 0, 0, 0, 0, 0, 0, 0, 0, 0, 0, 0, 0, 0, 0, 0, 0, 0, 0, 0, 0, 0, 0, 0, 0, 0, 0, 0, 0, 0, 0, 0, 0, 0, 0, 0, 0, 0, 0, 0, 0, 0, 0, 0, 0, 0, 0, 0, 0, 0, 0, 0, 0, 0, 0, 0, 0, 0, 0, 0, 0, 0, 0, 0, 0, 0, 0, 0, 0, 0, 0, 0, 0, 0, 0, 0, 0, 0, 0, 0, 0, 0, 0, 0, 0, 0, 0, 0, 0, 0, 0, 0, 0, 0, 0, 0, 0, 0, 0, 0, 0, 0, 0, 0, 0, 0, 0, 0, 0, 0, 0, 0, 0, 0, 0, 0, 0, 0, 0, 0, 0, 0, 0, 0, 0, 0, 0, 0, 0, 0, 0, 0, 0, 0, 0, 0, 0, 0, 0, 0, 0, 0, 0, 0, 0, 0, 0, 0, 0, 0, 0, 0, 0, 0, 0, 0, 0, 0, 0, 0, 0, 0, 0, 0, 0, 0, 0, 0, 0, 0, 0, 0, 0, 0, 0, 0, 0, 0, 0, 0, 0, 0, 0, 0, 0, 0, 0, 0, 0, 0, 0, 0, 0, 0, 0, 0, 0, 0, 0, 0, 0, 0, 0, 0, 0, 0, 0, 0, 0, 0, 0, 0, 0, 0, 0, 0, 0, 0, 0, 0, 0, 0, 0, 0, 0, 0, 0, 0, 0, 0, 0, 0, 0, 0, 0, 0, 0, 0, 0, 0, 0, 0, 0, 0, 0, 0, 0, 0, 0, 0, 0, 0, 0, 0, 0, 0, 0, 0, 0, 0, 0, 0, 0, 0, 0, 0, 0, 0, 0, 0, 0, 0, 0, 0, 0, 0, 0, 0, 0, 0, 0, 0, 0, 0, 0, 0, 0, 0, 0, 0, 0, 0, 0, 0, 0, 0, 0, 0, 0, 0, 0, 0, 0, 0, 0, 0, 0, 0, 0, 0, 0, 0, 0, 0, 0, 0, 0, 0, 0, 0, 0, 0, 0, 0, 0, 0, 0, 0, 0, 0, 0, 0, 0, 0, 0, 0, 0, 0, 0, 0, 0, 0, 0, 0, 0, 0, 0, 0, 0, 0, 0, 0, 0, 0, 0, 0, 0, 0, 0, 0, 0, 0, 0, 0, 0, 0, 0, 0, 0, 0, 0, 0, 0, 0, 0, 0, 0, 0, 0, 0, 0, 0, 0, 0, 0, 0, 0, 0, 0, 0, 0, 0, 0, 0, 0, 0, 0, 0, 0, 0, 0, 0, 0, 0, 0, 0, 0, 0, 0, 0, 0, 0, 0, 0, 0, 0, 0, 0, 0, 0, 0, 0, 0, 0, 0, 0, 0, 0, 0, 0, 0, 0, 0, 0, 0, 0, 0, 0, 0, 0, 0, 0, 0, 0, 0, 0, 0, 0, 0, 0, 0, 0, 0, 0, 0, 0, 0, 0, 0, 0, 0, 0, 0, 0, 0, 0, 0, 0, 0, 0, 0, 0, 0, 0, 0, 0, 0, 0, 0, 0, 0, 0, 0, 0, 0, 0, 0, 0, 0, 0, 0, 0, 0, 0, 0, 0, 0, 0, 0, 0, 0, 0, 0, 0, 0, 0, 0, 0, 0, 0, 0, 0, 0, 0, 0, 0, 0, 0, 0, 0, 0, 0, 0, 0, 0, 0, 0, 0, 0, 0, 0, 0, 0, 0, 0, 0, 0, 0, 0, 0, 0, 0, 0, 0, 0, 0, 0, 0, 0, 0, 0, 0, 0, 0, 0, 0, 0, 0, 0, 0, 0, 0, 0, 0, 0, 0, 0, 0, 0, 0, 0, 0, 0, 0, 0, 0, 0, 0, 0, 0, 0, 0, 0, 0, 0, 0, 0, 0, 0, 0, 0, 0, 0, 0, 0, 0, 0, 0, 0, 0, 0, 0, 0, 0, 0, 0, 0, 0, 0, 0, 0, 0, 0, 0, 0, 0, 0, 0, 0, 0, 0, 0, 0, 0, 0, 0, 0, 0, 0, 0, 0, 0, 0, 0, 1, 0, 0, 0, 0, 0, 0, 0, 0, 0, 0, 0, 0, 0, 0, 0, 0, 0, 0, 0, 0, 0, 0, 0, 0, 0, 0, 0, 0, 0, 0, 0, 0, 0, 0, 0, 0, 0, 0, 0, 0, 0, 0, 0, 0, 0, 0, 0, 0, 0, 0, 0, 0, 0, 0, 0, 0, 0, 0, 0, 0, 0, 0, 0, 0, 0, 0, 0, 0, 0, 0, 0, 0, 0, 0, 1, 0, 0, 0, 0, 0, 0, 0, 0, 0, 0, 0, 0, 0, 0, 0, 0, 0, 0, 0, 0, 1, 0, 0, 1, 0, 0, 0, 0, 0, 0, 0, 0, 0, 0, 0, 0, 0, 0, 0, 0, 0, 0, 0, 0, 0, 0, 0, 0, 0, 0, 0, 0, 0, 0, 0, 0, 0, 0, 0, 0, 0, 0, 0, 0, 0, 0, 0, 0, 0, 0, 0, 0, 0, 0, 0, 0, 0, 0, 0, 0, 0, 0, 0, 0, 0, 0, 0, 0, 0, 0, 0, 0, 0, 0, 0, 0, 0, 0, 0, 0, 0, 0, 0, 0, 0, 0, 0, 0, 0, 0, 0, 0, 0, 0, 0, 0, 0, 0, 0, 0, 0, 0, 0, 0, 0, 0, 0, 0, 0, 0, 0, 0, 0, 0, 0, 0, 0, 0, 0, 0, 0, 0, 0, 0, 0, 0, 0, 0, 0, 0, 0, 0, 0, 0, 0, 0, 0, 0, 0, 0, 0, 0, 0, 0, 0, 0, 0, 0, 0, 0, 0, 0, 0, 0, 0, 0, 0, 0, 0, 0, 0, 0, 0, 0, 0, 0, 0, 0, 0, 0, 0, 0, 0, 0, 0, 0, 0, 0, 0, 0, 0, 0, 0, 0, 0, 0, 0, 0, 0, 0, 0, 0, 0, 0, 0, 0, 0, 0, 0, 0, 0, 0, 0, 0, 0, 0, 0, 0, 0, 0, 0, 0, 0, 0, 0, 0, 0, 0, 0, 0, 0, 0, 0, 0, 0, 0, 0, 0, 0, 0, 0, 0, 0, 0, 0, 0, 0, 0, 0, 0, 0, 0, 0, 0, 0, 0, 0, 0, 0, 0, 0, 0, 0, 0, 0, 0, 0, 0, 0, 0, 0, 0, 0, 0, 0, 0, 0, 0, 0, 0, 0, 0, 0, 0, 0, 0, 0, 0, 0, 0, 0, 0, 0, 0, 0, 0, 0, 0, 0, 0, 0, 0, 0, 0, 0, 0, 0, 0, 0, 0, 0, 0, 0, 0, 0, 0, 0, 0, 0, 0, 0, 0, 0, 0, 0, 0, 0, 0, 0, 0, 0, 0, 0, 0, 0, 0, 0, 0, 0, 0, 0, 0, 0, 0, 0, 0, 0, 0, 0, 0, 0, 0, 0, 0, 0, 0, 0, 0, 0, 0, 0, 0, 0, 0, 0, 0, 0, 0, 0, 0, 0, 0, 0, 0, 0, 0, 0, 0, 0, 0, 0, 0, 0, 0, 0, 0, 0, 0, 0, 0, 0, 0, 0, 0, 0, 0, 0, 0, 0, 0, 0, 0, 0, 0, 0, 0, 0, 0, 0, 0, 0, 0, 0, 0, 0, 0, 0, 0, 0, 0, 0, 0, 0, 0, 0, 0, 0, 0, 0, 0, 0, 0, 0, 0, 0, 0, 0, 0, 0, 0, 0, 0, 0, 0, 0, 0, 0, 0, 0, 0, 0, 0, 0, 0, 0, 0, 0, 0, 0, 0, 0, 0, 0, 0, 0, 0, 0, 0, 0, 0, 0, 0, 0, 0, 0, 0, 0, 0, 0, 0, 1, 0, 0, 0, 0, 0, 0, 0, 0, 0, 0, 0, 0, 0, 0, 0, 0, 0, 0, 0, 0, 0, 0, 0, 0, 0, 0, 0, 0, 0, 0, 0, 0, 0, 0, 0, 0, 0, 0, 0, 0, 0, 0, 0, 0, 0, 0, 0, 0, 0, 0, 0, 0, 0, 0, 0, 0, 0, 0, 0, 0, 0, 0, 0, 0, 0, 0, 0, 0, 0, 0, 0, 0, 0, 0, 0, 0, 0, 0, 0, 0, 0, 0, 0, 0, 0, 0, 0, 0, 0, 0, 0, 0, 0, 0, 0, 0, 0, 0, 0, 0, 0, 0, 0, 0, 0, 0, 0, 0, 0, 0, 0, 0, 0, 0, 0, 0, 0, 0, 0, 0, 0, 0, 0, 0, 0, 0, 0, 0, 0, 0, 0, 0, 0, 0, 0, 0, 0, 0, 0, 0, 0, 0, 0, 0, 0, 0, 0, 0, 0, 0, 0, 0, 0, 0, 0, 0, 0, 0, 0, 0, 0, 0, 0, 0, 0, 0, 0, 0, 0, 0, 0, 0, 0, 0, 0, 0, 0, 0, 0, 0, 0, 0, 0, 0, 0, 0, 0, 0, 0, 0, 0, 0, 0, 0, 0, 0, 0, 0, 0, 0, 0, 0, 0, 0, 0, 0, 0, 0, 0, 0, 0, 0, 0, 0, 0, 0, 0, 0, 0, 0, 0, 0, 0, 0, 0, 0, 0, 0, 0, 0, 0, 0, 0, 0, 0, 0, 0, 0, 0, 0, 0, 0, 0, 0, 0, 0, 0, 0, 0, 0, 0, 0, 0, 0, 0, 0, 0, 0, 0, 0, 0, 0, 0, 0, 0, 0, 0, 0, 0, 0, 0, 0, 0, 0, 0, 0, 0, 0, 0, 0, 0, 0, 0, 0, 0, 0, 0, 0, 0, 0, 0, 0, 0, 0, 0, 0, 0, 0, 0, 0, 0, 0, 0, 0, 0, 0, 0, 0, 0, 0, 0, 0, 0, 0, 0, 0, 0, 0, 0, 0, 0, 0, 0, 0, 0, 0, 0, 0, 0, 0, 0, 0, 0, 0, 0, 0, 0, 0, 0, 0, 0, 0, 0, 0, 0, 0, 0, 0, 0, 0, 0, 0, 0, 0, 0, 0, 0, 0, 0, 0, 0, 0, 0, 0, 0, 0, 0, 0, 0, 0, 0, 0, 0, 0, 0, 0, 0, 0, 0, 0, 0, 0, 0, 0, 0, 0, 0, 0, 0, 0, 0, 0, 0, 0, 0, 0, 0, 0, 0, 0, 0, 0, 0, 0, 0, 0, 0, 0, 0, 0, 0, 0, 0, 0, 0, 0, 0, 0, 0, 0, 0, 0, 0, 0, 0, 0, 0, 0, 0, 0, 0, 0, 0, 0, 0, 0, 0, 0, 0, 0, 0, 0, 0, 0, 0, 0, 0, 0, 0, 0, 0, 0, 0, 0, 0, 0, 0, 0, 0, 0, 0, 0, 0, 0, 0, 0, 0, 0, 0, 0, 0, 0, 0, 0, 0, 0, 0, 0, 0, 0, 0, 0, 0, 0, 0, 0, 0, 0, 0, 0, 0, 0, 0, 0, 0, 0, 0, 0, 0, 0, 0, 0, 0, 0, 0, 0, 0, 0, 0, 0, 0, 0, 1, 0, 0, 0, 0, 0, 0, 0, 0, 0, 0, 0, 0, 0, 0, 0, 0, 0, 0, 0, 0, 0, 0, 0, 0, 0, 0, 0, 0, 0, 0, 0, 0, 0, 0, 0, 2, 0, 0, 0, 0, 0, 0, 0, 0, 0, 0, 0, 0, 0, 0, 0, 0, 0, 0, 0, 0, 0, 0, 0, 0, 0, 0, 0, 0, 0, 0, 0, 0, 0, 0, 0, 0, 0, 0, 0, 0, 1, 0, 0, 0, 0, 0, 0, 0, 0, 0, 0, 0, 0, 0, 0, 0, 0, 0, 0, 0, 0, 0, 0, 0, 0, 0, 0, 0, 0, 0, 0, 0, 0, 0, 0, 0, 0, 0, 0, 0, 0, 0, 0, 0, 0, 0, 0, 0, 0, 0, 0, 0, 0, 0, 0, 0, 0, 0, 0, 0, 0, 0, 0, 0, 0, 0, 0, 0, 0, 0, 0, 0, 0, 0, 0, 0, 0, 0, 0, 0, 0, 0, 0, 0, 0, 0, 0, 0, 0, 0, 0, 0, 0, 0, 0, 0, 0, 0, 0, 0, 0, 0, 0, 0, 0, 0, 0, 0, 0, 0, 0, 0, 0, 0, 0, 0, 0, 0, 0, 0, 0, 0, 0, 0, 0, 0, 0, 0, 0, 0, 0, 0, 0, 0, 0, 0, 0, 0, 0, 0, 0, 0, 0, 0, 0, 0, 0, 0, 0, 0, 0, 0, 0, 0, 0, 0, 0, 0, 0, 0, 0, 0, 0, 0, 0, 0, 0, 0, 0, 0, 0, 0, 0, 0, 0, 0, 0, 0, 0, 0, 0, 0, 0, 0, 0, 0, 0, 0, 0, 0, 0, 0, 0, 0, 0, 0, 0, 0, 0, 0, 0, 0, 0, 0, 0, 0, 0, 0, 0, 0, 0, 0, 0, 0, 0, 0, 0, 0, 0, 0, 0, 0, 0, 0, 0, 0, 0, 0, 0, 0, 0, 0, 0, 0, 0, 0, 0, 0, 0, 0, 0, 0, 0, 0, 0, 0, 0, 0, 0, 0, 0, 0, 0, 0, 0, 0, 0, 0, 0, 0, 0, 0, 0, 0, 0, 0, 0, 0, 0, 0, 0, 0, 0, 0, 0, 0, 0, 0, 0, 0, 0, 0, 0, 0, 0, 0, 0, 0, 0, 0, 0, 0, 0, 0, 0, 0, 0, 0, 0, 0, 0, 0, 0, 0, 0, 0, 0, 0, 0, 0, 0, 0, 0, 0, 0, 0, 0, 0, 0, 0, 0, 0, 0, 0, 0, 0, 0, 0, 0, 0, 0, 0, 0, 0, 0, 0, 0, 0, 0, 0, 0, 0, 0, 0, 0, 0, 0, 0, 0, 0, 0, 0, 0, 0, 0, 0, 0, 0, 0, 0, 0, 0, 0, 0, 0, 0, 0, 0, 0, 0, 0, 0, 0, 0, 0, 0, 0, 0, 0, 0, 0, 0, 0, 0, 0, 0, 0, 0, 0, 0, 0, 0, 0, 0, 0, 0, 0, 0, 0, 0, 0, 0, 0, 0, 0, 0, 0, 0, 0, 0, 0, 0, 0, 0, 0, 0, 0, 0, 0, 0, 0, 0, 0, 0, 0, 0, 0, 0, 0, 0, 0, 0, 0, 0, 0, 0, 0, 0, 0, 0, 0, 0, 0, 0, 0, 0, 0, 0, 0, 0, 0, 0, 0, 0, 0, 0, 0, 0, 0, 0, 0, 0, 0, 0, 0, 0, 0, 0, 0, 0, 0, 0, 0, 0, 0, 0, 0, 0, 0, 0, 0, 0, 0, 0, 0, 0, 0, 0, 0, 0, 0, 0, 0, 0, 0, 0, 0, 0, 1, 0, 0, 0, 0, 0, 0, 0, 0, 0, 0, 0, 0, 0, 0, 0, 0, 0, 0, 0, 0, 0, 0, 0, 0, 0, 0, 0, 0, 0, 0, 0, 0, 0, 0, 0, 0, 0, 0, 0, 0, 0, 0, 0, 0, 0, 0, 0, 0, 0, 0, 0, 0, 0, 0, 0, 0, 0, 0, 0, 0, 0, 0, 0, 0, 0, 0, 0, 0, 0, 0, 0, 0, 0, 0, 0, 0, 0, 0, 0, 0, 0, 0, 0, 0, 0, 0, 0, 0, 0, 0, 0, 0, 0, 0, 0, 0, 0, 0, 0, 0, 0, 0, 0, 0, 0, 0, 0, 0, 0, 0, 2, 0, 0, 0, 0, 0, 0, 0, 0, 0, 0, 0, 0, 0, 0, 0, 0, 0, 0, 0, 0, 0, 0, 0, 0, 0, 0, 0, 0, 0, 0, 0, 0, 0, 0, 0, 0, 0, 0, 0, 0, 0, 0, 0, 0, 0, 0, 0, 0, 0, 0, 0, 0, 0, 0, 0, 0, 0, 0, 0, 0, 0, 0, 0, 0, 0, 0, 0, 0, 0, 0, 0, 0, 0, 0, 0, 0, 0, 0, 0, 0, 0, 0, 0, 0, 0, 0, 0, 0, 0, 0, 0, 0, 0, 0, 0, 0, 0, 0, 0, 0, 0, 0, 0, 0, 0, 0, 0, 0, 0, 0, 0, 0, 0, 0, 0, 0, 0, 0, 0, 0, 0, 0, 0, 0, 0, 0, 0, 0, 0, 0, 0, 0, 0, 0, 0, 0, 0, 0, 0, 0, 0, 0, 0, 0, 0, 0, 0, 0, 0, 0, 0, 0, 0, 0, 0, 0, 0, 0, 0, 0, 0, 0, 0, 0, 0, 0, 0, 0, 0, 0, 0, 0, 0, 0, 0, 0, 0, 0, 0, 0, 0, 0, 0, 0, 0, 0, 0, 0, 0, 0, 0, 0, 0, 0, 0, 0, 0, 0, 0, 0, 0, 0, 0, 0, 0, 0, 0, 0, 0, 0, 0, 0, 0, 0, 0, 0, 0, 0, 0, 0, 0, 0, 0, 0, 0, 0, 0, 0, 0, 0, 0, 0, 0, 0, 0, 0, 0, 0, 0, 0, 0, 0, 0, 0, 0, 0, 0, 0, 0, 0, 0, 0, 0, 0, 0, 0, 0, 0, 0, 0, 0, 0, 0, 0, 0, 0, 0, 0, 0, 0, 0, 0, 0, 0, 0, 0, 0, 0, 0, 0, 0, 0, 0, 0, 0, 0, 0, 0, 0, 0, 0, 0, 0, 0, 0, 0, 0, 0, 0, 0, 0, 0, 0, 0, 0, 0, 0, 0, 0, 0, 0, 0, 0, 0, 0, 0, 0, 0, 0, 0, 0, 0, 0, 0, 0, 0, 0, 0, 0, 0, 0, 0, 0, 0, 0, 0, 0, 0, 0, 0, 0, 0, 0, 0, 0, 0, 0, 0, 0, 0, 0, 0, 0, 0, 0, 0, 0, 0, 0, 0, 0, 0, 0, 0, 0, 0, 0, 0, 0, 0, 0, 0, 0, 0, 0, 0, 0, 0, 0, 0, 0, 0, 0, 0, 0, 0, 0, 0, 0, 0, 0, 0, 0, 0, 0, 0, 0, 0, 0, 0, 0, 0, 0, 0, 0, 0, 0, 0, 0, 0, 0, 0, 0, 0, 0, 0, 0, 0, 0, 0, 0, 0, 0, 0, 0, 0, 0, 0, 0, 0, 0, 0, 0, 0, 0, 0, 0, 0, 0, 0, 0, 0, 0, 0, 0, 0, 0, 0, 0, 0, 0, 0, 0, 0, 0, 0, 0, 0, 0, 0, 0, 0, 0, 0, 0, 0, 0, 0, 0, 0, 0, 0, 0, 0, 0, 0, 0, 0, 0, 0, 0, 0, 0, 0, 0, 0, 0, 0, 0, 0, 0, 0, 0, 0, 0, 0, 0, 0, 0, 0, 0, 0, 0, 0, 0, 0, 0, 0, 0, 0, 0, 0, 0, 0, 0, 0, 0, 0, 0, 0, 0, 0, 0, 0, 0, 0, 0, 0, 0, 0, 0, 0, 0, 0, 0, 0, 0, 0, 0, 0, 0, 0, 0, 0, 0, 0, 0, 0, 0, 0, 0, 0, 0, 0, 0, 0, 0, 0, 0, 0, 0, 0, 0, 0, 0, 0, 0, 0, 0, 0, 0, 0, 0, 0, 0, 0, 0, 0, 0, 0, 0, 0, 0, 0, 0, 0, 0, 0, 0, 0, 0, 0, 0, 0, 0, 0, 0, 0, 0, 0, 0, 0, 0, 0, 0, 0, 0, 0, 0, 0, 0, 0, 0, 0, 0, 0, 0, 0, 0, 0, 0, 0, 0, 0, 0, 0, 0, 0, 0, 0, 0, 0, 0, 0, 0, 0, 0, 0, 0, 0, 0, 0, 0, 0, 0, 0, 0, 0, 0, 0, 0, 0, 0, 0, 0, 0, 0, 0, 0, 0, 0, 0, 0, 0, 0, 0, 0, 0, 0, 0, 0, 0, 0, 0, 0, 0, 0, 0, 0, 0, 0, 0, 0, 0, 0, 0, 0, 0, 0, 0, 1, 0, 0, 0, 0, 0, 0, 0, 0, 0, 0, 0, 0, 0, 0, 0, 0, 0, 0, 0, 0, 0, 0, 0, 0, 0, 0, 0, 0, 0, 0, 0, 0, 0, 0, 0, 0, 0, 0, 0, 0, 0, 0, 0, 0, 0, 0, 0, 0, 0, 0, 0, 0, 0, 0, 0, 0, 0, 0, 0, 0, 0, 0, 0, 0, 0, 0, 0, 0, 0, 0, 0, 0, 0, 0, 0, 0, 0, 0, 0, 0, 0, 0, 0, 0, 0, 0, 0, 0, 0, 0, 0, 0, 0, 0, 0, 0, 0, 0, 0, 0, 0, 0, 0, 0, 0, 0, 0, 1, 0, 0, 0, 0, 0, 0, 0, 0, 0, 0, 0, 0, 0, 0, 0, 0, 0, 0, 0, 0, 0, 0, 0, 0, 0, 0, 0, 0, 0, 0, 0, 0, 0, 0, 0, 0, 0, 0, 0, 0, 0, 0, 0, 0, 0, 0, 0, 0, 0, 0, 0, 0, 0, 0, 0, 0, 0, 0, 0, 0, 0, 0, 0, 0, 0, 0, 0, 0, 0, 0, 0, 0, 0, 0, 0, 0, 0, 0, 0, 0, 0, 0, 0, 0, 0, 0, 0, 0, 0, 0, 0, 0, 0, 0, 0, 0, 0, 0, 0, 0, 0, 0, 0, 0, 0, 0, 0, 0, 0, 0, 0, 0, 0, 0, 0, 0, 0, 0, 0, 0, 0, 0, 0, 0, 0, 0, 0, 0, 0, 0, 0, 0, 0, 0, 0, 0, 0, 0, 0, 0, 0, 0, 0, 0, 0, 0, 0, 0, 0, 0, 0, 0, 0, 0, 0, 0, 0, 0, 0, 0, 0, 0, 0, 0, 0, 0, 0, 0, 0, 0, 0, 0, 0, 0, 0, 0, 0, 0, 0, 0, 0, 0, 0, 0, 0, 0, 0, 0, 0, 0, 0, 0, 0, 0, 0, 0, 0, 0, 0, 0, 0, 0, 0, 0, 0, 0, 0, 0, 0, 0, 0, 0, 0, 0, 0, 0, 0, 0, 0, 0, 0, 0, 0, 0, 0, 0, 0, 0, 0, 0, 0, 0, 0, 0, 0, 0, 0, 0, 0, 0, 0, 0, 0, 0, 0, 0, 0, 0, 0, 0, 0, 0, 0, 0, 0, 0, 0, 0, 0, 0, 0, 0, 0, 0, 0, 0, 0, 0, 0, 0, 0, 0, 0, 0, 0, 0, 0, 0, 0, 0, 0, 0, 0, 0, 0, 0, 0, 0, 0, 0, 0, 0, 0, 0, 0, 0, 0, 0, 0, 0, 0, 0, 0, 0, 0, 0, 0, 0, 0, 0, 0, 0, 0, 0, 0, 0, 0, 0, 0, 0, 0, 0, 0, 0, 0, 0, 0, 0, 0, 0, 0, 0, 0, 0, 0, 0, 0, 0, 0, 0, 0, 0, 0, 0, 0, 0, 0, 0, 0, 0, 0, 0, 0, 0, 0, 0, 0, 0, 0, 0, 0, 0, 0, 0, 0, 0, 0, 0, 0, 0, 0, 0, 0, 0, 0, 0, 0, 0, 0, 0, 0, 0, 0, 0, 0, 0, 0, 0, 0, 0, 0, 0, 0, 0, 0, 0, 0, 0, 0, 0, 0, 0, 0, 0, 0, 0, 0, 0, 0, 0, 0, 0, 0, 0, 0, 0, 0, 0, 0, 0, 0, 0, 0, 0, 0, 0, 0, 0, 0, 0, 0, 0, 0, 0, 0, 0, 0, 0, 0, 0, 0, 0, 0, 0, 0, 0, 0, 0, 0, 0, 0, 0, 0, 0, 0, 0, 0, 0, 0, 0, 0, 0, 0, 2, 0, 1, 0]\n"
     ]
    }
   ],
   "source": [
    "test_bow = bow_encoding(test_words, vocabulary)\n",
    "print(test_bow)"
   ]
  },
  {
   "cell_type": "code",
   "execution_count": 40,
   "metadata": {},
   "outputs": [
    {
     "data": {
      "text/plain": [
       "5000"
      ]
     },
     "execution_count": 40,
     "metadata": {},
     "output_type": "execute_result"
    }
   ],
   "source": [
    "len(test_bow)"
   ]
  },
  {
   "cell_type": "markdown",
   "metadata": {},
   "source": [
    "So now we know how to construct a bag of words encoding of a user provided review, how to we send it to our endpoint? First, we need to start the endpoint back up."
   ]
  },
  {
   "cell_type": "code",
   "execution_count": 41,
   "metadata": {},
   "outputs": [
    {
     "name": "stderr",
     "output_type": "stream",
     "text": [
      "WARNING:sagemaker:Parameter image will be renamed to image_uri in SageMaker Python SDK v2.\n",
      "WARNING:sagemaker:Using already existing model: xgboost-2020-06-24-00-06-05-002\n"
     ]
    },
    {
     "name": "stdout",
     "output_type": "stream",
     "text": [
      "-------------!"
     ]
    }
   ],
   "source": [
    "xgb_predictor = xgb.deploy(initial_instance_count = 1, instance_type = 'ml.m4.xlarge')"
   ]
  },
  {
   "cell_type": "markdown",
   "metadata": {},
   "source": [
    "At this point we could just do the same thing that we did earlier when we tested our deployed model and send `test_bow` to our endpoint using the `xgb_predictor` object. However, when we eventually construct our Lambda function we won't have access to this object, so how do we call a SageMaker endpoint?\n",
    "\n",
    "It turns out that Python functions that are used in Lambda have access to another Amazon library called `boto3`. This library provides an API for working with Amazon services, including SageMaker. To start with, we need to get a handle to the SageMaker runtime."
   ]
  },
  {
   "cell_type": "code",
   "execution_count": 42,
   "metadata": {},
   "outputs": [],
   "source": [
    "import boto3\n",
    "\n",
    "runtime = boto3.Session().client('sagemaker-runtime')"
   ]
  },
  {
   "cell_type": "markdown",
   "metadata": {},
   "source": [
    "And now that we have access to the SageMaker runtime, we can ask it to make use of (invoke) an endpoint that has already been created. However, we need to provide SageMaker with the name of the deployed endpoint. To find this out we can print it out using the `xgb_predictor` object."
   ]
  },
  {
   "cell_type": "code",
   "execution_count": 43,
   "metadata": {},
   "outputs": [
    {
     "data": {
      "text/plain": [
       "'xgboost-2020-06-24-00-06-05-002'"
      ]
     },
     "execution_count": 43,
     "metadata": {},
     "output_type": "execute_result"
    }
   ],
   "source": [
    "xgb_predictor.endpoint"
   ]
  },
  {
   "cell_type": "markdown",
   "metadata": {},
   "source": [
    "Using the SageMaker runtime and the name of our endpoint, we can invoke the endpoint and send it the `test_bow` data."
   ]
  },
  {
   "cell_type": "code",
   "execution_count": 44,
   "metadata": {},
   "outputs": [
    {
     "ename": "ParamValidationError",
     "evalue": "Parameter validation failed:\nInvalid type for parameter Body, value: [0, 0, 0, 0, 0, 0, 0, 0, 0, 0, 0, 0, 0, 0, 0, 0, 0, 0, 0, 0, 0, 0, 0, 0, 0, 0, 0, 0, 0, 0, 0, 0, 0, 0, 0, 0, 0, 0, 0, 0, 0, 0, 0, 0, 0, 0, 0, 0, 0, 0, 0, 0, 0, 0, 0, 0, 0, 0, 0, 0, 0, 0, 0, 0, 0, 0, 0, 0, 0, 0, 0, 0, 0, 0, 0, 0, 0, 0, 0, 0, 0, 0, 0, 0, 0, 0, 0, 0, 0, 0, 0, 0, 0, 0, 0, 0, 0, 0, 0, 0, 0, 0, 0, 0, 0, 0, 0, 0, 0, 0, 0, 0, 0, 0, 0, 0, 0, 0, 0, 0, 0, 0, 0, 0, 0, 0, 0, 0, 0, 0, 0, 0, 0, 0, 0, 0, 0, 0, 0, 0, 0, 0, 0, 0, 0, 0, 0, 0, 0, 0, 0, 0, 0, 0, 0, 0, 0, 0, 0, 0, 0, 0, 0, 0, 0, 0, 0, 0, 0, 0, 0, 0, 0, 0, 0, 0, 0, 0, 0, 0, 0, 0, 0, 0, 0, 0, 0, 0, 0, 0, 0, 0, 0, 0, 0, 0, 0, 0, 0, 0, 0, 0, 0, 0, 0, 0, 0, 0, 0, 0, 0, 0, 0, 0, 0, 0, 0, 0, 0, 0, 0, 0, 0, 0, 0, 0, 1, 0, 0, 0, 0, 0, 0, 0, 0, 0, 0, 0, 0, 0, 0, 0, 0, 0, 0, 0, 0, 0, 0, 0, 0, 0, 0, 0, 0, 0, 1, 0, 0, 0, 0, 0, 0, 0, 0, 0, 0, 0, 0, 0, 0, 0, 0, 0, 0, 0, 0, 0, 0, 0, 0, 0, 0, 0, 0, 0, 0, 0, 0, 0, 0, 0, 0, 0, 0, 0, 0, 0, 0, 0, 0, 0, 0, 0, 0, 0, 0, 0, 0, 0, 0, 0, 0, 0, 0, 0, 0, 0, 0, 0, 0, 0, 0, 0, 0, 0, 0, 0, 0, 0, 0, 0, 0, 0, 0, 0, 0, 0, 0, 0, 0, 0, 0, 0, 0, 0, 0, 0, 0, 0, 0, 0, 0, 0, 0, 0, 0, 0, 0, 0, 0, 0, 0, 0, 0, 0, 0, 0, 0, 0, 0, 0, 0, 0, 0, 0, 0, 0, 0, 0, 0, 0, 0, 0, 0, 0, 0, 0, 0, 0, 0, 0, 0, 0, 0, 0, 0, 0, 0, 0, 0, 0, 0, 0, 0, 0, 0, 0, 0, 0, 0, 0, 0, 0, 0, 0, 0, 0, 0, 0, 0, 0, 0, 0, 0, 0, 0, 0, 0, 0, 0, 0, 0, 0, 0, 0, 0, 0, 0, 0, 0, 0, 0, 0, 0, 0, 0, 0, 0, 0, 0, 0, 0, 0, 0, 0, 0, 0, 0, 0, 0, 0, 0, 0, 0, 0, 0, 0, 0, 0, 0, 0, 0, 0, 0, 0, 0, 0, 0, 0, 0, 0, 0, 0, 0, 0, 0, 0, 0, 0, 0, 0, 0, 0, 0, 0, 0, 0, 0, 0, 0, 0, 0, 0, 0, 0, 0, 0, 0, 0, 0, 0, 0, 0, 0, 0, 0, 0, 0, 0, 0, 0, 0, 0, 0, 0, 0, 0, 0, 0, 0, 0, 0, 0, 0, 0, 0, 0, 0, 0, 0, 0, 0, 0, 0, 0, 0, 0, 0, 0, 0, 0, 0, 0, 0, 0, 0, 0, 0, 0, 0, 0, 0, 0, 0, 0, 0, 0, 0, 0, 0, 0, 0, 0, 0, 0, 0, 0, 0, 0, 0, 0, 0, 0, 0, 0, 0, 0, 0, 0, 0, 0, 0, 0, 0, 0, 0, 0, 0, 0, 0, 0, 0, 0, 0, 0, 0, 0, 0, 0, 0, 0, 0, 0, 0, 0, 0, 0, 0, 0, 0, 0, 0, 0, 0, 0, 0, 0, 0, 0, 0, 0, 0, 0, 0, 0, 1, 0, 0, 0, 0, 0, 0, 0, 0, 0, 0, 0, 0, 0, 0, 0, 0, 0, 0, 0, 0, 0, 0, 0, 0, 0, 0, 0, 0, 0, 0, 0, 0, 0, 0, 0, 0, 0, 0, 0, 0, 0, 0, 0, 0, 0, 0, 0, 0, 0, 0, 0, 0, 0, 0, 0, 0, 0, 0, 0, 0, 0, 0, 0, 0, 0, 0, 0, 0, 0, 0, 0, 0, 0, 0, 0, 0, 0, 0, 0, 0, 0, 0, 0, 0, 0, 0, 0, 0, 0, 0, 0, 0, 0, 0, 0, 0, 0, 0, 0, 0, 0, 0, 0, 0, 0, 0, 0, 0, 0, 0, 0, 0, 0, 0, 0, 0, 0, 0, 0, 0, 0, 0, 0, 0, 0, 0, 0, 0, 0, 0, 0, 0, 0, 0, 0, 0, 0, 0, 0, 0, 0, 0, 0, 0, 0, 0, 0, 0, 0, 0, 0, 0, 0, 0, 0, 0, 0, 0, 0, 0, 0, 0, 0, 0, 0, 0, 0, 0, 0, 0, 0, 0, 0, 0, 0, 0, 0, 0, 0, 0, 0, 0, 0, 0, 0, 0, 0, 0, 0, 0, 0, 0, 0, 0, 0, 0, 0, 0, 0, 0, 0, 0, 0, 0, 0, 0, 0, 0, 0, 0, 0, 0, 0, 0, 0, 0, 0, 0, 0, 0, 0, 0, 0, 0, 0, 0, 0, 0, 0, 0, 0, 0, 0, 0, 0, 0, 0, 0, 0, 0, 0, 0, 0, 0, 0, 0, 0, 0, 0, 0, 0, 0, 0, 1, 0, 0, 0, 0, 0, 0, 0, 0, 0, 0, 0, 0, 0, 0, 0, 0, 0, 0, 0, 0, 0, 0, 0, 0, 0, 0, 0, 0, 0, 0, 0, 0, 0, 0, 0, 0, 0, 0, 0, 0, 0, 0, 0, 0, 0, 0, 0, 0, 0, 0, 0, 0, 0, 0, 0, 0, 0, 0, 0, 0, 0, 0, 0, 0, 0, 0, 0, 0, 0, 0, 0, 0, 0, 0, 0, 0, 0, 0, 0, 0, 0, 0, 0, 0, 0, 0, 1, 0, 0, 0, 0, 0, 0, 0, 0, 0, 0, 0, 0, 0, 0, 0, 0, 0, 0, 0, 0, 0, 0, 0, 0, 0, 0, 0, 0, 0, 0, 0, 0, 0, 0, 0, 0, 0, 0, 0, 0, 0, 0, 0, 0, 0, 0, 0, 0, 0, 0, 0, 0, 0, 0, 0, 0, 0, 0, 0, 0, 0, 0, 0, 0, 0, 0, 0, 0, 0, 0, 0, 0, 0, 0, 0, 0, 0, 0, 0, 0, 0, 0, 0, 0, 0, 0, 0, 0, 0, 0, 0, 0, 0, 0, 0, 0, 0, 0, 0, 0, 0, 0, 0, 0, 0, 0, 0, 0, 0, 0, 0, 0, 0, 0, 0, 0, 0, 0, 0, 0, 0, 0, 0, 0, 0, 0, 0, 0, 0, 0, 0, 0, 0, 0, 0, 0, 0, 0, 0, 0, 0, 0, 0, 0, 0, 0, 0, 0, 0, 0, 0, 0, 0, 0, 0, 0, 0, 0, 0, 0, 0, 0, 0, 0, 0, 0, 0, 0, 0, 0, 0, 0, 0, 0, 0, 0, 0, 0, 0, 0, 0, 0, 0, 0, 0, 0, 0, 0, 0, 0, 0, 0, 0, 0, 0, 0, 0, 0, 0, 0, 0, 0, 0, 0, 0, 0, 0, 0, 0, 0, 0, 0, 0, 0, 0, 0, 0, 0, 0, 0, 0, 0, 0, 0, 0, 0, 0, 0, 0, 0, 0, 0, 0, 0, 0, 0, 0, 0, 0, 0, 0, 0, 0, 0, 0, 0, 0, 0, 0, 0, 0, 0, 1, 0, 0, 0, 0, 0, 0, 0, 0, 0, 0, 0, 0, 0, 0, 0, 0, 0, 0, 0, 0, 0, 0, 0, 0, 0, 0, 0, 0, 0, 0, 0, 0, 0, 0, 0, 0, 0, 0, 0, 0, 0, 0, 0, 0, 0, 0, 0, 0, 0, 0, 0, 0, 0, 0, 0, 1, 0, 0, 0, 0, 0, 0, 0, 0, 0, 0, 0, 0, 0, 0, 0, 0, 0, 0, 0, 0, 0, 0, 0, 0, 0, 0, 0, 0, 0, 0, 0, 0, 0, 0, 0, 0, 0, 0, 0, 0, 0, 0, 0, 0, 0, 0, 0, 0, 0, 0, 0, 0, 0, 0, 0, 0, 0, 0, 0, 0, 0, 0, 0, 0, 0, 0, 0, 0, 0, 0, 0, 0, 0, 0, 0, 0, 0, 0, 0, 0, 0, 0, 0, 0, 0, 0, 0, 0, 0, 0, 0, 0, 0, 0, 0, 0, 0, 0, 0, 0, 0, 0, 0, 0, 0, 0, 0, 0, 0, 0, 0, 0, 0, 0, 0, 0, 0, 0, 0, 0, 0, 0, 0, 0, 0, 0, 0, 0, 0, 0, 0, 0, 0, 0, 0, 0, 0, 0, 0, 0, 0, 0, 0, 0, 0, 0, 0, 0, 0, 0, 0, 0, 0, 0, 0, 0, 0, 0, 0, 0, 0, 0, 0, 0, 0, 0, 0, 0, 0, 0, 0, 0, 0, 0, 0, 0, 0, 0, 0, 0, 0, 0, 0, 0, 0, 0, 0, 0, 0, 0, 0, 0, 0, 0, 0, 0, 0, 0, 0, 0, 0, 0, 0, 0, 0, 0, 0, 0, 0, 0, 0, 0, 0, 0, 0, 0, 0, 0, 0, 0, 0, 0, 0, 0, 0, 0, 0, 0, 0, 0, 0, 0, 0, 0, 0, 0, 0, 0, 0, 0, 0, 0, 0, 0, 0, 0, 0, 0, 0, 0, 0, 0, 0, 0, 0, 0, 0, 0, 0, 0, 0, 0, 0, 0, 0, 0, 0, 0, 0, 0, 0, 0, 0, 0, 0, 0, 0, 0, 0, 0, 0, 0, 0, 0, 0, 0, 0, 0, 0, 0, 0, 0, 0, 0, 0, 0, 0, 0, 0, 0, 0, 0, 0, 0, 0, 0, 0, 0, 0, 0, 0, 0, 0, 0, 0, 0, 0, 0, 0, 0, 0, 0, 0, 0, 0, 0, 0, 0, 0, 0, 0, 0, 0, 0, 0, 0, 0, 0, 0, 0, 0, 0, 0, 0, 0, 0, 0, 0, 0, 0, 0, 0, 0, 0, 0, 0, 0, 0, 0, 0, 0, 0, 0, 0, 0, 0, 0, 0, 0, 0, 0, 0, 0, 0, 0, 0, 0, 0, 0, 0, 0, 0, 0, 0, 0, 0, 0, 0, 0, 0, 0, 0, 0, 0, 0, 0, 0, 0, 0, 0, 0, 0, 0, 0, 0, 0, 0, 0, 0, 0, 0, 0, 0, 0, 0, 0, 0, 0, 0, 0, 0, 0, 0, 0, 0, 0, 0, 0, 0, 0, 0, 0, 0, 0, 0, 0, 0, 0, 0, 0, 0, 0, 0, 0, 0, 0, 0, 0, 0, 0, 0, 0, 0, 0, 0, 0, 0, 0, 0, 0, 0, 0, 0, 0, 0, 0, 0, 0, 0, 0, 0, 0, 0, 0, 0, 0, 0, 0, 0, 0, 0, 0, 0, 0, 0, 0, 0, 0, 0, 0, 0, 0, 0, 0, 0, 0, 0, 0, 0, 0, 0, 0, 0, 0, 0, 0, 0, 0, 0, 0, 0, 0, 0, 0, 0, 0, 0, 0, 0, 0, 0, 0, 0, 0, 0, 0, 0, 0, 0, 0, 0, 0, 0, 0, 0, 0, 0, 0, 0, 0, 0, 0, 0, 0, 0, 0, 0, 0, 0, 0, 0, 0, 0, 0, 0, 0, 0, 0, 0, 0, 0, 0, 0, 0, 0, 0, 0, 0, 0, 0, 0, 0, 0, 0, 0, 0, 0, 0, 0, 0, 0, 0, 0, 0, 0, 0, 0, 0, 0, 0, 0, 0, 0, 0, 0, 0, 0, 0, 0, 0, 0, 0, 0, 0, 0, 0, 0, 0, 0, 0, 0, 0, 0, 0, 0, 0, 0, 0, 0, 0, 0, 0, 0, 0, 0, 0, 0, 0, 0, 0, 0, 0, 0, 0, 0, 0, 0, 0, 0, 0, 0, 0, 0, 0, 0, 0, 0, 0, 0, 0, 0, 0, 0, 0, 0, 0, 0, 0, 0, 0, 0, 0, 0, 0, 0, 0, 0, 0, 0, 0, 0, 0, 0, 0, 0, 0, 0, 0, 0, 0, 0, 1, 0, 0, 0, 0, 0, 0, 0, 0, 0, 0, 0, 0, 0, 0, 0, 0, 0, 0, 0, 0, 0, 0, 0, 0, 0, 0, 0, 0, 0, 0, 0, 0, 0, 0, 0, 0, 0, 0, 0, 0, 0, 0, 0, 0, 0, 0, 0, 0, 0, 0, 0, 0, 0, 0, 0, 0, 0, 0, 0, 0, 0, 0, 0, 0, 0, 0, 0, 0, 0, 0, 0, 0, 0, 0, 1, 0, 0, 0, 0, 0, 0, 0, 0, 0, 0, 0, 0, 0, 0, 0, 0, 0, 0, 0, 0, 1, 0, 0, 1, 0, 0, 0, 0, 0, 0, 0, 0, 0, 0, 0, 0, 0, 0, 0, 0, 0, 0, 0, 0, 0, 0, 0, 0, 0, 0, 0, 0, 0, 0, 0, 0, 0, 0, 0, 0, 0, 0, 0, 0, 0, 0, 0, 0, 0, 0, 0, 0, 0, 0, 0, 0, 0, 0, 0, 0, 0, 0, 0, 0, 0, 0, 0, 0, 0, 0, 0, 0, 0, 0, 0, 0, 0, 0, 0, 0, 0, 0, 0, 0, 0, 0, 0, 0, 0, 0, 0, 0, 0, 0, 0, 0, 0, 0, 0, 0, 0, 0, 0, 0, 0, 0, 0, 0, 0, 0, 0, 0, 0, 0, 0, 0, 0, 0, 0, 0, 0, 0, 0, 0, 0, 0, 0, 0, 0, 0, 0, 0, 0, 0, 0, 0, 0, 0, 0, 0, 0, 0, 0, 0, 0, 0, 0, 0, 0, 0, 0, 0, 0, 0, 0, 0, 0, 0, 0, 0, 0, 0, 0, 0, 0, 0, 0, 0, 0, 0, 0, 0, 0, 0, 0, 0, 0, 0, 0, 0, 0, 0, 0, 0, 0, 0, 0, 0, 0, 0, 0, 0, 0, 0, 0, 0, 0, 0, 0, 0, 0, 0, 0, 0, 0, 0, 0, 0, 0, 0, 0, 0, 0, 0, 0, 0, 0, 0, 0, 0, 0, 0, 0, 0, 0, 0, 0, 0, 0, 0, 0, 0, 0, 0, 0, 0, 0, 0, 0, 0, 0, 0, 0, 0, 0, 0, 0, 0, 0, 0, 0, 0, 0, 0, 0, 0, 0, 0, 0, 0, 0, 0, 0, 0, 0, 0, 0, 0, 0, 0, 0, 0, 0, 0, 0, 0, 0, 0, 0, 0, 0, 0, 0, 0, 0, 0, 0, 0, 0, 0, 0, 0, 0, 0, 0, 0, 0, 0, 0, 0, 0, 0, 0, 0, 0, 0, 0, 0, 0, 0, 0, 0, 0, 0, 0, 0, 0, 0, 0, 0, 0, 0, 0, 0, 0, 0, 0, 0, 0, 0, 0, 0, 0, 0, 0, 0, 0, 0, 0, 0, 0, 0, 0, 0, 0, 0, 0, 0, 0, 0, 0, 0, 0, 0, 0, 0, 0, 0, 0, 0, 0, 0, 0, 0, 0, 0, 0, 0, 0, 0, 0, 0, 0, 0, 0, 0, 0, 0, 0, 0, 0, 0, 0, 0, 0, 0, 0, 0, 0, 0, 0, 0, 0, 0, 0, 0, 0, 0, 0, 0, 0, 0, 0, 0, 0, 0, 0, 0, 0, 0, 0, 0, 0, 0, 0, 0, 0, 0, 0, 0, 0, 0, 0, 0, 0, 0, 0, 0, 0, 0, 0, 0, 0, 0, 0, 0, 0, 0, 0, 0, 0, 0, 0, 0, 0, 0, 0, 0, 0, 0, 0, 0, 0, 0, 0, 0, 0, 0, 0, 0, 0, 0, 0, 0, 0, 0, 0, 0, 0, 0, 1, 0, 0, 0, 0, 0, 0, 0, 0, 0, 0, 0, 0, 0, 0, 0, 0, 0, 0, 0, 0, 0, 0, 0, 0, 0, 0, 0, 0, 0, 0, 0, 0, 0, 0, 0, 0, 0, 0, 0, 0, 0, 0, 0, 0, 0, 0, 0, 0, 0, 0, 0, 0, 0, 0, 0, 0, 0, 0, 0, 0, 0, 0, 0, 0, 0, 0, 0, 0, 0, 0, 0, 0, 0, 0, 0, 0, 0, 0, 0, 0, 0, 0, 0, 0, 0, 0, 0, 0, 0, 0, 0, 0, 0, 0, 0, 0, 0, 0, 0, 0, 0, 0, 0, 0, 0, 0, 0, 0, 0, 0, 0, 0, 0, 0, 0, 0, 0, 0, 0, 0, 0, 0, 0, 0, 0, 0, 0, 0, 0, 0, 0, 0, 0, 0, 0, 0, 0, 0, 0, 0, 0, 0, 0, 0, 0, 0, 0, 0, 0, 0, 0, 0, 0, 0, 0, 0, 0, 0, 0, 0, 0, 0, 0, 0, 0, 0, 0, 0, 0, 0, 0, 0, 0, 0, 0, 0, 0, 0, 0, 0, 0, 0, 0, 0, 0, 0, 0, 0, 0, 0, 0, 0, 0, 0, 0, 0, 0, 0, 0, 0, 0, 0, 0, 0, 0, 0, 0, 0, 0, 0, 0, 0, 0, 0, 0, 0, 0, 0, 0, 0, 0, 0, 0, 0, 0, 0, 0, 0, 0, 0, 0, 0, 0, 0, 0, 0, 0, 0, 0, 0, 0, 0, 0, 0, 0, 0, 0, 0, 0, 0, 0, 0, 0, 0, 0, 0, 0, 0, 0, 0, 0, 0, 0, 0, 0, 0, 0, 0, 0, 0, 0, 0, 0, 0, 0, 0, 0, 0, 0, 0, 0, 0, 0, 0, 0, 0, 0, 0, 0, 0, 0, 0, 0, 0, 0, 0, 0, 0, 0, 0, 0, 0, 0, 0, 0, 0, 0, 0, 0, 0, 0, 0, 0, 0, 0, 0, 0, 0, 0, 0, 0, 0, 0, 0, 0, 0, 0, 0, 0, 0, 0, 0, 0, 0, 0, 0, 0, 0, 0, 0, 0, 0, 0, 0, 0, 0, 0, 0, 0, 0, 0, 0, 0, 0, 0, 0, 0, 0, 0, 0, 0, 0, 0, 0, 0, 0, 0, 0, 0, 0, 0, 0, 0, 0, 0, 0, 0, 0, 0, 0, 0, 0, 0, 0, 0, 0, 0, 0, 0, 0, 0, 0, 0, 0, 0, 0, 0, 0, 0, 0, 0, 0, 0, 0, 0, 0, 0, 0, 0, 0, 0, 0, 0, 0, 0, 0, 0, 0, 0, 0, 0, 0, 0, 0, 0, 0, 0, 0, 0, 0, 0, 0, 0, 0, 0, 0, 0, 0, 0, 0, 0, 0, 0, 0, 0, 0, 0, 0, 0, 0, 0, 0, 0, 0, 0, 0, 0, 0, 0, 0, 0, 0, 0, 0, 0, 0, 0, 0, 0, 0, 0, 0, 0, 0, 0, 0, 0, 0, 0, 0, 0, 0, 0, 0, 0, 0, 0, 0, 0, 0, 0, 0, 0, 0, 0, 0, 0, 0, 0, 0, 0, 0, 0, 0, 0, 0, 0, 0, 0, 0, 0, 0, 1, 0, 0, 0, 0, 0, 0, 0, 0, 0, 0, 0, 0, 0, 0, 0, 0, 0, 0, 0, 0, 0, 0, 0, 0, 0, 0, 0, 0, 0, 0, 0, 0, 0, 0, 0, 2, 0, 0, 0, 0, 0, 0, 0, 0, 0, 0, 0, 0, 0, 0, 0, 0, 0, 0, 0, 0, 0, 0, 0, 0, 0, 0, 0, 0, 0, 0, 0, 0, 0, 0, 0, 0, 0, 0, 0, 0, 1, 0, 0, 0, 0, 0, 0, 0, 0, 0, 0, 0, 0, 0, 0, 0, 0, 0, 0, 0, 0, 0, 0, 0, 0, 0, 0, 0, 0, 0, 0, 0, 0, 0, 0, 0, 0, 0, 0, 0, 0, 0, 0, 0, 0, 0, 0, 0, 0, 0, 0, 0, 0, 0, 0, 0, 0, 0, 0, 0, 0, 0, 0, 0, 0, 0, 0, 0, 0, 0, 0, 0, 0, 0, 0, 0, 0, 0, 0, 0, 0, 0, 0, 0, 0, 0, 0, 0, 0, 0, 0, 0, 0, 0, 0, 0, 0, 0, 0, 0, 0, 0, 0, 0, 0, 0, 0, 0, 0, 0, 0, 0, 0, 0, 0, 0, 0, 0, 0, 0, 0, 0, 0, 0, 0, 0, 0, 0, 0, 0, 0, 0, 0, 0, 0, 0, 0, 0, 0, 0, 0, 0, 0, 0, 0, 0, 0, 0, 0, 0, 0, 0, 0, 0, 0, 0, 0, 0, 0, 0, 0, 0, 0, 0, 0, 0, 0, 0, 0, 0, 0, 0, 0, 0, 0, 0, 0, 0, 0, 0, 0, 0, 0, 0, 0, 0, 0, 0, 0, 0, 0, 0, 0, 0, 0, 0, 0, 0, 0, 0, 0, 0, 0, 0, 0, 0, 0, 0, 0, 0, 0, 0, 0, 0, 0, 0, 0, 0, 0, 0, 0, 0, 0, 0, 0, 0, 0, 0, 0, 0, 0, 0, 0, 0, 0, 0, 0, 0, 0, 0, 0, 0, 0, 0, 0, 0, 0, 0, 0, 0, 0, 0, 0, 0, 0, 0, 0, 0, 0, 0, 0, 0, 0, 0, 0, 0, 0, 0, 0, 0, 0, 0, 0, 0, 0, 0, 0, 0, 0, 0, 0, 0, 0, 0, 0, 0, 0, 0, 0, 0, 0, 0, 0, 0, 0, 0, 0, 0, 0, 0, 0, 0, 0, 0, 0, 0, 0, 0, 0, 0, 0, 0, 0, 0, 0, 0, 0, 0, 0, 0, 0, 0, 0, 0, 0, 0, 0, 0, 0, 0, 0, 0, 0, 0, 0, 0, 0, 0, 0, 0, 0, 0, 0, 0, 0, 0, 0, 0, 0, 0, 0, 0, 0, 0, 0, 0, 0, 0, 0, 0, 0, 0, 0, 0, 0, 0, 0, 0, 0, 0, 0, 0, 0, 0, 0, 0, 0, 0, 0, 0, 0, 0, 0, 0, 0, 0, 0, 0, 0, 0, 0, 0, 0, 0, 0, 0, 0, 0, 0, 0, 0, 0, 0, 0, 0, 0, 0, 0, 0, 0, 0, 0, 0, 0, 0, 0, 0, 0, 0, 0, 0, 0, 0, 0, 0, 0, 0, 0, 0, 0, 0, 0, 0, 0, 0, 0, 0, 0, 0, 0, 0, 0, 0, 0, 0, 0, 0, 0, 0, 0, 0, 0, 0, 0, 0, 0, 0, 0, 0, 0, 0, 0, 0, 0, 0, 0, 0, 0, 0, 0, 0, 0, 0, 0, 0, 0, 0, 0, 0, 0, 0, 0, 0, 0, 0, 0, 0, 0, 0, 0, 0, 0, 0, 0, 0, 0, 0, 0, 1, 0, 0, 0, 0, 0, 0, 0, 0, 0, 0, 0, 0, 0, 0, 0, 0, 0, 0, 0, 0, 0, 0, 0, 0, 0, 0, 0, 0, 0, 0, 0, 0, 0, 0, 0, 0, 0, 0, 0, 0, 0, 0, 0, 0, 0, 0, 0, 0, 0, 0, 0, 0, 0, 0, 0, 0, 0, 0, 0, 0, 0, 0, 0, 0, 0, 0, 0, 0, 0, 0, 0, 0, 0, 0, 0, 0, 0, 0, 0, 0, 0, 0, 0, 0, 0, 0, 0, 0, 0, 0, 0, 0, 0, 0, 0, 0, 0, 0, 0, 0, 0, 0, 0, 0, 0, 0, 0, 0, 0, 0, 2, 0, 0, 0, 0, 0, 0, 0, 0, 0, 0, 0, 0, 0, 0, 0, 0, 0, 0, 0, 0, 0, 0, 0, 0, 0, 0, 0, 0, 0, 0, 0, 0, 0, 0, 0, 0, 0, 0, 0, 0, 0, 0, 0, 0, 0, 0, 0, 0, 0, 0, 0, 0, 0, 0, 0, 0, 0, 0, 0, 0, 0, 0, 0, 0, 0, 0, 0, 0, 0, 0, 0, 0, 0, 0, 0, 0, 0, 0, 0, 0, 0, 0, 0, 0, 0, 0, 0, 0, 0, 0, 0, 0, 0, 0, 0, 0, 0, 0, 0, 0, 0, 0, 0, 0, 0, 0, 0, 0, 0, 0, 0, 0, 0, 0, 0, 0, 0, 0, 0, 0, 0, 0, 0, 0, 0, 0, 0, 0, 0, 0, 0, 0, 0, 0, 0, 0, 0, 0, 0, 0, 0, 0, 0, 0, 0, 0, 0, 0, 0, 0, 0, 0, 0, 0, 0, 0, 0, 0, 0, 0, 0, 0, 0, 0, 0, 0, 0, 0, 0, 0, 0, 0, 0, 0, 0, 0, 0, 0, 0, 0, 0, 0, 0, 0, 0, 0, 0, 0, 0, 0, 0, 0, 0, 0, 0, 0, 0, 0, 0, 0, 0, 0, 0, 0, 0, 0, 0, 0, 0, 0, 0, 0, 0, 0, 0, 0, 0, 0, 0, 0, 0, 0, 0, 0, 0, 0, 0, 0, 0, 0, 0, 0, 0, 0, 0, 0, 0, 0, 0, 0, 0, 0, 0, 0, 0, 0, 0, 0, 0, 0, 0, 0, 0, 0, 0, 0, 0, 0, 0, 0, 0, 0, 0, 0, 0, 0, 0, 0, 0, 0, 0, 0, 0, 0, 0, 0, 0, 0, 0, 0, 0, 0, 0, 0, 0, 0, 0, 0, 0, 0, 0, 0, 0, 0, 0, 0, 0, 0, 0, 0, 0, 0, 0, 0, 0, 0, 0, 0, 0, 0, 0, 0, 0, 0, 0, 0, 0, 0, 0, 0, 0, 0, 0, 0, 0, 0, 0, 0, 0, 0, 0, 0, 0, 0, 0, 0, 0, 0, 0, 0, 0, 0, 0, 0, 0, 0, 0, 0, 0, 0, 0, 0, 0, 0, 0, 0, 0, 0, 0, 0, 0, 0, 0, 0, 0, 0, 0, 0, 0, 0, 0, 0, 0, 0, 0, 0, 0, 0, 0, 0, 0, 0, 0, 0, 0, 0, 0, 0, 0, 0, 0, 0, 0, 0, 0, 0, 0, 0, 0, 0, 0, 0, 0, 0, 0, 0, 0, 0, 0, 0, 0, 0, 0, 0, 0, 0, 0, 0, 0, 0, 0, 0, 0, 0, 0, 0, 0, 0, 0, 0, 0, 0, 0, 0, 0, 0, 0, 0, 0, 0, 0, 0, 0, 0, 0, 0, 0, 0, 0, 0, 0, 0, 0, 0, 0, 0, 0, 0, 0, 0, 0, 0, 0, 0, 0, 0, 0, 0, 0, 0, 0, 0, 0, 0, 0, 0, 0, 0, 0, 0, 0, 0, 0, 0, 0, 0, 0, 0, 0, 0, 0, 0, 0, 0, 0, 0, 0, 0, 0, 0, 0, 0, 0, 0, 0, 0, 0, 0, 0, 0, 0, 0, 0, 0, 0, 0, 0, 0, 0, 0, 0, 0, 0, 0, 0, 0, 0, 0, 0, 0, 0, 0, 0, 0, 0, 0, 0, 0, 0, 0, 0, 0, 0, 0, 0, 0, 0, 0, 0, 0, 0, 0, 0, 0, 0, 0, 0, 0, 0, 0, 0, 0, 0, 0, 0, 0, 0, 0, 0, 0, 0, 0, 0, 0, 0, 0, 0, 0, 0, 0, 0, 0, 0, 0, 0, 0, 0, 0, 0, 0, 0, 0, 0, 0, 0, 0, 0, 0, 0, 0, 0, 0, 0, 0, 0, 0, 0, 0, 0, 0, 0, 0, 0, 0, 0, 0, 0, 0, 0, 0, 0, 0, 0, 0, 0, 0, 0, 0, 0, 0, 0, 0, 0, 0, 0, 0, 0, 0, 0, 0, 0, 0, 0, 0, 0, 0, 0, 0, 0, 0, 0, 0, 0, 0, 0, 0, 0, 0, 0, 0, 0, 0, 0, 0, 0, 0, 0, 0, 0, 0, 0, 0, 0, 0, 0, 0, 0, 0, 0, 0, 0, 0, 0, 0, 0, 0, 0, 0, 0, 0, 1, 0, 0, 0, 0, 0, 0, 0, 0, 0, 0, 0, 0, 0, 0, 0, 0, 0, 0, 0, 0, 0, 0, 0, 0, 0, 0, 0, 0, 0, 0, 0, 0, 0, 0, 0, 0, 0, 0, 0, 0, 0, 0, 0, 0, 0, 0, 0, 0, 0, 0, 0, 0, 0, 0, 0, 0, 0, 0, 0, 0, 0, 0, 0, 0, 0, 0, 0, 0, 0, 0, 0, 0, 0, 0, 0, 0, 0, 0, 0, 0, 0, 0, 0, 0, 0, 0, 0, 0, 0, 0, 0, 0, 0, 0, 0, 0, 0, 0, 0, 0, 0, 0, 0, 0, 0, 0, 0, 1, 0, 0, 0, 0, 0, 0, 0, 0, 0, 0, 0, 0, 0, 0, 0, 0, 0, 0, 0, 0, 0, 0, 0, 0, 0, 0, 0, 0, 0, 0, 0, 0, 0, 0, 0, 0, 0, 0, 0, 0, 0, 0, 0, 0, 0, 0, 0, 0, 0, 0, 0, 0, 0, 0, 0, 0, 0, 0, 0, 0, 0, 0, 0, 0, 0, 0, 0, 0, 0, 0, 0, 0, 0, 0, 0, 0, 0, 0, 0, 0, 0, 0, 0, 0, 0, 0, 0, 0, 0, 0, 0, 0, 0, 0, 0, 0, 0, 0, 0, 0, 0, 0, 0, 0, 0, 0, 0, 0, 0, 0, 0, 0, 0, 0, 0, 0, 0, 0, 0, 0, 0, 0, 0, 0, 0, 0, 0, 0, 0, 0, 0, 0, 0, 0, 0, 0, 0, 0, 0, 0, 0, 0, 0, 0, 0, 0, 0, 0, 0, 0, 0, 0, 0, 0, 0, 0, 0, 0, 0, 0, 0, 0, 0, 0, 0, 0, 0, 0, 0, 0, 0, 0, 0, 0, 0, 0, 0, 0, 0, 0, 0, 0, 0, 0, 0, 0, 0, 0, 0, 0, 0, 0, 0, 0, 0, 0, 0, 0, 0, 0, 0, 0, 0, 0, 0, 0, 0, 0, 0, 0, 0, 0, 0, 0, 0, 0, 0, 0, 0, 0, 0, 0, 0, 0, 0, 0, 0, 0, 0, 0, 0, 0, 0, 0, 0, 0, 0, 0, 0, 0, 0, 0, 0, 0, 0, 0, 0, 0, 0, 0, 0, 0, 0, 0, 0, 0, 0, 0, 0, 0, 0, 0, 0, 0, 0, 0, 0, 0, 0, 0, 0, 0, 0, 0, 0, 0, 0, 0, 0, 0, 0, 0, 0, 0, 0, 0, 0, 0, 0, 0, 0, 0, 0, 0, 0, 0, 0, 0, 0, 0, 0, 0, 0, 0, 0, 0, 0, 0, 0, 0, 0, 0, 0, 0, 0, 0, 0, 0, 0, 0, 0, 0, 0, 0, 0, 0, 0, 0, 0, 0, 0, 0, 0, 0, 0, 0, 0, 0, 0, 0, 0, 0, 0, 0, 0, 0, 0, 0, 0, 0, 0, 0, 0, 0, 0, 0, 0, 0, 0, 0, 0, 0, 0, 0, 0, 0, 0, 0, 0, 0, 0, 0, 0, 0, 0, 0, 0, 0, 0, 0, 0, 0, 0, 0, 0, 0, 0, 0, 0, 0, 0, 0, 0, 0, 0, 0, 0, 0, 0, 0, 0, 0, 0, 0, 0, 0, 0, 0, 0, 0, 0, 0, 0, 0, 0, 0, 0, 0, 0, 0, 0, 0, 0, 0, 0, 0, 0, 0, 0, 0, 0, 0, 0, 0, 0, 0, 0, 0, 0, 0, 0, 0, 0, 0, 0, 0, 0, 0, 0, 0, 0, 0, 0, 0, 0, 0, 0, 0, 0, 0, 0, 0, 0, 2, 0, 1, 0], type: <class 'list'>, valid types: <class 'bytes'>, <class 'bytearray'>, file-like object",
     "output_type": "error",
     "traceback": [
      "\u001b[0;31m---------------------------------------------------------------------------\u001b[0m",
      "\u001b[0;31mParamValidationError\u001b[0m                      Traceback (most recent call last)",
      "\u001b[0;32m<ipython-input-44-c9ab54ae3a48>\u001b[0m in \u001b[0;36m<module>\u001b[0;34m\u001b[0m\n\u001b[1;32m      1\u001b[0m response = runtime.invoke_endpoint(EndpointName = xgb_predictor.endpoint, # The name of the endpoint we created\n\u001b[1;32m      2\u001b[0m                                        \u001b[0mContentType\u001b[0m \u001b[0;34m=\u001b[0m \u001b[0;34m'text/csv'\u001b[0m\u001b[0;34m,\u001b[0m                     \u001b[0;31m# The data format that is expected\u001b[0m\u001b[0;34m\u001b[0m\u001b[0;34m\u001b[0m\u001b[0m\n\u001b[0;32m----> 3\u001b[0;31m                                        Body = test_bow)\n\u001b[0m",
      "\u001b[0;32m~/anaconda3/envs/python3/lib/python3.6/site-packages/botocore/client.py\u001b[0m in \u001b[0;36m_api_call\u001b[0;34m(self, *args, **kwargs)\u001b[0m\n\u001b[1;32m    314\u001b[0m                     \"%s() only accepts keyword arguments.\" % py_operation_name)\n\u001b[1;32m    315\u001b[0m             \u001b[0;31m# The \"self\" in this scope is referring to the BaseClient.\u001b[0m\u001b[0;34m\u001b[0m\u001b[0;34m\u001b[0m\u001b[0;34m\u001b[0m\u001b[0m\n\u001b[0;32m--> 316\u001b[0;31m             \u001b[0;32mreturn\u001b[0m \u001b[0mself\u001b[0m\u001b[0;34m.\u001b[0m\u001b[0m_make_api_call\u001b[0m\u001b[0;34m(\u001b[0m\u001b[0moperation_name\u001b[0m\u001b[0;34m,\u001b[0m \u001b[0mkwargs\u001b[0m\u001b[0;34m)\u001b[0m\u001b[0;34m\u001b[0m\u001b[0;34m\u001b[0m\u001b[0m\n\u001b[0m\u001b[1;32m    317\u001b[0m \u001b[0;34m\u001b[0m\u001b[0m\n\u001b[1;32m    318\u001b[0m         \u001b[0m_api_call\u001b[0m\u001b[0;34m.\u001b[0m\u001b[0m__name__\u001b[0m \u001b[0;34m=\u001b[0m \u001b[0mstr\u001b[0m\u001b[0;34m(\u001b[0m\u001b[0mpy_operation_name\u001b[0m\u001b[0;34m)\u001b[0m\u001b[0;34m\u001b[0m\u001b[0;34m\u001b[0m\u001b[0m\n",
      "\u001b[0;32m~/anaconda3/envs/python3/lib/python3.6/site-packages/botocore/client.py\u001b[0m in \u001b[0;36m_make_api_call\u001b[0;34m(self, operation_name, api_params)\u001b[0m\n\u001b[1;32m    606\u001b[0m         }\n\u001b[1;32m    607\u001b[0m         request_dict = self._convert_to_request_dict(\n\u001b[0;32m--> 608\u001b[0;31m             api_params, operation_model, context=request_context)\n\u001b[0m\u001b[1;32m    609\u001b[0m \u001b[0;34m\u001b[0m\u001b[0m\n\u001b[1;32m    610\u001b[0m         \u001b[0mservice_id\u001b[0m \u001b[0;34m=\u001b[0m \u001b[0mself\u001b[0m\u001b[0;34m.\u001b[0m\u001b[0m_service_model\u001b[0m\u001b[0;34m.\u001b[0m\u001b[0mservice_id\u001b[0m\u001b[0;34m.\u001b[0m\u001b[0mhyphenize\u001b[0m\u001b[0;34m(\u001b[0m\u001b[0;34m)\u001b[0m\u001b[0;34m\u001b[0m\u001b[0;34m\u001b[0m\u001b[0m\n",
      "\u001b[0;32m~/anaconda3/envs/python3/lib/python3.6/site-packages/botocore/client.py\u001b[0m in \u001b[0;36m_convert_to_request_dict\u001b[0;34m(self, api_params, operation_model, context)\u001b[0m\n\u001b[1;32m    654\u001b[0m             api_params, operation_model, context)\n\u001b[1;32m    655\u001b[0m         request_dict = self._serializer.serialize_to_request(\n\u001b[0;32m--> 656\u001b[0;31m             api_params, operation_model)\n\u001b[0m\u001b[1;32m    657\u001b[0m         \u001b[0;32mif\u001b[0m \u001b[0;32mnot\u001b[0m \u001b[0mself\u001b[0m\u001b[0;34m.\u001b[0m\u001b[0m_client_config\u001b[0m\u001b[0;34m.\u001b[0m\u001b[0minject_host_prefix\u001b[0m\u001b[0;34m:\u001b[0m\u001b[0;34m\u001b[0m\u001b[0;34m\u001b[0m\u001b[0m\n\u001b[1;32m    658\u001b[0m             \u001b[0mrequest_dict\u001b[0m\u001b[0;34m.\u001b[0m\u001b[0mpop\u001b[0m\u001b[0;34m(\u001b[0m\u001b[0;34m'host_prefix'\u001b[0m\u001b[0;34m,\u001b[0m \u001b[0;32mNone\u001b[0m\u001b[0;34m)\u001b[0m\u001b[0;34m\u001b[0m\u001b[0;34m\u001b[0m\u001b[0m\n",
      "\u001b[0;32m~/anaconda3/envs/python3/lib/python3.6/site-packages/botocore/validate.py\u001b[0m in \u001b[0;36mserialize_to_request\u001b[0;34m(self, parameters, operation_model)\u001b[0m\n\u001b[1;32m    295\u001b[0m                                                     operation_model.input_shape)\n\u001b[1;32m    296\u001b[0m             \u001b[0;32mif\u001b[0m \u001b[0mreport\u001b[0m\u001b[0;34m.\u001b[0m\u001b[0mhas_errors\u001b[0m\u001b[0;34m(\u001b[0m\u001b[0;34m)\u001b[0m\u001b[0;34m:\u001b[0m\u001b[0;34m\u001b[0m\u001b[0;34m\u001b[0m\u001b[0m\n\u001b[0;32m--> 297\u001b[0;31m                 \u001b[0;32mraise\u001b[0m \u001b[0mParamValidationError\u001b[0m\u001b[0;34m(\u001b[0m\u001b[0mreport\u001b[0m\u001b[0;34m=\u001b[0m\u001b[0mreport\u001b[0m\u001b[0;34m.\u001b[0m\u001b[0mgenerate_report\u001b[0m\u001b[0;34m(\u001b[0m\u001b[0;34m)\u001b[0m\u001b[0;34m)\u001b[0m\u001b[0;34m\u001b[0m\u001b[0;34m\u001b[0m\u001b[0m\n\u001b[0m\u001b[1;32m    298\u001b[0m         return self._serializer.serialize_to_request(parameters,\n\u001b[1;32m    299\u001b[0m                                                      operation_model)\n",
      "\u001b[0;31mParamValidationError\u001b[0m: Parameter validation failed:\nInvalid type for parameter Body, value: [0, 0, 0, 0, 0, 0, 0, 0, 0, 0, 0, 0, 0, 0, 0, 0, 0, 0, 0, 0, 0, 0, 0, 0, 0, 0, 0, 0, 0, 0, 0, 0, 0, 0, 0, 0, 0, 0, 0, 0, 0, 0, 0, 0, 0, 0, 0, 0, 0, 0, 0, 0, 0, 0, 0, 0, 0, 0, 0, 0, 0, 0, 0, 0, 0, 0, 0, 0, 0, 0, 0, 0, 0, 0, 0, 0, 0, 0, 0, 0, 0, 0, 0, 0, 0, 0, 0, 0, 0, 0, 0, 0, 0, 0, 0, 0, 0, 0, 0, 0, 0, 0, 0, 0, 0, 0, 0, 0, 0, 0, 0, 0, 0, 0, 0, 0, 0, 0, 0, 0, 0, 0, 0, 0, 0, 0, 0, 0, 0, 0, 0, 0, 0, 0, 0, 0, 0, 0, 0, 0, 0, 0, 0, 0, 0, 0, 0, 0, 0, 0, 0, 0, 0, 0, 0, 0, 0, 0, 0, 0, 0, 0, 0, 0, 0, 0, 0, 0, 0, 0, 0, 0, 0, 0, 0, 0, 0, 0, 0, 0, 0, 0, 0, 0, 0, 0, 0, 0, 0, 0, 0, 0, 0, 0, 0, 0, 0, 0, 0, 0, 0, 0, 0, 0, 0, 0, 0, 0, 0, 0, 0, 0, 0, 0, 0, 0, 0, 0, 0, 0, 0, 0, 0, 0, 0, 0, 1, 0, 0, 0, 0, 0, 0, 0, 0, 0, 0, 0, 0, 0, 0, 0, 0, 0, 0, 0, 0, 0, 0, 0, 0, 0, 0, 0, 0, 0, 1, 0, 0, 0, 0, 0, 0, 0, 0, 0, 0, 0, 0, 0, 0, 0, 0, 0, 0, 0, 0, 0, 0, 0, 0, 0, 0, 0, 0, 0, 0, 0, 0, 0, 0, 0, 0, 0, 0, 0, 0, 0, 0, 0, 0, 0, 0, 0, 0, 0, 0, 0, 0, 0, 0, 0, 0, 0, 0, 0, 0, 0, 0, 0, 0, 0, 0, 0, 0, 0, 0, 0, 0, 0, 0, 0, 0, 0, 0, 0, 0, 0, 0, 0, 0, 0, 0, 0, 0, 0, 0, 0, 0, 0, 0, 0, 0, 0, 0, 0, 0, 0, 0, 0, 0, 0, 0, 0, 0, 0, 0, 0, 0, 0, 0, 0, 0, 0, 0, 0, 0, 0, 0, 0, 0, 0, 0, 0, 0, 0, 0, 0, 0, 0, 0, 0, 0, 0, 0, 0, 0, 0, 0, 0, 0, 0, 0, 0, 0, 0, 0, 0, 0, 0, 0, 0, 0, 0, 0, 0, 0, 0, 0, 0, 0, 0, 0, 0, 0, 0, 0, 0, 0, 0, 0, 0, 0, 0, 0, 0, 0, 0, 0, 0, 0, 0, 0, 0, 0, 0, 0, 0, 0, 0, 0, 0, 0, 0, 0, 0, 0, 0, 0, 0, 0, 0, 0, 0, 0, 0, 0, 0, 0, 0, 0, 0, 0, 0, 0, 0, 0, 0, 0, 0, 0, 0, 0, 0, 0, 0, 0, 0, 0, 0, 0, 0, 0, 0, 0, 0, 0, 0, 0, 0, 0, 0, 0, 0, 0, 0, 0, 0, 0, 0, 0, 0, 0, 0, 0, 0, 0, 0, 0, 0, 0, 0, 0, 0, 0, 0, 0, 0, 0, 0, 0, 0, 0, 0, 0, 0, 0, 0, 0, 0, 0, 0, 0, 0, 0, 0, 0, 0, 0, 0, 0, 0, 0, 0, 0, 0, 0, 0, 0, 0, 0, 0, 0, 0, 0, 0, 0, 0, 0, 0, 0, 0, 0, 0, 0, 0, 0, 0, 0, 0, 0, 0, 0, 0, 0, 0, 0, 0, 0, 0, 0, 0, 0, 0, 0, 0, 0, 0, 0, 0, 0, 0, 0, 0, 0, 0, 0, 0, 0, 0, 0, 0, 0, 0, 0, 0, 0, 0, 0, 0, 0, 0, 0, 0, 0, 0, 0, 0, 0, 0, 0, 0, 0, 0, 0, 0, 1, 0, 0, 0, 0, 0, 0, 0, 0, 0, 0, 0, 0, 0, 0, 0, 0, 0, 0, 0, 0, 0, 0, 0, 0, 0, 0, 0, 0, 0, 0, 0, 0, 0, 0, 0, 0, 0, 0, 0, 0, 0, 0, 0, 0, 0, 0, 0, 0, 0, 0, 0, 0, 0, 0, 0, 0, 0, 0, 0, 0, 0, 0, 0, 0, 0, 0, 0, 0, 0, 0, 0, 0, 0, 0, 0, 0, 0, 0, 0, 0, 0, 0, 0, 0, 0, 0, 0, 0, 0, 0, 0, 0, 0, 0, 0, 0, 0, 0, 0, 0, 0, 0, 0, 0, 0, 0, 0, 0, 0, 0, 0, 0, 0, 0, 0, 0, 0, 0, 0, 0, 0, 0, 0, 0, 0, 0, 0, 0, 0, 0, 0, 0, 0, 0, 0, 0, 0, 0, 0, 0, 0, 0, 0, 0, 0, 0, 0, 0, 0, 0, 0, 0, 0, 0, 0, 0, 0, 0, 0, 0, 0, 0, 0, 0, 0, 0, 0, 0, 0, 0, 0, 0, 0, 0, 0, 0, 0, 0, 0, 0, 0, 0, 0, 0, 0, 0, 0, 0, 0, 0, 0, 0, 0, 0, 0, 0, 0, 0, 0, 0, 0, 0, 0, 0, 0, 0, 0, 0, 0, 0, 0, 0, 0, 0, 0, 0, 0, 0, 0, 0, 0, 0, 0, 0, 0, 0, 0, 0, 0, 0, 0, 0, 0, 0, 0, 0, 0, 0, 0, 0, 0, 0, 0, 0, 0, 0, 0, 0, 0, 0, 0, 0, 0, 1, 0, 0, 0, 0, 0, 0, 0, 0, 0, 0, 0, 0, 0, 0, 0, 0, 0, 0, 0, 0, 0, 0, 0, 0, 0, 0, 0, 0, 0, 0, 0, 0, 0, 0, 0, 0, 0, 0, 0, 0, 0, 0, 0, 0, 0, 0, 0, 0, 0, 0, 0, 0, 0, 0, 0, 0, 0, 0, 0, 0, 0, 0, 0, 0, 0, 0, 0, 0, 0, 0, 0, 0, 0, 0, 0, 0, 0, 0, 0, 0, 0, 0, 0, 0, 0, 0, 1, 0, 0, 0, 0, 0, 0, 0, 0, 0, 0, 0, 0, 0, 0, 0, 0, 0, 0, 0, 0, 0, 0, 0, 0, 0, 0, 0, 0, 0, 0, 0, 0, 0, 0, 0, 0, 0, 0, 0, 0, 0, 0, 0, 0, 0, 0, 0, 0, 0, 0, 0, 0, 0, 0, 0, 0, 0, 0, 0, 0, 0, 0, 0, 0, 0, 0, 0, 0, 0, 0, 0, 0, 0, 0, 0, 0, 0, 0, 0, 0, 0, 0, 0, 0, 0, 0, 0, 0, 0, 0, 0, 0, 0, 0, 0, 0, 0, 0, 0, 0, 0, 0, 0, 0, 0, 0, 0, 0, 0, 0, 0, 0, 0, 0, 0, 0, 0, 0, 0, 0, 0, 0, 0, 0, 0, 0, 0, 0, 0, 0, 0, 0, 0, 0, 0, 0, 0, 0, 0, 0, 0, 0, 0, 0, 0, 0, 0, 0, 0, 0, 0, 0, 0, 0, 0, 0, 0, 0, 0, 0, 0, 0, 0, 0, 0, 0, 0, 0, 0, 0, 0, 0, 0, 0, 0, 0, 0, 0, 0, 0, 0, 0, 0, 0, 0, 0, 0, 0, 0, 0, 0, 0, 0, 0, 0, 0, 0, 0, 0, 0, 0, 0, 0, 0, 0, 0, 0, 0, 0, 0, 0, 0, 0, 0, 0, 0, 0, 0, 0, 0, 0, 0, 0, 0, 0, 0, 0, 0, 0, 0, 0, 0, 0, 0, 0, 0, 0, 0, 0, 0, 0, 0, 0, 0, 0, 0, 0, 0, 0, 0, 0, 0, 1, 0, 0, 0, 0, 0, 0, 0, 0, 0, 0, 0, 0, 0, 0, 0, 0, 0, 0, 0, 0, 0, 0, 0, 0, 0, 0, 0, 0, 0, 0, 0, 0, 0, 0, 0, 0, 0, 0, 0, 0, 0, 0, 0, 0, 0, 0, 0, 0, 0, 0, 0, 0, 0, 0, 0, 1, 0, 0, 0, 0, 0, 0, 0, 0, 0, 0, 0, 0, 0, 0, 0, 0, 0, 0, 0, 0, 0, 0, 0, 0, 0, 0, 0, 0, 0, 0, 0, 0, 0, 0, 0, 0, 0, 0, 0, 0, 0, 0, 0, 0, 0, 0, 0, 0, 0, 0, 0, 0, 0, 0, 0, 0, 0, 0, 0, 0, 0, 0, 0, 0, 0, 0, 0, 0, 0, 0, 0, 0, 0, 0, 0, 0, 0, 0, 0, 0, 0, 0, 0, 0, 0, 0, 0, 0, 0, 0, 0, 0, 0, 0, 0, 0, 0, 0, 0, 0, 0, 0, 0, 0, 0, 0, 0, 0, 0, 0, 0, 0, 0, 0, 0, 0, 0, 0, 0, 0, 0, 0, 0, 0, 0, 0, 0, 0, 0, 0, 0, 0, 0, 0, 0, 0, 0, 0, 0, 0, 0, 0, 0, 0, 0, 0, 0, 0, 0, 0, 0, 0, 0, 0, 0, 0, 0, 0, 0, 0, 0, 0, 0, 0, 0, 0, 0, 0, 0, 0, 0, 0, 0, 0, 0, 0, 0, 0, 0, 0, 0, 0, 0, 0, 0, 0, 0, 0, 0, 0, 0, 0, 0, 0, 0, 0, 0, 0, 0, 0, 0, 0, 0, 0, 0, 0, 0, 0, 0, 0, 0, 0, 0, 0, 0, 0, 0, 0, 0, 0, 0, 0, 0, 0, 0, 0, 0, 0, 0, 0, 0, 0, 0, 0, 0, 0, 0, 0, 0, 0, 0, 0, 0, 0, 0, 0, 0, 0, 0, 0, 0, 0, 0, 0, 0, 0, 0, 0, 0, 0, 0, 0, 0, 0, 0, 0, 0, 0, 0, 0, 0, 0, 0, 0, 0, 0, 0, 0, 0, 0, 0, 0, 0, 0, 0, 0, 0, 0, 0, 0, 0, 0, 0, 0, 0, 0, 0, 0, 0, 0, 0, 0, 0, 0, 0, 0, 0, 0, 0, 0, 0, 0, 0, 0, 0, 0, 0, 0, 0, 0, 0, 0, 0, 0, 0, 0, 0, 0, 0, 0, 0, 0, 0, 0, 0, 0, 0, 0, 0, 0, 0, 0, 0, 0, 0, 0, 0, 0, 0, 0, 0, 0, 0, 0, 0, 0, 0, 0, 0, 0, 0, 0, 0, 0, 0, 0, 0, 0, 0, 0, 0, 0, 0, 0, 0, 0, 0, 0, 0, 0, 0, 0, 0, 0, 0, 0, 0, 0, 0, 0, 0, 0, 0, 0, 0, 0, 0, 0, 0, 0, 0, 0, 0, 0, 0, 0, 0, 0, 0, 0, 0, 0, 0, 0, 0, 0, 0, 0, 0, 0, 0, 0, 0, 0, 0, 0, 0, 0, 0, 0, 0, 0, 0, 0, 0, 0, 0, 0, 0, 0, 0, 0, 0, 0, 0, 0, 0, 0, 0, 0, 0, 0, 0, 0, 0, 0, 0, 0, 0, 0, 0, 0, 0, 0, 0, 0, 0, 0, 0, 0, 0, 0, 0, 0, 0, 0, 0, 0, 0, 0, 0, 0, 0, 0, 0, 0, 0, 0, 0, 0, 0, 0, 0, 0, 0, 0, 0, 0, 0, 0, 0, 0, 0, 0, 0, 0, 0, 0, 0, 0, 0, 0, 0, 0, 0, 0, 0, 0, 0, 0, 0, 0, 0, 0, 0, 0, 0, 0, 0, 0, 0, 0, 0, 0, 0, 0, 0, 0, 0, 0, 0, 0, 0, 0, 0, 0, 0, 0, 0, 0, 0, 0, 0, 0, 0, 0, 0, 0, 0, 0, 0, 0, 0, 0, 0, 0, 0, 0, 0, 0, 0, 0, 0, 0, 0, 0, 0, 0, 0, 0, 0, 0, 0, 0, 0, 0, 0, 0, 0, 0, 0, 0, 0, 0, 0, 0, 0, 0, 0, 0, 0, 0, 0, 0, 0, 0, 0, 0, 0, 0, 0, 0, 0, 0, 0, 0, 0, 0, 0, 0, 0, 0, 0, 0, 0, 0, 0, 0, 0, 0, 0, 0, 0, 0, 0, 0, 0, 0, 0, 0, 0, 0, 0, 0, 0, 0, 0, 0, 0, 0, 0, 0, 0, 0, 0, 0, 0, 0, 0, 0, 0, 0, 0, 0, 0, 0, 0, 0, 0, 0, 0, 0, 0, 0, 0, 0, 0, 0, 0, 0, 0, 1, 0, 0, 0, 0, 0, 0, 0, 0, 0, 0, 0, 0, 0, 0, 0, 0, 0, 0, 0, 0, 0, 0, 0, 0, 0, 0, 0, 0, 0, 0, 0, 0, 0, 0, 0, 0, 0, 0, 0, 0, 0, 0, 0, 0, 0, 0, 0, 0, 0, 0, 0, 0, 0, 0, 0, 0, 0, 0, 0, 0, 0, 0, 0, 0, 0, 0, 0, 0, 0, 0, 0, 0, 0, 0, 1, 0, 0, 0, 0, 0, 0, 0, 0, 0, 0, 0, 0, 0, 0, 0, 0, 0, 0, 0, 0, 1, 0, 0, 1, 0, 0, 0, 0, 0, 0, 0, 0, 0, 0, 0, 0, 0, 0, 0, 0, 0, 0, 0, 0, 0, 0, 0, 0, 0, 0, 0, 0, 0, 0, 0, 0, 0, 0, 0, 0, 0, 0, 0, 0, 0, 0, 0, 0, 0, 0, 0, 0, 0, 0, 0, 0, 0, 0, 0, 0, 0, 0, 0, 0, 0, 0, 0, 0, 0, 0, 0, 0, 0, 0, 0, 0, 0, 0, 0, 0, 0, 0, 0, 0, 0, 0, 0, 0, 0, 0, 0, 0, 0, 0, 0, 0, 0, 0, 0, 0, 0, 0, 0, 0, 0, 0, 0, 0, 0, 0, 0, 0, 0, 0, 0, 0, 0, 0, 0, 0, 0, 0, 0, 0, 0, 0, 0, 0, 0, 0, 0, 0, 0, 0, 0, 0, 0, 0, 0, 0, 0, 0, 0, 0, 0, 0, 0, 0, 0, 0, 0, 0, 0, 0, 0, 0, 0, 0, 0, 0, 0, 0, 0, 0, 0, 0, 0, 0, 0, 0, 0, 0, 0, 0, 0, 0, 0, 0, 0, 0, 0, 0, 0, 0, 0, 0, 0, 0, 0, 0, 0, 0, 0, 0, 0, 0, 0, 0, 0, 0, 0, 0, 0, 0, 0, 0, 0, 0, 0, 0, 0, 0, 0, 0, 0, 0, 0, 0, 0, 0, 0, 0, 0, 0, 0, 0, 0, 0, 0, 0, 0, 0, 0, 0, 0, 0, 0, 0, 0, 0, 0, 0, 0, 0, 0, 0, 0, 0, 0, 0, 0, 0, 0, 0, 0, 0, 0, 0, 0, 0, 0, 0, 0, 0, 0, 0, 0, 0, 0, 0, 0, 0, 0, 0, 0, 0, 0, 0, 0, 0, 0, 0, 0, 0, 0, 0, 0, 0, 0, 0, 0, 0, 0, 0, 0, 0, 0, 0, 0, 0, 0, 0, 0, 0, 0, 0, 0, 0, 0, 0, 0, 0, 0, 0, 0, 0, 0, 0, 0, 0, 0, 0, 0, 0, 0, 0, 0, 0, 0, 0, 0, 0, 0, 0, 0, 0, 0, 0, 0, 0, 0, 0, 0, 0, 0, 0, 0, 0, 0, 0, 0, 0, 0, 0, 0, 0, 0, 0, 0, 0, 0, 0, 0, 0, 0, 0, 0, 0, 0, 0, 0, 0, 0, 0, 0, 0, 0, 0, 0, 0, 0, 0, 0, 0, 0, 0, 0, 0, 0, 0, 0, 0, 0, 0, 0, 0, 0, 0, 0, 0, 0, 0, 0, 0, 0, 0, 0, 0, 0, 0, 0, 0, 0, 0, 0, 0, 0, 0, 0, 0, 0, 0, 0, 0, 0, 0, 0, 0, 0, 0, 0, 0, 0, 0, 0, 0, 0, 0, 0, 0, 0, 0, 0, 0, 0, 0, 0, 0, 0, 0, 0, 0, 0, 0, 0, 0, 0, 0, 0, 0, 0, 0, 0, 0, 0, 0, 0, 0, 0, 0, 1, 0, 0, 0, 0, 0, 0, 0, 0, 0, 0, 0, 0, 0, 0, 0, 0, 0, 0, 0, 0, 0, 0, 0, 0, 0, 0, 0, 0, 0, 0, 0, 0, 0, 0, 0, 0, 0, 0, 0, 0, 0, 0, 0, 0, 0, 0, 0, 0, 0, 0, 0, 0, 0, 0, 0, 0, 0, 0, 0, 0, 0, 0, 0, 0, 0, 0, 0, 0, 0, 0, 0, 0, 0, 0, 0, 0, 0, 0, 0, 0, 0, 0, 0, 0, 0, 0, 0, 0, 0, 0, 0, 0, 0, 0, 0, 0, 0, 0, 0, 0, 0, 0, 0, 0, 0, 0, 0, 0, 0, 0, 0, 0, 0, 0, 0, 0, 0, 0, 0, 0, 0, 0, 0, 0, 0, 0, 0, 0, 0, 0, 0, 0, 0, 0, 0, 0, 0, 0, 0, 0, 0, 0, 0, 0, 0, 0, 0, 0, 0, 0, 0, 0, 0, 0, 0, 0, 0, 0, 0, 0, 0, 0, 0, 0, 0, 0, 0, 0, 0, 0, 0, 0, 0, 0, 0, 0, 0, 0, 0, 0, 0, 0, 0, 0, 0, 0, 0, 0, 0, 0, 0, 0, 0, 0, 0, 0, 0, 0, 0, 0, 0, 0, 0, 0, 0, 0, 0, 0, 0, 0, 0, 0, 0, 0, 0, 0, 0, 0, 0, 0, 0, 0, 0, 0, 0, 0, 0, 0, 0, 0, 0, 0, 0, 0, 0, 0, 0, 0, 0, 0, 0, 0, 0, 0, 0, 0, 0, 0, 0, 0, 0, 0, 0, 0, 0, 0, 0, 0, 0, 0, 0, 0, 0, 0, 0, 0, 0, 0, 0, 0, 0, 0, 0, 0, 0, 0, 0, 0, 0, 0, 0, 0, 0, 0, 0, 0, 0, 0, 0, 0, 0, 0, 0, 0, 0, 0, 0, 0, 0, 0, 0, 0, 0, 0, 0, 0, 0, 0, 0, 0, 0, 0, 0, 0, 0, 0, 0, 0, 0, 0, 0, 0, 0, 0, 0, 0, 0, 0, 0, 0, 0, 0, 0, 0, 0, 0, 0, 0, 0, 0, 0, 0, 0, 0, 0, 0, 0, 0, 0, 0, 0, 0, 0, 0, 0, 0, 0, 0, 0, 0, 0, 0, 0, 0, 0, 0, 0, 0, 0, 0, 0, 0, 0, 0, 0, 0, 0, 0, 0, 0, 0, 0, 0, 0, 0, 0, 0, 0, 0, 0, 0, 0, 0, 0, 0, 0, 0, 0, 0, 0, 0, 0, 0, 0, 0, 0, 0, 0, 0, 0, 0, 0, 0, 0, 0, 0, 0, 0, 0, 0, 0, 0, 0, 0, 0, 0, 0, 0, 0, 0, 0, 0, 0, 0, 0, 0, 0, 0, 0, 0, 0, 0, 0, 0, 0, 0, 0, 0, 0, 0, 0, 0, 0, 0, 0, 0, 0, 0, 0, 0, 0, 0, 0, 0, 0, 0, 0, 0, 0, 0, 0, 0, 0, 0, 0, 0, 0, 0, 0, 0, 0, 0, 0, 0, 0, 0, 0, 0, 0, 0, 0, 0, 0, 0, 0, 0, 0, 0, 0, 0, 0, 0, 0, 0, 0, 0, 0, 0, 0, 0, 0, 0, 1, 0, 0, 0, 0, 0, 0, 0, 0, 0, 0, 0, 0, 0, 0, 0, 0, 0, 0, 0, 0, 0, 0, 0, 0, 0, 0, 0, 0, 0, 0, 0, 0, 0, 0, 0, 2, 0, 0, 0, 0, 0, 0, 0, 0, 0, 0, 0, 0, 0, 0, 0, 0, 0, 0, 0, 0, 0, 0, 0, 0, 0, 0, 0, 0, 0, 0, 0, 0, 0, 0, 0, 0, 0, 0, 0, 0, 1, 0, 0, 0, 0, 0, 0, 0, 0, 0, 0, 0, 0, 0, 0, 0, 0, 0, 0, 0, 0, 0, 0, 0, 0, 0, 0, 0, 0, 0, 0, 0, 0, 0, 0, 0, 0, 0, 0, 0, 0, 0, 0, 0, 0, 0, 0, 0, 0, 0, 0, 0, 0, 0, 0, 0, 0, 0, 0, 0, 0, 0, 0, 0, 0, 0, 0, 0, 0, 0, 0, 0, 0, 0, 0, 0, 0, 0, 0, 0, 0, 0, 0, 0, 0, 0, 0, 0, 0, 0, 0, 0, 0, 0, 0, 0, 0, 0, 0, 0, 0, 0, 0, 0, 0, 0, 0, 0, 0, 0, 0, 0, 0, 0, 0, 0, 0, 0, 0, 0, 0, 0, 0, 0, 0, 0, 0, 0, 0, 0, 0, 0, 0, 0, 0, 0, 0, 0, 0, 0, 0, 0, 0, 0, 0, 0, 0, 0, 0, 0, 0, 0, 0, 0, 0, 0, 0, 0, 0, 0, 0, 0, 0, 0, 0, 0, 0, 0, 0, 0, 0, 0, 0, 0, 0, 0, 0, 0, 0, 0, 0, 0, 0, 0, 0, 0, 0, 0, 0, 0, 0, 0, 0, 0, 0, 0, 0, 0, 0, 0, 0, 0, 0, 0, 0, 0, 0, 0, 0, 0, 0, 0, 0, 0, 0, 0, 0, 0, 0, 0, 0, 0, 0, 0, 0, 0, 0, 0, 0, 0, 0, 0, 0, 0, 0, 0, 0, 0, 0, 0, 0, 0, 0, 0, 0, 0, 0, 0, 0, 0, 0, 0, 0, 0, 0, 0, 0, 0, 0, 0, 0, 0, 0, 0, 0, 0, 0, 0, 0, 0, 0, 0, 0, 0, 0, 0, 0, 0, 0, 0, 0, 0, 0, 0, 0, 0, 0, 0, 0, 0, 0, 0, 0, 0, 0, 0, 0, 0, 0, 0, 0, 0, 0, 0, 0, 0, 0, 0, 0, 0, 0, 0, 0, 0, 0, 0, 0, 0, 0, 0, 0, 0, 0, 0, 0, 0, 0, 0, 0, 0, 0, 0, 0, 0, 0, 0, 0, 0, 0, 0, 0, 0, 0, 0, 0, 0, 0, 0, 0, 0, 0, 0, 0, 0, 0, 0, 0, 0, 0, 0, 0, 0, 0, 0, 0, 0, 0, 0, 0, 0, 0, 0, 0, 0, 0, 0, 0, 0, 0, 0, 0, 0, 0, 0, 0, 0, 0, 0, 0, 0, 0, 0, 0, 0, 0, 0, 0, 0, 0, 0, 0, 0, 0, 0, 0, 0, 0, 0, 0, 0, 0, 0, 0, 0, 0, 0, 0, 0, 0, 0, 0, 0, 0, 0, 0, 0, 0, 0, 0, 0, 0, 0, 0, 0, 0, 0, 0, 0, 0, 0, 0, 0, 0, 0, 0, 0, 0, 0, 0, 0, 0, 0, 0, 0, 0, 0, 0, 0, 0, 0, 0, 0, 0, 0, 0, 0, 0, 0, 0, 0, 0, 0, 0, 0, 0, 0, 0, 0, 0, 0, 0, 0, 0, 0, 0, 0, 0, 0, 0, 0, 0, 0, 0, 0, 0, 0, 0, 0, 1, 0, 0, 0, 0, 0, 0, 0, 0, 0, 0, 0, 0, 0, 0, 0, 0, 0, 0, 0, 0, 0, 0, 0, 0, 0, 0, 0, 0, 0, 0, 0, 0, 0, 0, 0, 0, 0, 0, 0, 0, 0, 0, 0, 0, 0, 0, 0, 0, 0, 0, 0, 0, 0, 0, 0, 0, 0, 0, 0, 0, 0, 0, 0, 0, 0, 0, 0, 0, 0, 0, 0, 0, 0, 0, 0, 0, 0, 0, 0, 0, 0, 0, 0, 0, 0, 0, 0, 0, 0, 0, 0, 0, 0, 0, 0, 0, 0, 0, 0, 0, 0, 0, 0, 0, 0, 0, 0, 0, 0, 0, 2, 0, 0, 0, 0, 0, 0, 0, 0, 0, 0, 0, 0, 0, 0, 0, 0, 0, 0, 0, 0, 0, 0, 0, 0, 0, 0, 0, 0, 0, 0, 0, 0, 0, 0, 0, 0, 0, 0, 0, 0, 0, 0, 0, 0, 0, 0, 0, 0, 0, 0, 0, 0, 0, 0, 0, 0, 0, 0, 0, 0, 0, 0, 0, 0, 0, 0, 0, 0, 0, 0, 0, 0, 0, 0, 0, 0, 0, 0, 0, 0, 0, 0, 0, 0, 0, 0, 0, 0, 0, 0, 0, 0, 0, 0, 0, 0, 0, 0, 0, 0, 0, 0, 0, 0, 0, 0, 0, 0, 0, 0, 0, 0, 0, 0, 0, 0, 0, 0, 0, 0, 0, 0, 0, 0, 0, 0, 0, 0, 0, 0, 0, 0, 0, 0, 0, 0, 0, 0, 0, 0, 0, 0, 0, 0, 0, 0, 0, 0, 0, 0, 0, 0, 0, 0, 0, 0, 0, 0, 0, 0, 0, 0, 0, 0, 0, 0, 0, 0, 0, 0, 0, 0, 0, 0, 0, 0, 0, 0, 0, 0, 0, 0, 0, 0, 0, 0, 0, 0, 0, 0, 0, 0, 0, 0, 0, 0, 0, 0, 0, 0, 0, 0, 0, 0, 0, 0, 0, 0, 0, 0, 0, 0, 0, 0, 0, 0, 0, 0, 0, 0, 0, 0, 0, 0, 0, 0, 0, 0, 0, 0, 0, 0, 0, 0, 0, 0, 0, 0, 0, 0, 0, 0, 0, 0, 0, 0, 0, 0, 0, 0, 0, 0, 0, 0, 0, 0, 0, 0, 0, 0, 0, 0, 0, 0, 0, 0, 0, 0, 0, 0, 0, 0, 0, 0, 0, 0, 0, 0, 0, 0, 0, 0, 0, 0, 0, 0, 0, 0, 0, 0, 0, 0, 0, 0, 0, 0, 0, 0, 0, 0, 0, 0, 0, 0, 0, 0, 0, 0, 0, 0, 0, 0, 0, 0, 0, 0, 0, 0, 0, 0, 0, 0, 0, 0, 0, 0, 0, 0, 0, 0, 0, 0, 0, 0, 0, 0, 0, 0, 0, 0, 0, 0, 0, 0, 0, 0, 0, 0, 0, 0, 0, 0, 0, 0, 0, 0, 0, 0, 0, 0, 0, 0, 0, 0, 0, 0, 0, 0, 0, 0, 0, 0, 0, 0, 0, 0, 0, 0, 0, 0, 0, 0, 0, 0, 0, 0, 0, 0, 0, 0, 0, 0, 0, 0, 0, 0, 0, 0, 0, 0, 0, 0, 0, 0, 0, 0, 0, 0, 0, 0, 0, 0, 0, 0, 0, 0, 0, 0, 0, 0, 0, 0, 0, 0, 0, 0, 0, 0, 0, 0, 0, 0, 0, 0, 0, 0, 0, 0, 0, 0, 0, 0, 0, 0, 0, 0, 0, 0, 0, 0, 0, 0, 0, 0, 0, 0, 0, 0, 0, 0, 0, 0, 0, 0, 0, 0, 0, 0, 0, 0, 0, 0, 0, 0, 0, 0, 0, 0, 0, 0, 0, 0, 0, 0, 0, 0, 0, 0, 0, 0, 0, 0, 0, 0, 0, 0, 0, 0, 0, 0, 0, 0, 0, 0, 0, 0, 0, 0, 0, 0, 0, 0, 0, 0, 0, 0, 0, 0, 0, 0, 0, 0, 0, 0, 0, 0, 0, 0, 0, 0, 0, 0, 0, 0, 0, 0, 0, 0, 0, 0, 0, 0, 0, 0, 0, 0, 0, 0, 0, 0, 0, 0, 0, 0, 0, 0, 0, 0, 0, 0, 0, 0, 0, 0, 0, 0, 0, 0, 0, 0, 0, 0, 0, 0, 0, 0, 0, 0, 0, 0, 0, 0, 0, 0, 0, 0, 0, 0, 0, 0, 0, 0, 0, 0, 0, 0, 0, 0, 0, 0, 0, 0, 0, 0, 0, 0, 0, 0, 0, 0, 0, 0, 0, 0, 0, 0, 0, 0, 0, 0, 0, 0, 0, 0, 0, 0, 0, 0, 0, 0, 0, 0, 0, 0, 0, 0, 0, 0, 0, 0, 0, 0, 0, 0, 0, 0, 0, 0, 0, 0, 0, 0, 0, 0, 0, 0, 0, 0, 0, 0, 0, 0, 0, 0, 0, 0, 0, 0, 0, 0, 0, 0, 0, 0, 0, 0, 0, 0, 0, 0, 0, 0, 0, 0, 0, 0, 0, 0, 0, 0, 1, 0, 0, 0, 0, 0, 0, 0, 0, 0, 0, 0, 0, 0, 0, 0, 0, 0, 0, 0, 0, 0, 0, 0, 0, 0, 0, 0, 0, 0, 0, 0, 0, 0, 0, 0, 0, 0, 0, 0, 0, 0, 0, 0, 0, 0, 0, 0, 0, 0, 0, 0, 0, 0, 0, 0, 0, 0, 0, 0, 0, 0, 0, 0, 0, 0, 0, 0, 0, 0, 0, 0, 0, 0, 0, 0, 0, 0, 0, 0, 0, 0, 0, 0, 0, 0, 0, 0, 0, 0, 0, 0, 0, 0, 0, 0, 0, 0, 0, 0, 0, 0, 0, 0, 0, 0, 0, 0, 1, 0, 0, 0, 0, 0, 0, 0, 0, 0, 0, 0, 0, 0, 0, 0, 0, 0, 0, 0, 0, 0, 0, 0, 0, 0, 0, 0, 0, 0, 0, 0, 0, 0, 0, 0, 0, 0, 0, 0, 0, 0, 0, 0, 0, 0, 0, 0, 0, 0, 0, 0, 0, 0, 0, 0, 0, 0, 0, 0, 0, 0, 0, 0, 0, 0, 0, 0, 0, 0, 0, 0, 0, 0, 0, 0, 0, 0, 0, 0, 0, 0, 0, 0, 0, 0, 0, 0, 0, 0, 0, 0, 0, 0, 0, 0, 0, 0, 0, 0, 0, 0, 0, 0, 0, 0, 0, 0, 0, 0, 0, 0, 0, 0, 0, 0, 0, 0, 0, 0, 0, 0, 0, 0, 0, 0, 0, 0, 0, 0, 0, 0, 0, 0, 0, 0, 0, 0, 0, 0, 0, 0, 0, 0, 0, 0, 0, 0, 0, 0, 0, 0, 0, 0, 0, 0, 0, 0, 0, 0, 0, 0, 0, 0, 0, 0, 0, 0, 0, 0, 0, 0, 0, 0, 0, 0, 0, 0, 0, 0, 0, 0, 0, 0, 0, 0, 0, 0, 0, 0, 0, 0, 0, 0, 0, 0, 0, 0, 0, 0, 0, 0, 0, 0, 0, 0, 0, 0, 0, 0, 0, 0, 0, 0, 0, 0, 0, 0, 0, 0, 0, 0, 0, 0, 0, 0, 0, 0, 0, 0, 0, 0, 0, 0, 0, 0, 0, 0, 0, 0, 0, 0, 0, 0, 0, 0, 0, 0, 0, 0, 0, 0, 0, 0, 0, 0, 0, 0, 0, 0, 0, 0, 0, 0, 0, 0, 0, 0, 0, 0, 0, 0, 0, 0, 0, 0, 0, 0, 0, 0, 0, 0, 0, 0, 0, 0, 0, 0, 0, 0, 0, 0, 0, 0, 0, 0, 0, 0, 0, 0, 0, 0, 0, 0, 0, 0, 0, 0, 0, 0, 0, 0, 0, 0, 0, 0, 0, 0, 0, 0, 0, 0, 0, 0, 0, 0, 0, 0, 0, 0, 0, 0, 0, 0, 0, 0, 0, 0, 0, 0, 0, 0, 0, 0, 0, 0, 0, 0, 0, 0, 0, 0, 0, 0, 0, 0, 0, 0, 0, 0, 0, 0, 0, 0, 0, 0, 0, 0, 0, 0, 0, 0, 0, 0, 0, 0, 0, 0, 0, 0, 0, 0, 0, 0, 0, 0, 0, 0, 0, 0, 0, 0, 0, 0, 0, 0, 0, 0, 0, 0, 0, 0, 0, 0, 0, 0, 0, 0, 0, 0, 0, 0, 0, 0, 0, 0, 0, 0, 0, 0, 0, 0, 0, 0, 0, 0, 0, 0, 0, 0, 0, 0, 0, 0, 0, 0, 0, 0, 0, 0, 0, 0, 0, 0, 0, 0, 0, 0, 0, 0, 0, 0, 0, 0, 0, 0, 0, 0, 0, 0, 0, 0, 0, 0, 2, 0, 1, 0], type: <class 'list'>, valid types: <class 'bytes'>, <class 'bytearray'>, file-like object"
     ]
    }
   ],
   "source": [
    "response = runtime.invoke_endpoint(EndpointName = xgb_predictor.endpoint, # The name of the endpoint we created\n",
    "                                       ContentType = 'text/csv',                     # The data format that is expected\n",
    "                                       Body = test_bow)"
   ]
  },
  {
   "cell_type": "markdown",
   "metadata": {},
   "source": [
    "So why did we get an error?\n",
    "\n",
    "Because we tried to send the endpoint a list of integers but it expected us to send data of type `text/csv`. So, we need to convert it."
   ]
  },
  {
   "cell_type": "code",
   "execution_count": 46,
   "metadata": {},
   "outputs": [],
   "source": [
    "response = runtime.invoke_endpoint(EndpointName = xgb_predictor.endpoint, # The name of the endpoint we created\n",
    "                                       ContentType = 'text/csv',                     # The data format that is expected\n",
    "                                       Body = ','.join([str(val) for val in test_bow]).encode('utf-8'))"
   ]
  },
  {
   "cell_type": "code",
   "execution_count": 47,
   "metadata": {},
   "outputs": [
    {
     "name": "stdout",
     "output_type": "stream",
     "text": [
      "{'ResponseMetadata': {'RequestId': '22478758-da49-496f-a4ce-fc053b84f464', 'HTTPStatusCode': 200, 'HTTPHeaders': {'x-amzn-requestid': '22478758-da49-496f-a4ce-fc053b84f464', 'x-amzn-invoked-production-variant': 'AllTraffic', 'date': 'Wed, 24 Jun 2020 01:06:50 GMT', 'content-type': 'text/csv; charset=utf-8', 'content-length': '14'}, 'RetryAttempts': 0}, 'ContentType': 'text/csv; charset=utf-8', 'InvokedProductionVariant': 'AllTraffic', 'Body': <botocore.response.StreamingBody object at 0x7f83943702b0>}\n"
     ]
    }
   ],
   "source": [
    "print(response)"
   ]
  },
  {
   "cell_type": "markdown",
   "metadata": {},
   "source": [
    "As we can see, the response from our model is a somewhat complicated looking dict that contains a bunch of information. The bit that we are most interested in is `'Body'` object which is a streaming object that we need to `read` in order to make use of."
   ]
  },
  {
   "cell_type": "code",
   "execution_count": 48,
   "metadata": {},
   "outputs": [
    {
     "name": "stdout",
     "output_type": "stream",
     "text": [
      "0.434921443462\n"
     ]
    }
   ],
   "source": [
    "response = response['Body'].read().decode('utf-8')\n",
    "print(response)"
   ]
  },
  {
   "cell_type": "markdown",
   "metadata": {},
   "source": [
    "Now that we know how to process the incoming user data we can start setting up the infrastructure to make our simple web app work. To do this we will make use of two different services. Amazon's Lambda and API Gateway services.\n",
    "\n",
    "Lambda is a service which allows someone to write some relatively simple code and have it executed whenever a chosen trigger occurs. For example, you may want to update a database whenever new data is uploaded to a folder stored on S3.\n",
    "\n",
    "API Gateway is a service that allows you to create HTTP endpoints (url addresses) which are connected to other AWS services. One of the benefits to this is that you get to decide what credentials, if any, are required to access these endpoints.\n",
    "\n",
    "In our case we are going to set up an HTTP endpoint through API Gateway which is open to the public. Then, whenever anyone sends data to our public endpoint we will trigger a Lambda function which will send the input (in our case a review) to our model's endpoint and then return the result."
   ]
  },
  {
   "cell_type": "markdown",
   "metadata": {},
   "source": [
    "### Setting up a Lambda function\n",
    "\n",
    "The first thing we are going to do is set up a Lambda function. This Lambda function will be executed whenever our public API has data sent to it. When it is executed it will receive the data, perform any sort of processing that is required, send the data (the review) to the SageMaker endpoint we've created and then return the result.\n",
    "\n",
    "#### Part A: Create an IAM Role for the Lambda function\n",
    "\n",
    "Since we want the Lambda function to call a SageMaker endpoint, we need to make sure that it has permission to do so. To do this, we will construct a role that we can later give the Lambda function.\n",
    "\n",
    "Using the AWS Console, navigate to the **IAM** page and click on **Roles**. Then, click on **Create role**. Make sure that the **AWS service** is the type of trusted entity selected and choose **Lambda** as the service that will use this role, then click **Next: Permissions**.\n",
    "\n",
    "In the search box type `sagemaker` and select the check box next to the **AmazonSageMakerFullAccess** policy. Then, click on **Next: Review**.\n",
    "\n",
    "Lastly, give this role a name. Make sure you use a name that you will remember later on, for example `LambdaSageMakerRole`. Then, click on **Create role**."
   ]
  },
  {
   "cell_type": "markdown",
   "metadata": {},
   "source": [
    "#### Part B: Create a Lambda function\n",
    "\n",
    "Now it is time to actually create the Lambda function. Remember from earlier that in order to process the user provided input and send it to our endpoint we need to gather two pieces of information:\n",
    "\n",
    " - The name of the endpoint, and\n",
    " - the vocabulary object.\n",
    "\n",
    "We will copy these pieces of information to our Lambda function after we create it.\n",
    "\n",
    "To start, using the AWS Console, navigate to the AWS Lambda page and click on **Create a function**. When you get to the next page, make sure that **Author from scratch** is selected. Now, name your Lambda function, using a name that you will remember later on, for example `sentiment_analysis_xgboost_func`. Make sure that the **Python 3.6** runtime is selected and then choose the role that you created in the previous part. Then, click on **Create Function**.\n",
    "\n",
    "On the next page you will see some information about the Lambda function you've just created. If you scroll down you should see an editor in which you can write the code that will be executed when your Lambda function is triggered. Collecting the code we wrote above to process a single review and adding it to the provided example `lambda_handler` we arrive at the following.\n",
    "\n",
    "```python\n",
    "# We need to use the low-level library to interact with SageMaker since the SageMaker API\n",
    "# is not available natively through Lambda.\n",
    "import boto3\n",
    "\n",
    "# And we need the regular expression library to do some of the data processing\n",
    "import re\n",
    "\n",
    "REPLACE_NO_SPACE = re.compile(\"(\\.)|(\\;)|(\\:)|(\\!)|(\\')|(\\?)|(\\,)|(\\\")|(\\()|(\\))|(\\[)|(\\])\")\n",
    "REPLACE_WITH_SPACE = re.compile(\"(<br\\s*/><br\\s*/>)|(\\-)|(\\/)\")\n",
    "\n",
    "def review_to_words(review):\n",
    "    words = REPLACE_NO_SPACE.sub(\"\", review.lower())\n",
    "    words = REPLACE_WITH_SPACE.sub(\" \", words)\n",
    "    return words\n",
    "    \n",
    "def bow_encoding(words, vocabulary):\n",
    "    bow = [0] * len(vocabulary) # Start by setting the count for each word in the vocabulary to zero.\n",
    "    for word in words.split():  # For each word in the string\n",
    "        if word in vocabulary:  # If the word is one that occurs in the vocabulary, increase its count.\n",
    "            bow[vocabulary[word]] += 1\n",
    "    return bow\n",
    "\n",
    "\n",
    "def lambda_handler(event, context):\n",
    "    \n",
    "    vocab = \"*** ACTUAL VOCABULARY GOES HERE ***\"\n",
    "    \n",
    "    words = review_to_words(event['body'])\n",
    "    bow = bow_encoding(words, vocab)\n",
    "\n",
    "    # The SageMaker runtime is what allows us to invoke the endpoint that we've created.\n",
    "    runtime = boto3.Session().client('sagemaker-runtime')\n",
    "\n",
    "    # Now we use the SageMaker runtime to invoke our endpoint, sending the review we were given\n",
    "    response = runtime.invoke_endpoint(EndpointName = '***ENDPOINT NAME HERE***',# The name of the endpoint we created\n",
    "                                       ContentType = 'text/csv',                 # The data format that is expected\n",
    "                                       Body = ','.join([str(val) for val in bow]).encode('utf-8')) # The actual review\n",
    "\n",
    "    # The response is an HTTP response whose body contains the result of our inference\n",
    "    result = response['Body'].read().decode('utf-8')\n",
    "    \n",
    "    # Round the result so that our web app only gets '1' or '0' as a response.\n",
    "    result = round(float(result))\n",
    "\n",
    "    return {\n",
    "        'statusCode' : 200,\n",
    "        'headers' : { 'Content-Type' : 'text/plain', 'Access-Control-Allow-Origin' : '*' },\n",
    "        'body' : str(result)\n",
    "    }\n",
    "```"
   ]
  },
  {
   "cell_type": "markdown",
   "metadata": {},
   "source": [
    "Once you have copy and pasted the code above into the Lambda code editor, replace the `**ENDPOINT NAME HERE**` portion with the name of the endpoint that we deployed earlier. You can determine the name of the endpoint using the code cell below."
   ]
  },
  {
   "cell_type": "code",
   "execution_count": 49,
   "metadata": {},
   "outputs": [
    {
     "data": {
      "text/plain": [
       "'xgboost-2020-06-24-00-06-05-002'"
      ]
     },
     "execution_count": 49,
     "metadata": {},
     "output_type": "execute_result"
    }
   ],
   "source": [
    "xgb_predictor.endpoint"
   ]
  },
  {
   "cell_type": "markdown",
   "metadata": {},
   "source": [
    "In addition, you will need to copy the vocabulary dict to the appropriate place in the code at the beginning of the `lambda_handler` method. The cell below prints out the vocabulary dict in a way that is easy to copy and paste."
   ]
  },
  {
   "cell_type": "code",
   "execution_count": 50,
   "metadata": {},
   "outputs": [
    {
     "name": "stdout",
     "output_type": "stream",
     "text": [
      "{'his': 2118, 'costume': 1005, 'drama': 1346, 'is': 2360, 'ill': 2228, 'cast': 710, 'and': 226, 'without': 4913, 'charm': 767, 'george': 1893, 'was': 4805, 'superb': 4296, 'character': 758, 'actor': 103, 'but': 636, 'he': 2056, 'thoroughly': 4459, 'implausible': 2245, 'here': 2086, 'as': 311, 'the': 4426, 'lead': 2545, 'an': 223, 'century': 736, 'known': 2492, 'for': 1784, 'philosophy': 3254, 'great': 1964, 'good': 1937, 'looks': 2649, 'of': 3083, 'all': 187, 'people': 3221, 'some': 4061, 'then': 4436, 'theres': 4440, 'in': 2257, 'dark': 1115, 'daughter': 1121, 'wealthy': 4827, 'family': 1645, 'best': 469, 'movie': 2926, 'opens': 3115, 'with': 4911, 'her': 2085, 'she': 3923, 'girl': 1909, 'at': 331, 'that': 4424, 'while': 4868, 'turns': 4609, 'up': 4683, 'situation': 4008, 'shes': 3930, 'always': 203, 'appealing': 272, 'actress': 105, 'closest': 857, 'to': 4507, 'usual': 4699, 'type': 4621, 'role': 3726, 'its': 2370, 'meant': 2784, 'be': 418, 'little': 2624, 'kind': 2476, 'la': 2500, 'it': 2366, 'ought': 3138, 'have': 2052, 'had': 2003, 'light': 2595, 'touch': 4533, 'affair': 135, 'from': 1840, 'start': 4156, 'finish': 1732, 'really': 3556, 'like': 2599, 'slasher': 4020, 'this': 4457, 'one': 3107, 'truly': 4597, 'acting': 99, 'script': 3834, 'atmosphere': 333, 'non': 3027, 'plot': 3309, 'charlie': 765, 'small': 4033, 'american': 213, 'right': 3696, 'night': 3013, 'brings': 587, 'isnt': 2362, 'even': 1533, 'gory': 1943, 'enough': 1491, 'if': 2222, 'film': 1716, 'aint': 163, 'gonna': 1936, 'least': 2554, 'they': 4442, 'should': 3951, 'make': 2713, 'cheap': 774, 'piece': 3272, 'trash': 4565, 'you': 4986, 'want': 4788, 'see': 3855, 'flicks': 1755, 'check': 777, 'out': 3141, 'before': 440, 'dawn': 1127, 'or': 3124, 'just': 2437, 'dont': 1324, 'waste': 4808, 'your': 4991, 'precious': 3366, 'time': 4495, 'worthless': 4954, 'garbage': 1870, 'towards': 4540, 'end': 1468, 'thriller': 4472, 'latter': 2528, 'day': 1129, 'image': 2233, 'used': 4693, 'more': 2904, 'than': 4420, 'evil': 1548, 'nasty': 2968, 'bette': 471, 'davis': 1126, 'were': 4848, 'come': 886, 'way': 4820, 'could': 1007, 'carry': 700, 'off': 3084, 'brilliantly': 584, 'unfortunately': 4654, 'cant': 671, 'find': 1726, 'many': 2732, 'other': 3135, 'reasons': 3560, 'seeing': 3857, 'youve': 4995, 'wondered': 4927, 'what': 4858, 'pair': 3176, 'old': 3100, 'fashioned': 1660, 'why': 4878, 'anyone': 259, 'heres': 2087, 'answer': 251, 'rest': 3657, 'sally': 3776, 'sex': 3907, 'crazy': 1035, 'woman': 4921, 'tiresome': 4502, 'sort': 4077, 'thing': 4450, 'do': 1302, 'youll': 4988, 'admit': 122, 'tension': 4404, 'badly': 383, 'during': 1387, 'these': 4441, 'scenes': 3811, 'drunken': 1376, 'agent': 150, 'equally': 1510, 'leading': 2547, 'actors': 104, 'nicholas': 3010, 'walker': 4778, 'no': 3020, 'sympathy': 4343, 'paul': 3214, 'plight': 3308, 'wooden': 4934, 'better': 472, 'level': 2584, 'understated': 4646, 'performance': 3228, 'though': 4461, 'often': 3095, 'seems': 3864, 'on': 3105, 'pilot': 3276, 'itself': 2371, 'context': 968, 'sets': 3899, 'are': 285, 'camera': 659, 'work': 4940, 'spoilers': 4124, 'about': 67, 'heroic': 2090, 'women': 4923, 'german': 1896, 'nazi': 2977, 'too': 4522, 'long': 2644, 'not': 3040, 'touching': 4536, 'sometimes': 4067, 'boring': 543, 'there': 4438, 'clichés': 846, 'storytelling': 4209, 'storyline': 4208, 'bad': 382, 'james': 2378, 'cameron': 661, 'titanic': 4503, 'events': 1536, 'live': 2625, 'now': 3054, 'we': 4823, 'got': 1944, 'point': 3316, 'view': 4736, 'another': 250, 'introduced': 2337, 'who': 4871, 'does': 1308, 'same': 3778, 'confusing': 942, 'both': 547, 'lack': 2502, 'knowledge': 2491, 'basic': 406, 'story': 4207, 'can': 665, 'know': 2489, 'fate': 1665, 'mother': 2911, 'example': 1553, 'shown': 3959, 'wrong': 4973, 'order': 3126, 'rarely': 3524, 'when': 4862, 'took': 4523, 'place': 3282, 'scene': 3809, 'did': 1241, 'happen': 2026, 'set': 3898, 'course': 1019, 'talented': 4355, 'well': 4843, 'wow': 4962, 'brother': 598, 'comes': 891, 'back': 378, 'eastern': 1408, 'front': 1841, 'has': 2043, 'received': 3564, 'which': 4867, 'showing': 3958, 'so': 4046, 'war': 4792, 'hero': 2088, 'still': 4188, 'fine': 1729, 'man': 2721, 'committed': 905, 'by': 642, 'germans': 1897, 'made': 2697, 'goes': 1930, 'cliché': 844, 'after': 143, 'basically': 407, 'von': 4765, 'chick': 786, 'flick': 1754, 'something': 4066, 'been': 438, 'decent': 1147, 'very': 4723, 'simple': 3983, 'finds': 1728, 'get': 1899, 'into': 2332, 'bed': 436, 'da': 1094, 'everyone': 1542, 'free': 1827, 'historical': 2119, 'fact': 1621, 'pure': 3471, 'imagination': 2236, 'despite': 1211, 'true': 4596, 'claim': 828, 'beginning': 443, 'vaguely': 4706, 'based': 404, 'event': 1535, 'sad': 3767, 'typical': 4623, 'days': 1130, 'usually': 4700, 'comment': 898, 'things': 4451, 'need': 2987, 'said': 3774, 'where': 4864, 'jeremy': 2394, 'part': 3193, 'horrible': 2163, 'didnt': 1242, 'think': 4452, 'directed': 1259, 'along': 195, 'solid': 4057, 'those': 4460, 'movies': 2927, 'read': 3543, 'potential': 3355, 'entertaining': 1499, 'disappointed': 1273, 'laughs': 2534, 'wouldnt': 4958, 'my': 2951, 'actually': 109, 'manages': 2725, 'mindless': 2851, 'enjoyment': 1488, 'journey': 2421, 'sadly': 3769, 'ends': 1474, 'being': 448, 'confused': 941, 'standard': 4144, 'buddy': 609, 'cop': 991, 'films': 1721, 'drawn': 1351, 'characters': 760, 'each': 1395, 'relies': 3606, 'much': 2934, 'chase': 769, 'sequences': 3888, 'lost': 2660, 'interest': 2323, 'filmmakers': 1720, 'job': 2405, 'getting': 1901, 'alone': 194, 'doing': 1312, 'their': 4431, 'own': 3158, 'cops': 993, 'early': 1400, 'our': 3139, 'opinion': 3118, 'instead': 2307, 'force': 1786, 'fed': 1682, 'them': 4432, 'through': 4477, 'constant': 957, 'going': 1931, 'greatly': 1967, 'couldve': 1009, 'enjoyable': 1485, 'whats': 4860, 'concerning': 933, 'joe': 2407, 'ford': 1789, 'real': 3547, 'estate': 1525, 'deals': 1137, 'radio': 3504, 'psychic': 3456, 'hes': 2093, 'investigation': 2343, 'add': 115, 'concerns': 934, 'fond': 1776, 'wants': 4791, 'fathers': 1667, 'death': 1141, 'together': 4511, 'elements': 1443, 'pathetic': 3210, 'hardly': 2036, 'break': 569, 'give': 1912, 'crap': 1031, 'impressive': 2253, 'cannot': 670, 'overcome': 3151, 'ridiculous': 3693, 'sequence': 3887, 'wasnt': 4807, 'four': 1812, 'separate': 3883, 'last': 2521, 'close': 853, 'half': 2007, 'hour': 2176, 'fields': 1705, 'calls': 654, 'deal': 1135, 'chasing': 772, 'gun': 1996, 'extra': 1606, 'lines': 2612, 'jokes': 2415, 'absolutely': 72, 'meaningless': 2782, 'me': 2778, 'whether': 4866, 'criminal': 1057, 'gets': 1900, 'caught': 722, 'already': 197, 'forgot': 1796, 'longer': 2645, 'care': 684, 'murder': 2939, 'because': 432, 'multiple': 2936, 'eye': 1611, 'candy': 668, 'chases': 771, 'us': 4690, 'beyond': 476, 'go': 1924, 'how': 2181, 'ruin': 3750, 'wont': 4932, 'formula': 1802, 'big': 478, 'turned': 4606, 'rather': 3528, 'appearance': 274, 'worth': 4953, 'none': 3028, 'help': 2079, 'forgettable': 1794, 'will': 4886, 'probably': 3407, 'likes': 2602, 'ii': 2226, 'doesnt': 1309, 'once': 3106, 'heard': 2062, 'claimed': 829, 'only': 3110, 'thought': 4462, 'would': 4957, 'money': 2888, 'im': 2232, 'sure': 4308, 'thats': 4425, 'box': 555, 'office': 3091, 'neither': 2996, 'roles': 3727, 'advice': 133, 'stick': 4185, 'jones': 2418, 'run': 3755, 'tired': 4501, 'instinct': 2308, 'misses': 2868, 'opportunity': 3121, 'fresh': 1833, 'new': 3003, 'trite': 4589, 'possibly': 3351, 'redeeming': 3577, 'value': 4709, 'oh': 3096, '90': 60, 'minutes': 2859, 'must': 2950, 'seemed': 3862, 'lot': 2661, 'id': 2212, 'clean': 838, 'bus': 631, 'station': 4164, 'sit': 4003, 'again': 146, 'guess': 1989, 'means': 2783, 'wells': 4845, 'past': 3207, 'prime': 3395, 'books': 536, 'survive': 4321, 'gone': 1935, 'coming': 896, 'life': 2592, 'dream': 1354, '20th': 38, 'idea': 2213, 'world': 4946, 'doomed': 1327, 'species': 4098, 'natural': 2973, 'side': 3965, 'market': 2740, 'necessarily': 2983, 'over': 3148, 'stronger': 4230, 'due': 1382, 'number': 3060, 'mass': 2753, 'humanity': 2189, 'human': 2188, 'race': 3499, 'first': 1736, 'exception': 1557, 'disappear': 1270, 'thanks': 4423, 'mixed': 2877, 'within': 4912, 'community': 908, 'mentally': 2809, 'etc': 1527, 'hitler': 2124, 'ten': 4399, 'years': 4979, 'twenty': 4612, 'machine': 2693, 'left': 2561, 'earth': 1403, 'two': 4620, 'working': 4944, 'class': 833, 'become': 433, 'surface': 4310, 'novel': 3052, 'sophisticated': 4075, 'weak': 4824, 'convinced': 984, 'danger': 1109, 'supposed': 4306, 'stop': 4201, 'countries': 1013, 'follow': 1772, 'also': 199, 'drop': 1369, 'recently': 3567, 'vision': 4754, 'government': 1948, 'peace': 3219, 'military': 2844, 'most': 2909, 'few': 1700, 'future': 1856, 'beings': 449, 'able': 66, 'imagine': 2238, 'completely': 922, 'white': 4870, 'amazing': 209, 'short': 3946, 'lived': 2626, 'nothing': 3047, 'civilization': 827, 'whole': 4873, 'universe': 4666, 'sky': 4017, 'stars': 4155, 'frightening': 1839, 'produced': 3414, 'since': 3990, 'nowhere': 3056, 'slightest': 4028, 'mention': 2810, 'japanese': 2382, 'found': 1811, 'essential': 1522, 'restored': 3659, 'edition': 1422, 'crucial': 1068, 'full': 1846, 'obviously': 3072, 'far': 1653, 'away': 369, 'brave': 567, 'absolute': 71, 'social': 4049, 'animal': 239, 'farm': 1656, '1984': 23, 'three': 4469, 'others': 3136, 'compare': 911, 'british': 589, 'science': 3816, 'fiction': 1702, 'writers': 4969, 'reveals': 3673, 'england': 1482, 'decades': 1145, 'tremendous': 4579, 'fear': 1676, 'among': 217, 'bleak': 503, 'form': 1798, 'dr': 1340, 'university': 4667, 'paris': 3189, 'any': 256, 'expert': 1585, 'say': 3799, 'intelligence': 2313, 'buy': 640, 'notion': 3050, 'whale': 4857, 'having': 2054, 'clue': 864, 'revenge': 3675, 'witnessed': 4915, 'dead': 1132, 'mate': 2765, 'forced': 1787, 'humans': 2190, 'mean': 2779, 'richard': 3686, 'harris': 2038, 'extremely': 1610, 'hard': 2033, 'accepted': 82, 'junk': 2436, 'paid': 3169, '50': 51, 'feel': 1684, 'ghosts': 1903, 'walk': 4775, 'let': 2579, 'until': 4680, 'especially': 1520, 'child': 789, 'adult': 125, 'scary': 3807, 'fascinating': 1658, 'contains': 964, 'mysterious': 2955, 'ones': 3108, 'creepy': 1052, 'mummy': 2937, 'doubt': 1332, 'rocks': 3722, 'exciting': 1563, 'pretty': 3384, 'main': 2707, 'discovers': 1281, 'mothers': 2912, 'secret': 3849, 'okay': 3099, 'bit': 488, 'overall': 3150, 'fun': 1848, 'saw': 3798, 'deserves': 1201, 'wanna': 4786, 'mr': 2929, 'done': 1322, 'hollywood': 2137, 'producers': 3416, 'remake': 3612, 'quite': 3495, 'curious': 1083, 'soon': 4074, 'famous': 1647, 'young': 4989, 'performances': 3229, 'attention': 345, 'detail': 1217, 'wonderful': 4928, 'watch': 4811, 'necessary': 2984, 'source': 4086, 'material': 2766, 'contemporary': 965, 'era': 1513, 'interesting': 2325, 'worthwhile': 4955, 'morality': 2903, 'thankfully': 4422, 'content': 966, 'told': 4513, 'subject': 4253, 'ironically': 2356, 'today': 4508, 'cutting': 1092, 'edge': 1418, 'present': 3374, 'occasionally': 3075, 'might': 2835, 'provide': 3448, 'lacking': 2504, 'funny': 1852, 'disney': 1289, 'music': 2946, 'range': 3516, 'appeal': 271, 'animation': 242, 'excellent': 1555, 'voice': 4761, 'talents': 4356, 'less': 2575, 'price': 3389, 'strong': 4229, 'humour': 2194, 'aimed': 162, 'wide': 4880, 'presented': 3376, 'format': 1799, 'adds': 119, 'cinema': 816, 'experience': 1580, 'call': 651, 'seen': 3865, 'times': 4497, 'taking': 4352, 'friends': 1837, 'weekend': 4838, 'honestly': 2147, 'ever': 1538, 'walked': 4776, 'sense': 3877, 'put': 3480, 'animated': 241, 'enjoy': 1484, 'stay': 4166, 'credits': 1050, 'takes': 4351, 'funniest': 1851, 'packed': 3166, 'throughout': 4478, 'enjoyed': 1486, 'margaret': 2735, 'bride': 577, 'version': 4720, 'boyfriend': 558, 'ex': 1549, 'journalist': 2420, 'tries': 4585, 'clear': 839, 'name': 2960, 'checking': 778, 'womans': 4922, 'female': 1693, 'ms': 2931, 'clumsy': 866, 'focusing': 1769, 'men': 2805, 'victims': 4730, 'guys': 2001, 'mentioned': 2811, 'book': 535, 'theyre': 4445, 'entirely': 1503, 'eat': 1411, 'dust': 1388, 'cover': 1022, 'copy': 994, 'apparently': 270, 'arent': 288, 'unless': 4669, 'mans': 2730, 'tell': 4395, 'stories': 4205, 'important': 2247, 'hear': 2061, 'liked': 2600, 'hurts': 2203, 'pushed': 3478, 'normally': 3034, 'look': 2646, 'feminist': 1695, 'angles': 237, 'media': 2789, 'tried': 4584, 'hadnt': 2004, 'youre': 4992, 'luck': 2681, 'characterization': 759, 'male': 2719, 'aired': 165, 'trio': 4587, 'channel': 753, 'ago': 154, 'watched': 4813, 'commercials': 903, 'impressed': 2251, 'engaging': 1481, 'second': 3846, 'viewing': 4740, 'yes': 4982, 'segments': 3868, 'perfect': 3224, 'hysterical': 2208, 'commentary': 899, 'stands': 4147, 'taken': 4350, '11': 2, 'total': 4531, 'success': 4265, 'show': 3953, 'final': 1722, 'segment': 3867, 'critics': 1064, 'such': 4268, 'thick': 4447, 'somehow': 4063, 'attack': 337, 'terrorists': 4414, 'revealed': 3671, 'masterful': 2758, 'anti': 254, 'opening': 3114, 'blend': 504, 'deep': 1154, 'empathy': 1462, 'concern': 931, 'children': 792, 'amusing': 221, 'childrens': 793, 'bin': 483, 'hunt': 2198, 'almost': 193, 'serious': 3891, 'successful': 4266, 'noble': 3021, 'failed': 1626, 'experiment': 1583, 'guts': 1999, 'remind': 3618, 'audience': 352, 'foreign': 1790, 'cia': 814, 'sean': 3840, 'study': 4242, 'effectively': 1430, 'making': 2718, 'sight': 3969, 'oliver': 3102, 'stones': 4198, 'trade': 4547, 'center': 732, 'fast': 1661, 'forward': 1808, 'bits': 490, 'ending': 1471, 'expected': 1577, 'meets': 2795, 'freddy': 1826, 'vs': 4767, 'jason': 2383, 'director': 1264, 'thinking': 4453, 'ok': 3098, 'nice': 3008, 'gore': 1941, 'expect': 1575, 'cheesy': 781, 'horror': 2168, 'shouldnt': 3952, 'navy': 2976, 'love': 2669, 'maybe': 2776, 'hell': 2077, 'works': 4945, 'picture': 3269, 'someone': 4064, 'fall': 1637, 'anything': 260, 'glover': 1923, 'dennis': 1179, 'hopper': 2161, 'gary': 1873, 'although': 201, 'random': 3514, 'fights': 1710, 'definitely': 1162, 'comedy': 890, 'humor': 2192, 'hurt': 2202, 'stomach': 4196, 'keep': 2449, 'smile': 4036, 'action': 100, 'kids': 2467, 'incredible': 2269, 'fantasy': 1652, 'ready': 3546, 'destroy': 1213, 'cities': 823, 'huge': 2185, 'plastic': 3294, 'monsters': 2893, 'outer': 3143, 'space': 4090, 'elsewhere': 1449, 'problem': 3408, 'never': 3001, 'succeed': 4262, 'convincing': 985, 'special': 4097, 'effects': 1431, 'released': 3603, 'france': 1816, 'under': 4639, 'title': 4504, 'de': 1131, 'creatures': 1046, 'giant': 1905, 'trying': 4601, 'upper': 4685, 'hand': 2015, 'awkward': 374, 'laughable': 2530, 'bought': 552, 'game': 1864, 'similar': 3978, 'indeed': 2271, 'played': 3297, 'couple': 1016, 'immediately': 2242, 'went': 4847, 'copies': 992, 'join': 2412, 'makes': 2716, 'brilliant': 583, 'trouble': 4592, 'feeling': 1685, 'explore': 1594, 'nature': 2975, 'single': 3996, 'player': 3298, 'simply': 3986, 'easy': 1410, 'included': 2262, 'play': 3296, 'hearts': 2066, 'internet': 2327, 'threatening': 4468, 'players': 3299, 'learn': 2550, 'playing': 3300, 'online': 3109, 'presence': 3373, 'yourself': 4993, 'depth': 1190, 'sorts': 4078, 'discover': 1279, 'hidden': 2096, 'list': 2617, 'nearly': 2981, 'endless': 1473, 'fantastic': 1651, 'written': 4972, 'blue': 518, 'red': 3576, 'loads': 2633, 'company': 910, 'friend': 1835, 'teeth': 4393, 'pulled': 3462, 'ended': 1470, 'liking': 2604, 'take': 4349, 'account': 89, 'friendship': 1838, 'power': 3359, 'drug': 1373, 'extreme': 1609, 'living': 2629, 'jail': 2376, 'lust': 2689, 'star': 4150, 'claire': 831, 'danes': 1108, 'cute': 1090, 'charming': 768, 'kate': 2446, 'hot': 2174, 'delivers': 1172, 'bill': 481, 'qualities': 3483, 'twists': 4619, 'dig': 1250, 'visual': 4757, 'plus': 3311, 'shows': 3960, 'difficult': 1249, 'underrated': 4642, 'recent': 3566, 'history': 2121, 'worst': 4952, 'ranks': 3519, 'high': 2100, 'handful': 2017, 'students': 4239, 'teachers': 4376, 'filled': 1715, 'catholic': 720, 'priest': 3392, 'sexually': 3910, 'hair': 2005, 'clothes': 860, 'dialogue': 1234, 'believe': 454, 'quotes': 3497, 'creativity': 1042, 'seem': 3861, 'around': 297, 'continuity': 972, 'soundtrack': 4085, 'deserve': 1199, 'die': 1243, 'recommend': 3571, 'case': 707, 'beer': 439, 'laugh': 2529, 'william': 4887, 'tv': 4610, 'behind': 447, 'begin': 442, 'paying': 3217, 'peter': 3247, 'falk': 1636, 'several': 3905, 'different': 1248, 'convince': 983, 'him': 2110, 'home': 2142, 'average': 362, 'managed': 2723, 'former': 1800, 'use': 4692, 'fairly': 1631, 'degree': 1164, 'however': 2183, 'appears': 278, 'delivery': 1173, 'everything': 1544, 'predictable': 3367, '20': 29, 'word': 4937, 'happened': 2027, 'sub': 4252, 'par': 3184, 'letter': 2581, 'system': 4345, 'receive': 3563, 'cinematography': 820, 'compared': 912, 'cinematic': 818, 'skill': 4013, 'viewer': 4738, 'minimal': 2855, 'silence': 3974, 'poignant': 3315, 'conflict': 939, 'murders': 2943, 'west': 4852, 'christian': 808, 'values': 4710, 'holds': 2131, 'cause': 723, 'mirror': 2861, 'development': 1225, 'individual': 2277, 'became': 431, 'ring': 3698, 'avoid': 363, 'spoiler': 4123, 'started': 4157, 'guy': 2000, 'edward': 1426, 'escape': 1517, 'dressed': 1358, 'bunch': 623, 'believes': 456, 'santa': 3783, 'fake': 1635, 'bag': 384, 'stolen': 4195, 'christmas': 810, 'down': 1335, 'wind': 4893, 'gradually': 1952, 'becomes': 434, 'seriously': 3892, 'scrooge': 3837, 'called': 652, 'whos': 4876, 'treat': 4572, 'son': 4070, 'pile': 3275, 'rubbish': 3748, 'poor': 3328, 'kid': 2464, 'wears': 4832, 'holes': 2133, '45': 50, 'happy': 2032, 'singing': 3995, 'carol': 693, 'giving': 1915, 'corny': 997, 'am': 204, 'fan': 1648, 'top': 4525, 'shame': 3918, 'supernatural': 4302, 'element': 1442, 'match': 2762, 'totally': 4532, 'plenty': 3307, 'warriors': 4803, 'magic': 2703, 'mountain': 2917, 'classic': 835, 'guessed': 1990, '1983': 22, 'creative': 1041, 'inventive': 2341, 'continued': 970, 'chinese': 796, 'ghost': 1902, 'trilogy': 4586, 'later': 2525, 'productions': 3420, 'measure': 2786, 'genre': 1888, 'legend': 2564, 'connected': 945, 'understand': 4643, 'honest': 2146, 'matter': 2769, 'adventure': 130, 'wondering': 4930, 'hands': 2020, 'cgi': 740, 'result': 3660, 'beautiful': 428, 'critical': 1062, 'happening': 2028, 'theaters': 4428, 'screaming': 3827, 'screen': 3829, 'cinemas': 817, 'easily': 1406, 'beat': 423, 'budget': 610, 'superman': 4301, 'returns': 3668, 'arts': 310, 'missing': 2869, 'matters': 2770, 'chess': 783, 'background': 380, 'via': 4726, 'flashbacks': 1747, 'forces': 1788, 'created': 1037, 'factor': 1622, 'forms': 1801, 'wilson': 4891, 'humorous': 2193, 'moments': 2887, 'rich': 3685, 'beauty': 430, 'lake': 2509, 'intensity': 2317, 'period': 3236, 'dramas': 1347, 'delight': 1167, 'subtle': 4260, 'wit': 4908, 'hello': 2078, 'kidding': 2465, 'awesome': 371, 'block': 508, 'hit': 2122, 'sisters': 4002, 'ramones': 3512, 'makers': 2715, 'hope': 2155, 'serial': 3889, 'killer': 2470, 'either': 1438, 'comic': 893, 'villain': 4744, 'cross': 1066, 'between': 475, 'particularly': 3195, 'criminals': 1058, 'stress': 4220, 'position': 3345, 'feet': 1688, 'arms': 294, '24': 39, 'hours': 2177, 'week': 4837, 'suppose': 4305, 'gave': 1875, 'bay': 416, 'possible': 3350, 'central': 735, 'danny': 1112, 'security': 3854, 'doctor': 1304, 'professional': 3421, 'patient': 3211, 'hospital': 2172, 'room': 3735, 'described': 1195, 'highly': 2105, 'vulnerable': 4768, 'basis': 408, 'whatsoever': 4861, 'sleeping': 4025, 'himself': 2111, 'relationship': 3597, 'seemingly': 3863, 'believing': 457, 'else': 1448, 'apartment': 265, 'unable': 4631, 'resist': 3648, 'connection': 946, 'mature': 2773, 'sexual': 3908, 'relationships': 3598, 'falls': 1640, 'essentially': 1523, 'mental': 2808, 'age': 148, 'ice': 2210, 'cringe': 1059, 'knowing': 2490, 'gives': 1914, 'says': 3801, 'causes': 725, 'particular': 3194, 'afraid': 140, 'hoping': 2160, 'clearly': 840, 'innocence': 2293, 'utter': 4701, 'twisted': 4618, 'del': 1165, 'police': 3322, 'argument': 291, 'reason': 3557, 'comments': 901, 'utterly': 4702, 'pointless': 3318, 'serves': 3895, 'quest': 3486, 'looking': 2648, 'jeffrey': 2391, 'lower': 2677, 'worse': 4951, 'general': 1880, 'shot': 3949, 'performed': 3230, 'mostly': 2910, 'watching': 4815, 'jean': 2389, 'goldberg': 1933, 'michael': 2829, 'act': 97, 'blood': 512, 'sudden': 4272, 'rating': 3529, '10': 0, 'expecting': 1578, 'french': 1830, 'musical': 2947, 'low': 2676, 'color': 877, 'unbelievable': 4634, '30': 42, 'numbers': 3061, 'awful': 372, 'stupid': 4247, 'songs': 4072, 'rare': 3523, 'nudity': 3059, 'familiar': 1643, 'topless': 4527, 'try': 4600, 'yeah': 4977, 'laughing': 2533, 'impossible': 2249, 'song': 4071, 'change': 749, 'messages': 2820, 'everyday': 1541, 'may': 2775, 'relate': 3593, 'refreshing': 3586, 'regular': 3592, 'television': 4394, 'beautifully': 429, 'filmed': 1717, 'acted': 98, 'scripted': 3835, 'suspense': 4330, 'seat': 3845, 'theme': 4433, 'turn': 4605, 'brain': 562, 'fancy': 1649, 'worn': 4948, 'bother': 548, 'focused': 1767, 'hoped': 2156, 'folks': 1771, 'throat': 4476, 'hollywoods': 2138, 'obsession': 3070, 'sequels': 3886, 'hits': 2125, 'every': 1539, 'godfather': 1927, 'dozens': 1339, 'original': 3129, 'adaptation': 113, 'running': 3756, 'broadway': 592, '1960s': 15, 'choreography': 802, 'began': 441, 'came': 656, 'empty': 1465, 'aspect': 321, 'blockbuster': 509, 'fortunately': 1805, 'michelle': 2830, 'survived': 4322, 'learned': 2551, 'scripts': 3836, 'talent': 4354, 'evident': 1547, 'express': 1600, 'embarrassment': 1455, 'dance': 1103, 'perform': 3227, 'lacks': 2505, 'emotions': 1461, 'romantic': 3733, 'cool': 989, 'dull': 1384, 'mystery': 2956, 'ludicrous': 2685, 'finale': 1723, 'memory': 2804, 'cameos': 658, 'eve': 1532, 'stevens': 4183, 'sid': 3964, 'rise': 3702, 'slightly': 4029, 'above': 68, 'lame': 2510, 'reviewers': 3678, 'terms': 4406, 'entire': 1502, 'energy': 1478, 'bear': 420, 'resemblance': 3645, 'nostalgia': 3038, 'miss': 2866, 'brooks': 596, 'flat': 1748, 'audiences': 353, 'inept': 2281, 'seek': 3858, 'quick': 3490, 'buck': 605, 'unintentionally': 4659, 'viewers': 4739, 'train': 4556, 'wreck': 4965, 'bodies': 526, 'next': 3007, 'atmospheric': 334, 'considering': 952, 'bang': 393, 'middle': 2833, 'quickly': 3491, 'villains': 4745, 'local': 2634, 'pit': 3278, '1940s': 13, 'facing': 1620, 'biggest': 480, 'threat': 4467, 'nazis': 2978, 'message': 2819, 'britain': 588, 'third': 4455, 'arthur': 305, 'annoying': 249, 'unfunny': 4655, 'wanted': 4789, 'shut': 3961, 'succeeded': 4263, '80': 58, 'older': 3101, 'travel': 4567, 'uncomfortable': 4637, 'slow': 4031, 'dirty': 1268, 'thrown': 4481, 'staff': 4138, 'kung': 2498, 'fu': 1844, '70s': 56, '80s': 59, 'developed': 1223, 'cult': 1077, 'following': 1774, 'bruce': 602, 'lee': 2559, 'starred': 4153, 'stood': 4199, 'test': 4416, 'unique': 4662, 'aging': 153, 'master': 2757, 'tells': 4397, 'five': 1743, 'trained': 4557, 'wore': 4939, 'nobody': 3022, 'face': 1616, 'snake': 4042, 'member': 2800, 'map': 2733, 'target': 4366, 'society': 4050, 'figure': 1711, 'discovered': 1280, 'hung': 2197, 'kill': 2468, 'knows': 2493, 'named': 2961, 'ho': 2127, 'sin': 3988, 'philip': 3252, 'partner': 3198, 'sun': 4292, 'li': 2587, 'identity': 2217, 'prison': 3401, 'tortured': 4530, 'killed': 2469, 'combat': 882, 'mill': 2845, 'quality': 3484, 'martial': 2747, 'complex': 923, 'ways': 4822, 'wearing': 4831, 'area': 286, 'themselves': 4435, 'exactly': 1551, 'league': 2549, 'enter': 1494, 'dragon': 1344, 'icon': 2211, 'authentic': 358, 'sides': 3967, 'walls': 4783, 'air': 164, 'fight': 1707, 'intrigue': 2333, 'involved': 2346, 'colorful': 878, 'mgm': 2828, '50s': 52, 'gene': 1879, 'kelly': 2452, 'win': 4892, 'oscar': 3133, 'year': 4978, 'desire': 1205, 'african': 142, 'queen': 3485, 'credit': 1049, 'delightful': 1168, 'bright': 581, 'surely': 4309, 'entertained': 1498, 'nicely': 3009, 'surprise': 4312, 'couldnt': 1008, 'yet': 4984, 'stretch': 4221, 'drag': 1342, 'parts': 3199, 'musicals': 2948, 'flaws': 1752, 'racism': 3502, 'against': 147, 'carl': 692, 'effect': 1428, 'racist': 3503, 'captain': 674, 'officer': 3092, 'telling': 4396, 'chief': 788, 'intentionally': 2320, 'certainly': 738, 'risk': 3704, 'petty': 3249, 'everybody': 1540, 'cuba': 1075, 'saved': 3795, 'otherwise': 3137, 'sleep': 4024, 'disturbing': 1300, 'tied': 4489, 'starts': 4159, 'richards': 3687, 'morning': 2906, 'talking': 4360, 'walks': 4780, 'finished': 1733, 'saying': 3800, 'stand': 4143, 'ive': 2372, '90s': 61, 'lord': 2652, 'flies': 1756, 'lol': 2640, 'remember': 3616, 'saturday': 3792, 'late': 2523, 'creature': 1045, 'features': 1680, 'monster': 2892, 'hilariously': 2107, 'wonderfully': 4929, 'moronic': 2907, 'boat': 523, 'rental': 3627, 'english': 1483, 'wife': 4884, 'bloody': 513, 'hilarious': 2106, 'blow': 514, 'filming': 1718, 'bottom': 551, 'line': 2610, 'given': 1913, 'walter': 4784, 'matthau': 2771, 'comedic': 888, 'performer': 3231, 'contrast': 975, 'personality': 3242, 'frequent': 1831, 'co': 867, 'jack': 2373, 'lemmon': 2567, 'earlier': 1399, 'dramatic': 1348, 'pictures': 3270, 'odd': 3080, '1968': 16, 'adapted': 114, 'popular': 3333, 'neil': 2995, 'simon': 3982, 'suddenly': 4273, 'initially': 2291, 'striking': 4226, 'crude': 1069, 'generally': 1881, 'eventually': 1537, 'holding': 2130, 'comedian': 887, 'pitch': 3279, 'belongs': 460, 'calling': 653, 'mind': 2849, 'billy': 482, 'screenplay': 3831, 'builds': 617, 'premise': 3370, 'house': 2178, 'felix': 1689, 'twelve': 4611, 'attempts': 343, 'commit': 904, 'suicide': 4283, 'open': 3112, 'hotel': 2175, 'window': 4894, 'arrives': 302, 'lives': 2628, 'green': 1971, 'contain': 962, 'cheese': 780, 'meat': 2787, 'offers': 3090, 'unusual': 4681, 'constantly': 958, 'sloppy': 4030, 'husband': 2204, 'marriage': 2743, 'barely': 399, 'weeks': 4839, 'remains': 3611, 'unseen': 4678, 'terrific': 4409, 'heart': 2064, 'obvious': 3071, 'perhaps': 3235, 'buddies': 608, 'john': 2409, 'david': 1124, 'larry': 2520, 'obscure': 3068, 'theyve': 4446, 'intentions': 2321, 'decision': 1151, 'sounded': 4082, 'theory': 4437, 'ignored': 2225, 'correct': 1000, 'solution': 4059, 'feelings': 1686, 'unlike': 4670, 'comedies': 889, 'stage': 4139, 'plays': 3301, 'seven': 3903, 'strike': 4224, 'leads': 2548, 'tears': 4380, 'laughter': 2535, 'sequel': 3885, 'henry': 2084, 'fool': 1779, 'witty': 4917, 'comical': 894, 'fay': 1674, 'grim': 1974, 'anywhere': 263, 'dialogs': 1233, 'vivid': 4760, 'painful': 3171, 'fault': 1668, 'parker': 3191, 'jeff': 2390, 'blame': 499, 'lies': 2591, 'dialog': 1232, 'excuse': 1564, 'disappointment': 1275, 'sorry': 4076, 'pay': 3216, 'bored': 541, 'personalities': 3241, 'fans': 1650, 'black': 493, 'including': 2264, 'baby': 376, 'inside': 2297, 'thousands': 4466, 'peoples': 3222, 'thoughts': 4464, 'violence': 4747, 'stuff': 4243, 'waiting': 4772, 'graphic': 1958, 'gruesome': 1986, 'bland': 500, 'thin': 4449, 'horrifying': 2167, 'asian': 314, 'dreadful': 1353, 'ticket': 4487, 'vampire': 4711, 'minor': 2857, 'improvement': 2256, 'dick': 1239, 'granted': 1957, 'suggests': 4282, 'inane': 2258, 'hopes': 2159, 'notable': 3041, 'daniel': 1111, 'dave': 1123, 'promised': 3431, 'delivered': 1170, 'timing': 4498, 'suffering': 4277, 'stretched': 4222, 'laid': 2508, 'roll': 3728, 'major': 2711, 'progresses': 3426, '18': 10, 'dean': 1139, 'process': 3412, 'drags': 1345, 'boot': 538, 're': 3535, 'president': 3378, 'paint': 3173, 'choose': 799, 'fill': 1714, 'aforementioned': 139, 'disappointing': 1274, 'harry': 2039, 'gordon': 1940, 'trapped': 4564, 'desperately': 1209, 'nose': 3037, 'hall': 2009, 'mark': 2739, 'appear': 273, 'ah': 158, 'funeral': 1849, 'cut': 1089, 'sports': 4130, 'ha': 2002, 'overdone': 3152, 'false': 1641, 'anthony': 253, 'essence': 1521, 'teenagers': 4391, 'names': 2963, 'endure': 1475, 'ran': 3513, 'super': 4295, 'occasional': 3074, 'string': 4227, 'outrageous': 3145, 'clothing': 861, 'decade': 1144, 'writing': 4971, 'road': 3709, 'dragged': 1343, 'hopefully': 2157, 'humble': 2191, 'guest': 1992, 'cameras': 660, 'disaster': 1276, 'mad': 2696, 'angry': 238, 'valuable': 4708, 'sitting': 4007, 'realized': 3553, 'stuck': 4237, 'attractive': 351, 'cruel': 1070, 'cry': 1073, 'convincingly': 986, 'portrayed': 3342, 'tooth': 4524, 'crew': 1053, 'wonder': 4926, 'leaves': 2556, 'cold': 872, 'besides': 468, 'cartoon': 704, 'props': 3439, 'costumes': 1006, 'robot': 3717, 'picks': 3268, 'investigate': 2342, 'forgotten': 1797, 'head': 2057, 'island': 2361, 'forbidden': 1785, 'planet': 3289, 'miles': 2843, 'sci': 3815, 'fi': 1701, 'sat': 3786, 'brief': 579, 'beach': 419, 'blonde': 511, 'hasnt': 2044, 'competition': 918, 'stereotypical': 4180, 'drive': 1363, 'ugly': 4625, 'pink': 3277, 'car': 680, 'mom': 2885, 'lifetime': 2594, 'australia': 356, 'move': 2921, 'leave': 2555, 'storm': 4206, 'swimming': 4338, 'pool': 3327, 'water': 4816, 'apparent': 269, 'worthy': 4956, 'consider': 949, '40': 48, 'sacrifice': 3766, 'please': 3304, 'suffered': 4276, 'westerns': 4854, 'brilliance': 582, 'flash': 1745, 'charisma': 762, 'pull': 3461, 'direction': 1261, 'uninspired': 4657, 'havent': 2053, 'excited': 1561, 'spot': 4131, 'mediocre': 2791, 'limited': 2606, '15': 7, 'note': 3044, 'imdb': 2240, 'page': 3167, 'jenny': 2393, 'mistake': 2871, 'listed': 2618, 'firstly': 1737, 'series': 3890, 'teen': 4388, 'opportunities': 3120, 'teenager': 4390, 'agree': 155, 'nowadays': 3055, 'hang': 2022, 'amount': 219, 'reflect': 3584, 'minds': 2852, 'grown': 1984, 'reading': 3544, 'ahead': 159, 'learns': 2553, 'relative': 3599, 'ease': 1404, 'continues': 971, 'cave': 727, 'demands': 1175, 'kidnapped': 2466, 'decides': 1150, 'tall': 4362, 'logic': 2638, 'public': 3460, 'involvement': 2347, 'hire': 2116, 'slap': 4018, 'hed': 2072, 'determined': 1221, 'actual': 108, 'evidence': 1546, 'eg': 1434, 'body': 527, 'apart': 264, 'daring': 1114, 'daughters': 1122, 'sweet': 4336, 'rose': 3739, 'divorce': 1301, 'parent': 3187, 'issues': 2365, 'feels': 1687, 'cruise': 1071, 'band': 391, 'problems': 3409, 'suffers': 4278, 'incoherent': 2265, 'whose': 4877, 'leader': 2546, 'bizarre': 492, 'person': 3238, 'self': 3869, 'married': 2744, 'admittedly': 123, 'style': 4249, 'romance': 3732, 'bears': 421, 'nostalgic': 3039, 'burt': 629, 'screenwriter': 3833, 'innocent': 2294, 'jimmy': 2403, 'smith': 4038, 'dvd': 1391, 'bring': 585, 'memories': 2803, 'chance': 747, 'remain': 3609, 'poorly': 3329, 'tea': 4373, 'solo': 4058, 'faces': 1618, 'proud': 3444, 'anna': 245, 'herself': 2092, 'spending': 4106, 'dollar': 1314, 'seeking': 3859, 'surprised': 4313, 'advanced': 128, 'lady': 2507, 'across': 96, 'needs': 2990, 'school': 3813, 'model': 2880, 'picked': 3266, 'ryan': 3765, 'park': 3190, 'possibilities': 3348, 'except': 1556, 'positive': 3346, 'reviews': 3679, 'moving': 2928, 'fabulous': 1615, 'loses': 2657, 'impact': 2244, 'aside': 315, 'greatest': 1966, 'choreographed': 801, 'belong': 459, 'lovers': 2673, 'collection': 874, 'missed': 2867, 'hong': 2149, 'kong': 2494, 'leslie': 2574, 'traveling': 4568, 'spends': 4107, 'haunted': 2050, 'temple': 4398, 'staying': 4168, 'include': 2261, 'tree': 4576, 'devil': 1228, 'lit': 2621, 'lovely': 2671, 'joey': 2408, 'defeat': 1157, 'powerful': 3360, 'demon': 1177, 'pacing': 3163, 'combination': 883, 'paced': 3162, 'chemistry': 782, 'tragic': 4552, 'legendary': 2565, 'career': 686, 'allows': 192, 'experiences': 1582, 'portrayal': 3341, 'persona': 3239, 'traditional': 4550, 'score': 3822, 'colors': 879, 'pieces': 3273, 'round': 3742, 'trek': 4578, 'planning': 3291, 'enterprise': 1495, 'wait': 4770, 'setting': 3900, 'scott': 3824, 'superior': 4300, 'jonathan': 2417, 'jim': 2402, 'carrey': 696, 'weird': 4841, 'loved': 2670, 'yesterday': 4983, 'felt': 1692, 'decided': 1149, 'pleasantly': 3303, 'promising': 3433, 'hardcore': 2034, 'reach': 3536, 'population': 3335, 'reached': 3537, 'worked': 4941, 'suggest': 4280, 'starting': 4158, 'country': 1014, 'boy': 557, 'dreams': 1355, 'becoming': 435, 'travels': 4569, 'city': 825, 'cousin': 1021, 'plan': 3287, 'anyway': 261, 'gangster': 1868, 'tiny': 4500, 'needless': 2989, 'georges': 1894, 'respect': 3652, 'outstanding': 3147, 'brought': 600, 'relief': 3605, 'likable': 2598, 'reminded': 3619, 'favourite': 1673, 'grew': 1972, 'watches': 4814, 'motion': 2913, 'user': 4696, 'introduce': 2336, 'laurel': 2537, 'hardy': 2037, 'insult': 2309, 'everywhere': 1545, 'training': 4558, 'slapstick': 4019, 'profound': 3423, 'commented': 900, 'beloved': 461, 'rocky': 3723, 'ad': 110, 'taught': 4370, 'available': 361, 'video': 4733, 'abraham': 69, 'intrigued': 2334, 'curiosity': 1082, 'stayed': 4167, 'occurred': 3077, 'spite': 4117, 'politics': 3326, 'culture': 1079, 'virtually': 4751, 'lets': 2580, 'somewhere': 4069, 'language': 2516, 'differences': 1247, 'teens': 4392, 'displayed': 1292, 'growing': 1983, 'drinking': 1362, '1970s': 17, 'southern': 4088, 'california': 650, 'joy': 2422, 'youth': 4994, 'believable': 453, 'fits': 1741, 'ian': 2209, 'code': 869, 'diamond': 1236, 'handle': 2018, 'lovable': 2668, 'proved': 3446, 'roy': 3745, 'victim': 4729, 'tough': 4537, 'earned': 1401, 'heads': 2059, 'lover': 2672, 'episode': 1507, 'caring': 691, 'hate': 2046, 'spy': 4135, 'flight': 1757, 'fury': 1855, 'steven': 4182, 'seagal': 3839, 'bore': 540, 'fat': 1663, 'dubbed': 1379, 'fare': 1655, 'load': 2631, '3rd': 47, 'responsible': 3656, 'shadow': 3912, 'laughably': 2531, 'according': 88, 'spent': 4108, 'figures': 1713, 'near': 2979, 'protagonist': 3441, 'broad': 590, 'myself': 2953, 'appreciate': 279, 'subtlety': 4261, 'meaning': 2780, 'alas': 172, 'kept': 2456, 'scenery': 3810, 'plant': 3293, 'terrible': 4407, '17': 9, 'iii': 2227, 'silly': 3976, 'footage': 1782, 'ripped': 3701, 'edited': 1420, 'lengthy': 2570, 'universal': 4665, 'cash': 709, 'previous': 3387, 'aka': 168, 'arnold': 296, 'crime': 1055, 'lousy': 2667, 'minute': 2858, 'grows': 1985, 'develop': 1222, 'learning': 2552, 'blah': 496, 'studio': 4240, 'sam': 3777, 'plots': 3310, 'supposedly': 4307, 'doctors': 1305, 'save': 3794, 'revealing': 3672, 'create': 1036, 'thugs': 4484, 'explain': 1586, 'involving': 2349, 'episodes': 1508, 'downright': 1337, 'vehicle': 4718, 'rocket': 3721, 'plain': 3286, 'editing': 1421, 'moves': 2925, 'kinda': 2477, 'favorite': 1671, 'repeated': 3631, 'repeat': 3630, 'sheer': 3925, 'amateurish': 207, 'montage': 2894, 'freak': 1824, 'proper': 3436, 'points': 3319, 'direct': 1258, 'feature': 1678, 'dawson': 1128, 'miller': 2846, 'themes': 4434, 'fit': 1740, 'mouse': 2919, 'inspired': 2301, 'someones': 4065, 'vague': 4705, 'remembered': 3617, 'review': 3676, 'favor': 1670, 'happens': 2029, 'born': 544, 'parents': 3188, 'cat': 713, 'thinks': 4454, 'food': 1778, 'talk': 4358, 'sellers': 3872, 'strange': 4211, 'hippie': 2115, 'incredibly': 2270, 'disjointed': 1287, 'prove': 3445, 'cinderella': 815, 'definition': 1163, 'sign': 3970, 'definite': 1161, 'dumb': 1385, 'senseless': 3878, 'recommended': 3572, 'months': 2897, 'keeps': 2451, 'jumping': 2431, 'rented': 3628, 'fell': 1690, 'hal': 2006, 'directing': 1260, 'assume': 328, 'somewhat': 4068, 'laughed': 2532, 'loud': 2664, 'carries': 699, 'street': 4216, 'church': 813, 'brothers': 599, 'sons': 4073, 'silent': 3975, 'international': 2326, 'tedious': 4387, 'actresses': 106, 'ability': 65, 'helps': 2082, 'irony': 2357, 'relevant': 3604, 'explaining': 1588, 'political': 3324, 'situations': 4009, 'complexity': 924, 'toward': 4539, 'alcoholic': 177, 'chain': 741, 'smoking': 4040, 'complaint': 920, 'terrorist': 4413, 'finding': 1727, '12': 3, 'satisfied': 3789, 'originality': 3130, 'winner': 4897, 'dare': 1113, 'charles': 764, 'dickens': 1240, 'blown': 516, 'touched': 4534, 'eighties': 1437, 'warned': 4798, 'spirits': 4115, 'perspective': 3245, 'finally': 1724, 'realizes': 3554, 'hold': 2129, 'creates': 1038, 'certain': 737, 'bitter': 491, 'below': 462, 'perfection': 3225, 'grand': 1953, 'epic': 1506, 'eyes': 1613, 'sounds': 4084, 'spectacular': 4101, 'per': 3223, 'poverty': 3357, 'bob': 524, 'warner': 4799, 'tim': 4494, 'distinct': 1296, 'added': 116, 'mood': 2898, 'wrote': 4974, 'tales': 4357, 'scare': 3803, 'turning': 4608, 'captured': 677, 'captures': 678, 'listen': 2619, 'sister': 4001, 'dies': 1245, 'sees': 3866, 'soul': 4079, 'fully': 1847, 'symbolism': 4341, 'references': 3583, 'strangely': 4212, 'deeper': 1155, 'displays': 1293, 'ensemble': 1492, 'wishes': 4906, 'barbara': 397, 'donald': 1321, 'sutherland': 4333, 'chilling': 794, 'business': 633, 'store': 4204, 'dry': 1377, 'macy': 2695, 'campbell': 663, 'ritter': 3705, 'members': 2801, 'notch': 3043, 'theatrical': 4430, 'realize': 3552, 'product': 3418, 'requires': 3642, 'support': 4303, 'treated': 4573, 'panic': 3181, 'formulaic': 1803, 'sharp': 3922, 'smart': 4035, 'relatively': 3600, 'nevertheless': 3002, 'places': 3284, 'shocked': 3939, 'powers': 3361, 'wake': 4774, 'fails': 1628, 'exposure': 1599, 'cable': 644, 'placed': 3283, 'industry': 2280, 'independent': 2272, 'draws': 1352, 'climax': 849, 'destiny': 1212, 'portrays': 3344, 'deliberately': 1166, 'environment': 1505, 'tracy': 4546, 'mission': 2870, 'ingredients': 2289, 'thoughtful': 4463, 'suspend': 4329, 'belief': 451, 'idiotic': 2219, 'dialogues': 1235, 'stone': 4197, 'awfully': 373, 'sexy': 3911, 'erotic': 1515, 'technical': 4381, 'straight': 4210, 'instance': 2304, 'jerry': 2396, 'douglas': 1334, 'theater': 4427, 'citizen': 824, 'kane': 2442, 'thru': 4483, 'provoking': 3452, 'controversial': 978, 'specific': 4099, 'award': 366, 'pity': 3281, 'modern': 2882, 'looked': 2647, 'moore': 2901, 'drink': 1361, 'sir': 4000, 'won': 4925, 'deserved': 1200, 'splendid': 4119, 'considered': 951, 'supporting': 4304, 'stephen': 4176, 'memorable': 2802, 'spielberg': 4110, 'ideas': 2215, 'naturally': 2974, 'twilight': 4614, 'zone': 4999, 'mixture': 2878, 'network': 3000, 'build': 614, 'anyways': 262, 'grow': 1982, 'wise': 4903, 'kevin': 2457, 'harvey': 2042, 'robbins': 3712, 'patrick': 3213, 'christopher': 811, 'lloyd': 2630, 'june': 2433, 'baker': 385, 'al': 170, 'directors': 1266, 'clint': 850, 'eastwood': 1409, 'reynolds': 3684, 'clark': 832, 'robert': 3713, 'martin': 2748, 'stinker': 4191, 'williams': 4888, 'tom': 4514, 'thomas': 4458, 'neat': 2982, 'football': 1783, 'ted': 4386, 'entertainment': 1500, 'pulp': 3465, 'favorites': 1672, 'choices': 798, 'understanding': 4645, 'changed': 750, 'speak': 4094, 'masses': 2755, 'weve': 4856, 'destroying': 1215, 'lots': 2662, 'battles': 415, 'godzilla': 1929, 'dozen': 1338, 'faced': 1617, 'headed': 2058, 'oddly': 3081, 'keeping': 2450, 'paper': 3183, 'destroyed': 1214, 'phony': 3256, 'steps': 4177, 'ed': 1415, 'wood': 4933, 'japan': 2381, 'urge': 4689, 'surviving': 4323, 'dinosaur': 1255, 'troops': 4591, 'friendly': 1836, 'field': 1704, 'reasonably': 3559, 'massacre': 2754, 'tag': 4348, 'wild': 4885, 'remote': 3622, 'meeting': 2794, 'birth': 486, 'large': 2517, 'raising': 3509, 'speaking': 4095, 'narrative': 2966, 'insight': 2298, 'animals': 240, 'loves': 2674, 'gorgeous': 1942, 'huh': 2187, 'core': 995, 'warning': 4800, 'blind': 506, 'adventures': 131, 'horrific': 2166, 'fox': 1814, 'deaths': 1142, 'border': 539, 'sadistic': 3768, 'built': 618, 'acceptable': 81, 'safe': 3771, 'sensitive': 3879, 'historically': 2120, 'accurate': 90, 'upon': 4684, 'cardboard': 682, 'conclusion': 936, 'principal': 3398, 'merely': 2815, 'embarrassing': 1454, 'stereotypes': 4179, 'indians': 2275, 'officers': 3093, 'rendition': 3625, 'guilty': 1995, 'pleasure': 3306, 'leonard': 2572, 'pain': 3170, 'rex': 3683, '35': 45, 'million': 2847, 'expensive': 1579, 'dinosaurs': 1256, 'team': 4378, 'wing': 4896, 'bumbling': 622, 'behavior': 446, 'bite': 489, 'hitting': 2126, 'accident': 84, 'purpose': 3474, 'anybody': 257, 'sick': 3963, 'howard': 2182, 'blair': 497, 'witch': 4909, 'sitcom': 4004, 'length': 2569, 'holmes': 2139, 'afford': 138, 'highlight': 2103, 'sincere': 3991, 'quirky': 3493, 'disagree': 1269, 'rate': 3526, 'vicious': 4728, 'western': 4853, 'kicked': 2461, 'march': 2734, 'tradition': 4549, 'andrew': 228, 'incomprehensible': 2267, 'heroes': 2089, 'heston': 2094, 'chris': 806, 'fire': 1734, 'treatment': 4574, 'rape': 3521, 'reaction': 3541, 'afterwards': 145, 'escaped': 1518, 'fellow': 1691, 'typically': 4624, 'appropriate': 283, 'sheriff': 3929, 'progress': 3425, 'photography': 3260, 'jessica': 2398, 'nominated': 3025, 'amazed': 208, 'rob': 3710, 'solve': 4060, 'honor': 2150, 'common': 906, 'versus': 4722, 'corruption': 1002, 'relations': 3596, 'wasted': 4809, 'basketball': 409, 'attached': 336, 'grade': 1951, 'gay': 1876, 'thirty': 4456, 'trip': 4588, 'youd': 4987, 'bar': 396, 'chose': 804, 'god': 1926, 'homosexual': 2145, 'dying': 1393, 'physical': 3262, 'arrogant': 303, 'standing': 4146, 'blank': 501, 'wall': 4781, 'recall': 3562, 'speaks': 4096, 'sound': 4081, 'hated': 2047, 'unfortunate': 4653, 'remarkably': 3614, 'hey': 2095, 'blond': 510, 'highlights': 2104, 'casting': 711, 'decisions': 1152, 'wouldve': 4959, 'manage': 2722, 'accept': 80, 'mundane': 2938, 'entertain': 1497, 'excitement': 1562, 'york': 4985, 'guarantee': 1987, 'remotely': 3623, 'resembles': 3646, 'twist': 4617, 'deliver': 1169, 'activities': 102, 'step': 4175, 'dancing': 1107, 'cares': 690, 'enjoying': 1487, 'kissing': 2484, 'date': 1118, 'lips': 2615, 'wanting': 4790, 'reality': 3551, 'refuses': 3587, 'needed': 2988, 'putting': 3482, 'incompetent': 2266, 'manner': 2729, 'handled': 2019, 'hiding': 2099, 'floor': 1759, 'writes': 4970, 'steve': 4181, 'flesh': 1753, 'everyones': 1543, 'suggested': 4281, 'uninteresting': 4660, 'elizabeth': 1445, 'draw': 1349, 'genuine': 1891, 'intelligent': 2314, 'touches': 4535, 'unexpected': 4650, 'catch': 714, 'mrs': 2930, 'steals': 4172, 'indie': 2276, 'bucks': 606, 'blob': 507, 'performs': 3234, 'lively': 2627, 'portray': 3340, 'juvenile': 2441, 'department': 1182, 'attitude': 346, 'helped': 2080, 'catchy': 717, 'tune': 4602, 'meanwhile': 2785, 'return': 3665, 'shall': 3916, 'friday': 1834, 'sunday': 4293, 'alice': 182, 'carrying': 701, 'breaks': 571, 'russell': 3761, 'mask': 2752, 'kiss': 2483, 'entry': 1504, 'father': 1666, 'guns': 1998, 'buildings': 616, 'cars': 702, 'hence': 2083, 'luke': 2687, 'lincoln': 2608, 'smaller': 4034, 'group': 1980, 'normal': 3033, 'states': 4163, 'america': 212, 'killing': 2472, 'question': 3487, 'asked': 317, 'eight': 1436, 'threw': 4470, 'table': 4346, 'board': 522, 'photos': 3261, 'baseball': 403, 'roman': 3731, 'boys': 559, 'oscars': 3134, 'kitchen': 2485, 'whenever': 4863, 'location': 2635, 'shots': 3950, 'manhattan': 2726, 'midnight': 2834, 'cowboy': 1025, 'heavy': 2070, 'comparison': 914, 'tony': 4521, 'fair': 1630, 'dealing': 1136, 'condition': 937, 'mid': 2832, 'frustration': 1843, 'battle': 414, 'understood': 4647, 'farce': 1654, 'shining': 3933, 'serving': 3897, 'balance': 387, 'bringing': 586, 'warmth': 4796, 'underlying': 4641, 'strength': 4219, 'showed': 3956, 'season': 3843, 'pro': 3406, 'enjoys': 1489, 'burn': 625, 'torture': 4529, 'cell': 730, 'scream': 3826, 'burns': 628, 'shocking': 3940, 'vote': 4766, 'sucks': 4271, 'higher': 2101, 'aliens': 184, 'puts': 3481, 'kirk': 2482, 'pick': 3265, 'personal': 3240, 'purple': 3473, 'outside': 3146, 'grey': 1973, 'bridge': 578, 'noticed': 3049, 'ships': 3935, 'basement': 405, 'theatre': 4429, 'un': 4630, 'castle': 712, 'inducing': 2279, 'anymore': 258, 'edgar': 1417, 'allen': 188, 'ironic': 2355, 'haunting': 2051, 'gags': 1862, 'stooges': 4200, 'finest': 1730, 'originally': 3131, 'lane': 2515, 'terror': 4412, 'pass': 3201, 'murdered': 2940, 'arrive': 300, 'disappeared': 1271, 'rid': 3690, 'justice': 2438, 'reactions': 3542, 'mickey': 2831, 'trademark': 4548, 'duke': 1383, 'gem': 1877, 'hunters': 2200, 'capture': 676, 'moment': 2886, 'females': 1694, 'onto': 3111, 'town': 4541, 'derek': 1192, 'ps': 3453, 'bo': 521, 'birthday': 487, 'satire': 3788, 'highest': 2102, 'clever': 841, 'issue': 2364, 'screams': 3828, 'concept': 930, 'suspects': 4328, 'em': 1452, 'various': 4715, 'post': 3352, 'scenario': 3808, 'ultimately': 4628, 'neighbors': 2994, 'dog': 1310, 'afternoon': 144, 'golden': 1934, 'sandra': 3782, 'concerned': 932, 'cake': 648, 'downhill': 1336, 'nightmare': 3014, 'scares': 3806, 'jennifer': 2392, 'murderous': 2942, 'genres': 1889, 'kennedy': 2454, 'carradine': 695, 'appearances': 275, 'walken': 4777, 'physically': 3263, 'climactic': 848, 'access': 83, 'linda': 2609, 'technique': 4383, 'makeup': 2717, 'involve': 2345, 'existent': 1572, 'seventies': 3904, 'building': 615, 'followed': 1773, 'inevitable': 2282, 'thief': 4448, 'thrillers': 4473, 'scared': 3805, 'simplicity': 3984, 'assumed': 329, 'cynical': 1093, 'myers': 2952, 'christians': 809, 'christ': 807, 'knew': 2486, 'forever': 1792, 'complain': 919, 'adults': 126, 'knock': 2488, 'trust': 4598, 'disc': 1278, 'previously': 3388, 'banned': 395, 'andy': 230, 'adequate': 120, 'sixties': 4011, 'focus': 1766, 'unit': 4663, 'display': 1291, 'hatred': 2049, 'trashy': 4566, 'nude': 3058, 'reputation': 3640, 'surprisingly': 4316, 'likely': 2601, 'lucky': 2683, 'festival': 1697, 'returned': 3666, 'savage': 3793, 'mainstream': 2709, 'lowest': 2678, 'lone': 2642, 'slowly': 4032, 'executed': 1565, 'unpredictable': 4675, 'frustrated': 1842, 'expectations': 1576, 'club': 863, 'required': 3641, 'rated': 3527, 'truth': 4599, 'unbelievably': 4635, 'asleep': 320, 'nightmares': 3015, 'negative': 2991, 'throw': 4479, 'news': 3005, 'agents': 151, 'flop': 1760, 'rotten': 3740, 'spike': 4111, 'achieve': 92, 'offensive': 3086, 'italian': 2367, 'magical': 2704, 'gift': 1906, 'tale': 4353, 'rock': 3720, 'medium': 2792, 'convey': 982, 'inappropriate': 2259, 'underground': 4640, 'intense': 2316, 'ordinary': 3128, 'focuses': 1768, 'depiction': 1185, 'ultimate': 4627, 'mere': 2814, 'attempt': 340, 'artists': 309, 'efforts': 1433, 'project': 3427, 'information': 2288, 'perfectly': 3226, 'secrets': 3852, 'watchable': 4812, 'detective': 1220, 'raw': 3532, 'student': 4238, 'spoil': 4121, 'retarded': 3663, 'harsh': 2040, 'images': 2235, 'ladies': 2506, 'wandering': 4785, 'tight': 4492, 'prior': 3400, 'girls': 1911, 'tunes': 4603, 'health': 2060, 'safety': 3772, 'device': 1227, 'experienced': 1581, 'scientist': 3818, 'link': 2613, 'burning': 627, 'incident': 2260, 'alike': 185, 'private': 3404, 'turkey': 4604, 'switch': 4339, 'double': 1331, '1930s': 11, 'canada': 666, 'similarly': 3980, 'riveting': 3708, 'follows': 1775, 'canadian': 667, 'indian': 2274, 'resources': 3651, 'brosnan': 597, 'argue': 290, 'provides': 3450, 'annie': 247, 'bond': 532, 'interested': 2324, 'families': 1644, 'sexuality': 3909, 'combined': 885, 'difference': 1246, 'disgusting': 1286, 'prequel': 3372, 'starring': 4154, 'key': 2458, 'relation': 3595, 'talks': 4361, 'mildly': 2840, 'held': 2074, 'lay': 2542, 'awake': 365, 'assault': 324, 'unpleasant': 4674, 'handed': 2016, 'eric': 1514, 'charge': 761, 'spread': 4133, 'shape': 3919, 'trial': 4580, 'ideal': 2214, 'desperate': 1208, 'reporter': 3636, 'pulls': 3464, 'pretending': 3382, 'asking': 318, 'questions': 3489, 'results': 3662, 'law': 2538, 'lying': 2690, 'marvelous': 2750, 'art': 304, 'effort': 1432, 'nor': 3032, 'gentle': 1890, 'irritating': 2359, 'party': 3200, 'east': 1407, 'orange': 3125, 'explanation': 1590, 'neck': 2985, 'photo': 3257, 'folk': 1770, 'fictional': 1703, 'accused': 91, 'strictly': 4223, 'routine': 3743, 'aged': 149, 'strip': 4228, 'tie': 4488, 'shed': 3924, 'raped': 3522, 'challenge': 743, 'nail': 2957, 'gold': 1932, 'gritty': 1977, 'uses': 4697, 'newly': 3004, '2003': 33, 'logical': 2639, 'surprises': 4314, 'darkness': 1117, 'rent': 3626, 'trail': 4553, 'boss': 546, 'seasons': 3844, 'appeared': 276, 'massive': 2756, 'split': 4120, 'provided': 3449, 'realistic': 3550, 'killers': 2471, 'realism': 3549, 'authority': 360, 'disappoint': 1272, 'virgin': 4749, '2005': 35, 'catherine': 719, 'mann': 2728, 'jane': 2380, 'lynch': 2691, 'shelley': 3928, 'worker': 4942, 'funnier': 1850, 'cost': 1003, 'unlikely': 4671, 'warm': 4794, 'hearted': 2065, 'spirited': 4114, 'mary': 2751, 'joke': 2414, 'send': 3875, 'ups': 4686, 'instant': 2305, 'reunion': 3669, '1972': 18, 'babe': 375, 'escapes': 1519, 'plans': 3292, 'naked': 2959, 'airplane': 166, 'cameo': 657, 'chuck': 812, 'brand': 565, 'recognition': 3568, 'native': 2972, 'north': 3036, 'sympathetic': 4342, 'werent': 4849, 'loosely': 2651, 'further': 1853, 'proves': 3447, 'ambitious': 211, 'marry': 2745, 'anger': 235, 'spanish': 4092, 'woods': 4935, 'village': 4743, 'visually': 4758, 'recognize': 3569, 'unconvincing': 4638, 'accent': 78, 'choice': 797, 'countless': 1012, 'crimes': 1056, 'berlin': 467, 'cultural': 1078, 'revolution': 3680, 'communist': 907, 'propaganda': 3435, 'moral': 2902, 'psychotic': 3459, 'murderer': 2941, 'object': 3066, 'dear': 1140, 'bugs': 613, 'loose': 2650, 'unnecessary': 4672, 'description': 1197, 'masterpiece': 2759, 'emotional': 1459, 'scale': 3802, 'americans': 214, 'figured': 1712, 'stunning': 4244, 'goal': 1925, 'saving': 3797, 'alan': 171, 'stole': 4194, 'noise': 3024, 'talked': 4359, 'pg': 3250, '13': 4, 'jump': 2429, 'mike': 2838, 'jumps': 2432, 'endings': 1472, 'resolution': 3649, 'fooled': 1780, 'judging': 2425, 'carefully': 689, 'alive': 186, 'corpse': 999, 'rangers': 3517, 'toy': 4542, 'united': 4664, 'dressing': 1359, 'multi': 2935, 'ashamed': 312, 'nonsense': 3030, 'reminds': 3620, 'warren': 4801, 'pace': 3161, 'runs': 3757, 'intent': 2318, 'virginia': 4750, 'ralph': 3510, 'bonus': 534, 'furthermore': 1854, 'subsequent': 4257, 'complicated': 925, 'reasonable': 3558, 'passes': 3203, 'parties': 3196, 'attempting': 342, 'tap': 4364, 'insulting': 2310, 'died': 1244, 'web': 4833, 'site': 4005, 'wound': 4960, 'bet': 470, 'swear': 4334, 'existed': 1570, 'franchise': 1817, 'allow': 189, 'cleverly': 842, 'opposite': 3123, 'barry': 401, 'singer': 3993, 'zombie': 4997, 'camp': 662, 'moon': 2900, 'sent': 3880, 'section': 3853, 'accents': 79, 'voices': 4763, 'production': 3419, 'lasted': 2522, 'willis': 4890, 'continue': 969, '40s': 49, 'flynn': 1765, 'boxing': 556, 'matches': 2764, 'dynamic': 1394, 'championship': 745, 'sullivan': 4288, 'till': 4493, 'aspects': 322, 'persons': 3244, 'illegal': 2229, 'bare': 398, 'fighting': 1709, 'portraying': 3343, 'jobs': 2406, 'backdrop': 379, 'painting': 3175, 'chapter': 757, 'swim': 4337, 'drives': 1367, 'unknown': 4668, 'teacher': 4375, 'debut': 1143, 'writer': 4968, 'clip': 851, 'poster': 3353, 'levels': 2585, 'foul': 1810, 'irish': 2353, 'briefly': 580, 'capable': 672, 'domestic': 1318, 'sue': 4274, 'creep': 1051, 'reflection': 3585, 'producer': 3415, 'wicked': 4879, 'melodrama': 2797, 'younger': 4990, 'easier': 1405, 'transformation': 4560, 'rescue': 3643, 'visits': 4756, 'dad': 1095, 'smiling': 4037, 'examples': 1554, 'quiet': 3492, 'saves': 3796, 'curse': 1086, 'changing': 752, 'motivation': 2914, 'ruined': 3751, 'feed': 1683, 'happiness': 2031, 'goodness': 1938, 'expressed': 1601, 'weapon': 4828, 'effective': 1429, 'strikes': 4225, 'triumph': 4590, 'ruins': 3752, 'author': 359, 'established': 1524, 'reduced': 3579, 'quote': 3496, 'summary': 4290, 'occurs': 3078, 'halfway': 2008, 'revolutionary': 3681, 'army': 295, 'mob': 2879, 'shoot': 3942, 'slave': 4022, 'delivering': 1171, 'financial': 1725, 'invasion': 2340, 'eating': 1413, 'civil': 826, 'beating': 425, 'warming': 4795, 'bone': 533, 'stealing': 4171, 'pot': 3354, 'angel': 231, 'credibility': 1047, 'max': 2774, 'stated': 4161, 'borrowed': 545, 'summer': 4291, 'resort': 3650, 'pamela': 3179, 'gray': 1963, 'marty': 2749, 'pearl': 3220, 'spend': 4105, 'soap': 4047, 'opera': 3116, 'nearby': 2980, 'horrors': 2169, 'witnesses': 4916, 'happily': 2030, 'daddy': 1096, 'diane': 1238, 'lonely': 2643, 'ears': 1402, 'unhappy': 4656, 'pop': 3330, 'crowd': 1067, 'defend': 1158, 'struggle': 4234, 'fatal': 1664, 'disease': 1285, 'flashback': 1746, 'skin': 4015, 'glory': 1922, 'conspiracy': 956, 'courage': 1018, 'mine': 2853, 'psychological': 3458, 'covered': 1023, 'promise': 3430, 'horrendous': 2162, 'clichéd': 845, 'twin': 4615, 'lawyer': 2541, 'college': 875, 'dress': 1357, 'shop': 3945, 'landscape': 2513, 'womens': 4924, 'offer': 3087, 'glass': 1917, 'toilet': 4512, 'extent': 1605, 'insane': 2296, 'increasingly': 2268, 'control': 977, 'consequences': 947, 'moved': 2922, 'equal': 1509, 'judge': 2424, 'begins': 444, 'orders': 3127, 'proof': 3434, 'hearing': 2063, 'claims': 830, 'areas': 287, 'failure': 1629, 'absurd': 73, 'con': 928, 'technically': 4382, 'minded': 2850, 'theyd': 4443, 'whatever': 4859, 'returning': 3667, 'knife': 2487, 'bath': 411, 'wins': 4899, 'hill': 2108, 'burned': 626, 'girlfriend': 1910, 'mainly': 2708, 'sinister': 3998, 'skip': 4016, 'regard': 3588, 'wasting': 4810, 'fairy': 1632, 'crush': 1072, 'identify': 2216, 'dislike': 1288, 'stiff': 4187, 'julie': 2428, 'waters': 4817, 'revelation': 3674, 'gender': 1878, 'changes': 751, 'ball': 388, 'soccer': 4048, 'specifically': 4100, 'shoes': 3941, 'wear': 4830, 'lesbian': 2573, 'coach': 868, 'spots': 4132, 'track': 4544, 'ourselves': 3140, 'contained': 963, 'fail': 1625, 'lacked': 2503, 'van': 4713, 'six': 4010, 'zero': 4996, 'upset': 4687, 'cook': 988, 'stewart': 4184, 'empire': 1464, 'splatter': 4118, 'useless': 4695, 'violent': 4748, 'hired': 2117, 'king': 2479, 'composed': 926, 'floating': 1758, 'dangerous': 1110, 'flow': 1762, 'glad': 1916, 'computer': 927, 'todays': 4509, 'smoke': 4039, 'whilst': 4869, 'protagonists': 3442, 'path': 3209, 'breath': 573, 'glimpse': 1919, 'nine': 3017, 'eddie': 1416, 'murphy': 2944, 'jackson': 2375, 'describes': 1196, 'stock': 4193, 'current': 1084, 'print': 3399, 'dreary': 1356, 'painfully': 3172, 'unwatchable': 4682, 'dire': 1257, 'pre': 3365, 'involves': 2348, 'loving': 2675, 'visit': 4755, 'photographer': 3259, 'mario': 2738, 'vacation': 4704, 'door': 1328, 'assigned': 325, 'witches': 4910, 'decide': 1148, 'pack': 3165, 'encounter': 1466, 'deaf': 1134, 'eyed': 1612, 'victor': 4731, 'foot': 1781, 'ancient': 225, 'abandoned': 62, 'develops': 1226, 'dolls': 1316, 'cats': 721, 'deadly': 1133, 'cliff': 847, 'semi': 3874, 'suffer': 4275, 'mess': 2818, 'immensely': 2243, 'fascinated': 1657, 'pitt': 3280, 'impression': 2252, 'explains': 1589, 'tongue': 4518, 'mentions': 2813, 'explained': 1587, 'childish': 791, 'european': 1530, 'suits': 4287, 'jesus': 2399, 'freeman': 1829, 'prefer': 3368, 'shallow': 3917, 'hollow': 2135, 'mtv': 2933, 'affect': 136, 'allowed': 190, 'listening': 2620, 'conversation': 980, 'allowing': 191, 'surrounding': 4319, 'defined': 1160, 'stopped': 4202, 'australian': 357, 'sink': 3999, 'explored': 1595, 'soldiers': 4054, 'guard': 1988, 'sentence': 3881, 'rules': 3754, 'tense': 4403, 'bourne': 554, 'matt': 2768, 'damon': 1101, 'stunts': 4246, 'spider': 4109, 'joan': 2404, 'cusack': 1088, 'inspiring': 2302, 'ride': 3692, 'succeeds': 4264, 'jon': 2416, 'snl': 4044, 'tone': 4517, 'miscast': 2862, 'search': 3841, 'andrews': 229, 'tons': 4520, 'warn': 4797, 'disbelief': 1277, 'behave': 445, 'exist': 1569, 'discovery': 1282, 'punishment': 3467, 'conservative': 948, 'india': 2273, 'heat': 2067, 'los': 2653, 'angeles': 233, 'majority': 2712, 'searching': 3842, 'rooms': 3736, 'write': 4967, 'wishing': 4907, 'produce': 3413, 'sends': 3876, 'magazine': 2701, 'editor': 1423, 'coffee': 870, 'beneath': 464, 'racial': 3501, 'mexican': 2826, 'harder': 2035, 'inspiration': 2300, 'surprising': 4315, 'arm': 292, 'passion': 3205, 'faith': 1633, 'suit': 4284, 'embarrassed': 1453, 'adam': 111, 'sandler': 3781, 'yelling': 4980, 'emotion': 1458, 'don': 1320, 'nyc': 3065, 'fisher': 1739, 'childhood': 790, 'abuse': 74, 'denzel': 1181, 'washington': 4806, 'alert': 178, 'abusive': 75, 'foster': 1809, 'wish': 4904, 'advantage': 129, 'hat': 2045, 'duo': 1386, '30s': 44, 'slight': 4027, 'ginger': 1908, 'evening': 1534, 'fred': 1825, 'astaire': 330, 'rogers': 3725, 'kim': 2475, 'terribly': 4408, 'brutal': 603, 'chased': 770, 'stale': 4141, 'winters': 4901, '14': 6, 'jackie': 2374, 'chan': 746, '16': 8, 'soft': 4051, 'count': 1010, 'dated': 1119, 'jaws': 2385, 'rain': 3506, 'standards': 4145, 'corner': 996, 'thank': 4421, 'brian': 576, 'performing': 3233, 'porn': 3336, 'suited': 4286, 'kurt': 2499, 'avoided': 364, 'costs': 1004, 'whom': 4875, 'state': 4160, 'grace': 1950, 'complete': 921, 'pacino': 3164, 'engage': 1479, 'anime': 243, 'hooked': 2153, 'gas': 1874, 'seconds': 3848, 'using': 4698, 'tiger': 4491, 'mini': 2854, 'pushing': 3479, 'size': 4012, 'genius': 1887, 'bible': 477, 'mayor': 2777, 'antics': 255, 'gang': 1867, 'installment': 2303, 'steal': 4170, '2nd': 41, 'chaos': 755, 'uneven': 4649, 'masterpieces': 2760, 'wives': 4918, 'abysmal': 76, 'woody': 4936, 'hugh': 2186, 'keaton': 2448, 'stunt': 4245, 'professor': 3422, 'status': 4165, 'primarily': 3393, 'masters': 2761, 'worlds': 4947, 'stops': 4203, 'rat': 3525, 'medical': 2790, 'todd': 4510, 'greek': 1970, 'drunk': 1375, '3000': 43, '100': 1, 'taste': 4369, 'urban': 4688, 'enormous': 1490, '60s': 54, 'landscapes': 2514, 'frame': 1815, 'marks': 2742, 'notably': 3042, 'release': 3602, 'explosion': 1596, 'poetic': 3313, 'documentary': 1307, 'kicking': 2462, 'unrealistic': 4677, 'julia': 2427, 'led': 2558, 'mexico': 2827, 'willing': 4889, 'freedom': 1828, 'preview': 3386, 'batman': 413, 'buff': 611, 'china': 795, 'beliefs': 452, 'designed': 1203, 'intended': 2315, 'sing': 3992, 'welcome': 4842, 'addition': 118, 'distant': 1295, 'idiot': 2218, 'shorts': 3948, 'hole': 2132, 'dancer': 1104, 'describe': 1194, 'featured': 1679, '1st': 28, '2004': 34, 'revolves': 3682, 'program': 3424, 'homage': 2141, 'filmmaker': 1719, 'literally': 2622, 'circumstances': 822, 'broken': 594, 'accidentally': 85, 'justin': 2440, 'possibility': 3349, 'worried': 4949, 'dinner': 1254, 'dogs': 1311, 'tricks': 4583, 'property': 3438, 'sum': 4289, 'forty': 1807, 'mouth': 2920, 'spoiled': 4122, 'protect': 3443, 'brady': 561, 'prevent': 3385, 'viewed': 4737, 'paltrow': 3178, 'winning': 4898, 'shakespeare': 3915, 'beats': 426, 'emma': 1457, 'surrounded': 4318, 'et': 1526, 'personally': 3243, 'spare': 4093, 'album': 175, 'doc': 1303, 'tonight': 4519, 'sold': 4052, 'hopeless': 2158, 'grant': 1956, 'inspector': 2299, 'fame': 1642, 'retired': 3664, 'twice': 4613, 'london': 2641, 'advance': 127, 'nick': 3012, 'robinson': 3716, 'capital': 673, 'bomb': 531, 'garden': 1872, 'mel': 2796, 'sings': 3997, 'featuring': 1681, 'intimate': 2331, 'reveal': 3670, 'mistakes': 2873, 'meaningful': 2781, 'academy': 77, 'parody': 3192, 'elvis': 1451, 'related': 3594, 'grave': 1962, 'suspicious': 4332, 'hanks': 2025, 'ultra': 4629, 'gratuitous': 1961, 'finger': 1731, 'button': 639, 'connect': 944, 'pants': 3182, 'topic': 4526, 'fest': 1696, 'ie': 2221, 'pie': 3271, 'ground': 1979, 'stupidity': 4248, 'tommy': 4516, 'acts': 107, 'treats': 4575, 'directly': 1263, 'prostitute': 3440, 'nancy': 2964, 'caine': 647, 'rip': 3700, 'hitchcock': 2123, 'loaded': 2632, '1980': 20, 'desert': 1198, 'movements': 2924, 'mix': 2876, 'unoriginal': 4673, 'staring': 4152, 'presentation': 3375, 'fetched': 1698, 'trick': 4582, 'hamilton': 2012, 'birds': 485, 'reviewer': 3677, 'ages': 152, 'paulie': 3215, 'treasure': 4571, 'forgive': 1795, 'marie': 2737, 'genuinely': 1892, 'owner': 3159, 'artistic': 308, 'share': 3920, 'joined': 2413, 'morgan': 2905, 'presents': 3377, 'centered': 733, 'potentially': 3356, 'psychiatrist': 3455, 'cure': 1081, 'wonders': 4931, 'odds': 3082, 'shortly': 3947, 'painted': 3174, 'shirt': 3937, 'stan': 4142, 'experiments': 1584, 'lab': 2501, 'land': 2511, 'chair': 742, 'meet': 2793, 'tour': 4538, 'wished': 4905, 'bush': 632, 'centers': 734, 'merit': 2816, 'term': 4405, 'execution': 1566, 'tends': 4402, 'exceptionally': 1559, 'consistently': 954, 'consists': 955, 'recording': 3575, 'comparing': 913, 'vice': 4727, 'daily': 1097, 'report': 3635, 'defense': 1159, 'exotic': 1574, 'therefore': 4439, 'innovative': 2295, 'damage': 1099, 'maintain': 2710, 'base': 402, 'louise': 2666, 'goofy': 1939, 'ninja': 3018, 'largely': 2518, 'shines': 3932, 'wisdom': 4902, 'brooklyn': 595, 'colonel': 876, 'shine': 3931, 'regarding': 3589, 'blowing': 515, 'cooper': 990, 'includes': 2263, 'pregnant': 3369, 'admire': 121, 'crappy': 1032, 'conversations': 981, 'abc': 63, 'pig': 3274, 'repeatedly': 3632, 'cartoons': 705, 'surreal': 4317, 'bergman': 466, 'noir': 3023, 'drops': 1372, 'maker': 2714, 'fears': 1677, 'card': 681, 'words': 4938, 'attitudes': 347, 'remarks': 3615, 'susan': 4326, 'spring': 4134, 'affected': 137, 'helping': 2081, 'richardson': 3688, 'raymond': 3534, 'ray': 3533, 'bbc': 417, 'shell': 3927, 'notice': 3048, 'task': 4368, 'creating': 1039, '1980s': 21, 'suspect': 4327, 'isolated': 2363, 'mansion': 2731, 'molly': 2884, '1990s': 25, 'narration': 2965, 'vhs': 4725, 'driving': 1368, 'honesty': 2148, 'italy': 2368, 'homeless': 2143, 'spirit': 4113, 'encounters': 1467, 'miracle': 2860, 'eccentric': 1414, 'eerie': 1427, 'roberts': 3714, 'lie': 2590, 'heavily': 2069, 'exaggerated': 1552, 'credible': 1048, 'root': 3737, 'compelling': 916, 'silver': 3977, 'structure': 4233, 'practically': 3362, 'remaining': 3610, 'blues': 519, 'wedding': 4836, 'creators': 1044, 'suitable': 4285, 'tender': 4401, 'receives': 3565, 'phone': 3255, 'counter': 1011, 'occur': 3076, 'primary': 3394, 'ignore': 2224, 'operation': 3117, 'instantly': 2306, 'tend': 4400, 'whereas': 4865, 'integrity': 2311, 'stereotype': 4178, 'flaw': 1749, 'satisfying': 3791, '1973': 19, 'greedy': 1969, 'pan': 3180, 'versions': 4721, 'producing': 3417, 'thus': 4486, 'attraction': 350, 'horribly': 2164, 'inner': 2292, 'manipulative': 2727, 'broadcast': 591, 'lesson': 2577, 'titled': 4505, 'widely': 4881, 'successfully': 4267, 'importantly': 2248, 'carrie': 697, 'anne': 246, 'blake': 498, 'nelson': 2997, 'pride': 3391, 'deeply': 1156, 'gotten': 1947, 'nights': 3016, 'screening': 3830, 'details': 1219, 'suffice': 4279, 'letting': 2583, 'buying': 641, 'chicks': 787, 'shy': 3962, 'jake': 2377, 'speed': 4103, 'karen': 2444, 'wayne': 4821, 'novels': 3053, 'throws': 4482, 'liners': 2611, 'forget': 1793, 'sidekick': 3966, 'blew': 505, 'alien': 183, 'frankly': 1823, 'offering': 3089, 'purchase': 3469, 'seeks': 3860, 'kinds': 2478, 'host': 2173, 'ham': 2011, 'demented': 1176, 'bird': 484, 'performers': 3232, 'terrifying': 4410, 'careers': 687, 'frank': 1821, 'sinatra': 3989, 'louis': 2665, 'rival': 3706, 'disneys': 1290, 'roger': 3724, 'rabbit': 3498, 'worry': 4950, 'bigger': 479, 'studios': 4241, 'contract': 973, 'piano': 3264, 'lyrics': 2692, 'classical': 836, 'fix': 1744, 'waitress': 4773, 'extraordinary': 1607, 'judy': 2426, 'hanging': 2023, 'renting': 3629, 'campy': 664, 'halloween': 2010, 'opened': 3113, 'cabin': 643, 'hamlet': 2013, 'hills': 2109, 'vietnam': 4735, 'veteran': 4724, 'ben': 463, 'vincent': 4746, 'gross': 1978, 'exploitation': 1592, 'considerable': 950, 'victoria': 4732, 'peters': 3248, 'brad': 560, 'bank': 394, 'carpenter': 694, 'manager': 2724, 'slick': 4026, 'darker': 1116, 'nation': 2969, 'pretend': 3381, 'poetry': 3314, 'laura': 2536, 'lighting': 2596, 'tragedy': 4551, 'emotionally': 1460, 'sticks': 4186, 'sucked': 4270, 'dvds': 1392, 'jesse': 2397, 'liberal': 2588, 'trailers': 4555, 'souls': 4080, 'streets': 4217, 'statement': 4162, 'timeless': 4496, 'solely': 4056, 'passed': 3202, 'appreciated': 280, 'taxi': 4371, 'driver': 1366, 'recognized': 3570, 'critic': 1061, 'bands': 392, 'charismatic': 763, 'lights': 2597, 'blows': 517, 'wannabe': 4787, 'fashion': 1659, 'variety': 4714, 'confidence': 938, 'portrait': 3339, 'restaurant': 3658, 'replaced': 3634, 'advertising': 132, 'hbo': 2055, 'distribution': 1298, 'soviet': 4089, 'union': 4661, 'buried': 624, 'obsessed': 3069, 'cases': 708, 'driven': 1365, 'clues': 865, 'official': 3094, 'assistant': 326, 'facts': 1624, 'accomplished': 87, 'motivations': 2915, 'audio': 354, 'chosen': 805, 'crafted': 1029, 'tad': 4347, 'clown': 862, 'fly': 1763, 'neo': 2998, 'latest': 2526, 'closing': 859, 'dropped': 1370, 'breaking': 570, 'artificial': 306, 'amongst': 218, 'strangers': 4214, 'backgrounds': 381, 'lesser': 2576, 'initial': 2290, 'khan': 2459, 'rachel': 3500, 'contrary': 974, 'influence': 2286, 'muslim': 2949, 'chooses': 800, 'strongly': 4231, 'dealt': 1138, 'overly': 3155, 'regret': 3591, '70': 55, 'stays': 4169, 'notorious': 3051, 'proceeds': 3411, 'oil': 3097, 'push': 3477, 'polished': 3323, 'sappy': 3784, 'snow': 4045, 'falling': 1639, 'jamie': 2379, 'chicago': 785, 'hudson': 2184, 'rap': 3520, 'atrocious': 335, 'heck': 2071, 'shark': 3921, 'desired': 1206, 'brown': 601, 'princess': 3397, 'singers': 3994, 'facial': 1619, 'weight': 4840, 'commercial': 902, 'improve': 2254, 'subtitles': 4259, 'teach': 4374, 'narrator': 2967, 'introduction': 2339, 'actions': 101, 'drugs': 1374, 'creator': 1043, 'perry': 3237, 'vengeance': 4719, 'gain': 1863, 'justify': 2439, 'attorney': 348, 'serve': 3893, 'calm': 655, 'served': 3894, 'jungle': 2434, 'depicts': 1186, 'captivating': 675, 'nations': 2971, 'introduces': 2338, 'remarkable': 3613, 'synopsis': 4344, 'contrived': 976, 'depression': 1189, 'guessing': 1991, 'hundred': 2195, 'fish': 1738, 'fifteen': 1706, 'tribute': 4581, 'illogical': 2231, 'stiller': 4189, 'properly': 3437, 'wallace': 4782, 'wizard': 4919, 'oz': 3160, 'aunt': 355, 'beast': 422, 'elegant': 1441, 'presumably': 3380, 'design': 1202, 'popularity': 3334, 'scope': 3821, 'letters': 2582, 'settings': 3901, 'opposed': 3122, 'royal': 3746, 'mail': 2706, 'equipment': 1511, 'alongside': 196, 'horse': 2170, 'blatant': 502, 'drivel': 1364, 'theyll': 4444, 'wrap': 4963, 'leaving': 2557, 'duty': 1390, 'bullet': 620, 'dimensional': 1253, 'pleasant': 3302, 'passing': 3204, 'equivalent': 1512, 'cd': 728, 'overlooked': 3154, 'sake': 3775, 'corporate': 998, 'pretentious': 3383, 'aid': 160, 'russian': 3762, 'alexander': 180, 'handsome': 2021, 'suck': 4269, 'faster': 1662, 'ann': 244, 'houses': 2180, 'marketing': 2741, 'fulci': 1845, 'scientists': 3819, 'plague': 3285, 'reminiscent': 3621, 'zombies': 4998, 'flying': 1764, 'legs': 2566, 'ass': 323, 'asks': 319, 'extras': 1608, 'interviews': 2330, 'significant': 3972, 'carried': 698, 'technology': 4385, 'weapons': 4829, 'guide': 1993, 'ship': 3934, 'agrees': 157, 'chances': 748, 'craft': 1028, 'virus': 4752, 'kills': 2474, 'workers': 4943, 'johnny': 2410, 'purely': 3472, 'sentimental': 3882, 'exact': 1550, 'maria': 2736, 'endearing': 1469, '75': 57, 'doubts': 1333, 'spoken': 4126, 'mafia': 2700, 'directorial': 1265, 'trailer': 4554, 'prom': 3429, 'brutally': 604, 'donna': 1323, 'bell': 458, 'obnoxious': 3067, 'notes': 3046, 'florida': 1761, 'beaten': 424, 'heroine': 2091, 'ruby': 3749, 'scottish': 3825, 'invisible': 2344, 'prepared': 3371, 'month': 2896, 'elm': 1447, 'joseph': 2419, 'individuals': 2278, 'korean': 2495, 'mountains': 2918, 'satisfy': 3790, 'spin': 4112, 'ethan': 1528, 'models': 2881, 'generation': 1883, 'research': 3644, 'views': 4742, 'heaven': 2068, 'fourth': 1813, 'providing': 3451, 'square': 4136, 'raised': 3508, 'pleased': 3305, 'taylor': 4372, 'horses': 2171, 'elephant': 1444, 'generations': 1884, 'robbery': 3711, 'legal': 2563, 'busy': 635, 'madness': 2698, 'craig': 1030, 'overacting': 3149, 'games': 1865, 'distance': 1294, 'imitation': 2241, 'rebel': 3561, 'grasp': 1960, 'hideous': 2098, 'visible': 4753, 'dorothy': 1330, 'shadows': 3913, 'service': 3896, 'machines': 2694, 'sport': 4129, 'discuss': 1283, 'bacall': 377, 'plane': 3288, 'river': 3707, 'pointed': 3317, 'similarities': 3979, 'saga': 3773, 'parallel': 3185, 'welles': 4844, 'familys': 1646, 'fortune': 1806, 'amazingly': 210, 'magnificent': 2705, 'enemy': 1477, 'website': 4834, 'sword': 4340, 'bound': 553, 'teenage': 4389, 'confusion': 943, 'praise': 3364, 'occasion': 3073, 'lazy': 2543, 'wrapped': 4964, 'abilities': 64, 'extended': 1604, 'crocodile': 1065, 'angle': 236, 'yellow': 4981, 'directions': 1262, 'wes': 4851, 'craven': 1034, 'larger': 2519, 'useful': 4694, 'artist': 307, 'thousand': 4465, 'numerous': 3062, 'pseudo': 3454, 'stargate': 4151, 'jaw': 2384, 'reed': 3580, 'undoubtedly': 4648, 'south': 4087, 'grandmother': 1955, 'broke': 593, 'matthew': 2772, 'benefit': 465, 'raise': 3507, 'fever': 1699, 'bothered': 549, 'maggie': 2702, 'winds': 4895, 'court': 1020, 'rights': 3697, 'albert': 174, 'rural': 3758, 'spooky': 4128, 'devoid': 1230, 'torn': 4528, 'suspenseful': 4331, 'conventional': 979, 'portion': 3338, 'loser': 2655, 'newspaper': 3006, 'uncle': 4636, 'demand': 1174, 'september': 3884, 'riding': 3695, 'compelled': 915, 'interaction': 2322, 'tracks': 4545, 'covers': 1024, 'shooting': 3943, 'schools': 3814, 'ego': 1435, 'sounding': 4083, 'annoyed': 248, 'bat': 410, 'sell': 3871, 'rolling': 3730, 'lose': 2654, 'dude': 1381, '2001': 31, 'global': 1920, 'shoots': 3944, 'believed': 455, 'arrived': 301, 'crash': 1033, 'expressions': 1603, 'survivors': 4325, 'steel': 4173, 'hook': 2152, 'san': 3780, 'francisco': 1819, 'ken': 2453, 'guilt': 1994, 'miserably': 2864, 'category': 718, 'germany': 1898, 'expression': 1602, 'werewolf': 4850, 'fitting': 1742, 'wolf': 4920, 'nicholson': 3011, 'vampires': 4712, 'command': 897, 'wars': 4804, 'cards': 683, 'minimum': 2856, 'text': 4419, 'hates': 2048, 'glenn': 1918, 'thrill': 4471, 'likewise': 2603, 'existence': 1571, 'record': 3573, 'cinematographer': 819, 'proceedings': 3410, 'desperation': 1210, 'gifted': 1907, 'businessman': 634, 'adding': 117, 'sarah': 3785, 'jay': 2386, 'jealous': 2388, 'lately': 2524, 'waves': 4819, 'lees': 2560, 'nonsensical': 3031, 'shower': 3957, 'lisa': 2616, 'amanda': 205, '3d': 46, 'wave': 4818, 'unsettling': 4679, 'edie': 1419, 'attempted': 341, 'attacks': 339, 'subjects': 4254, 'bedroom': 437, 'response': 3654, 'europe': 1529, 'hip': 2114, 'countryside': 1015, 'generated': 1882, 'butler': 637, 'mistaken': 2872, 'tame': 4363, 'secretary': 3850, 'priceless': 3390, 'naive': 2958, 'national': 2970, 'winter': 4900, 'wounded': 4961, 'altogether': 202, 'currently': 1085, 'classics': 837, 'struggling': 4236, 'attracted': 349, 'ballet': 389, 'nomination': 3026, 'factory': 1623, 'dan': 1102, 'sunshine': 4294, 'loss': 2659, 'corrupt': 1001, 'caused': 724, 'troubled': 4593, 'errors': 1516, 'cuts': 1091, 'jazz': 2387, 'turner': 4607, 'cup': 1080, 'helicopter': 2076, 'distracting': 1297, 'dollars': 1315, 'picking': 3267, 'hide': 2097, 'sidney': 3968, 'neighbor': 2992, 'selling': 3873, 'improved': 2255, 'comfortable': 892, 'planned': 3290, 'lumet': 2688, 'hart': 2041, 'secretly': 3851, 'sneak': 4043, 'kick': 2460, 'gerard': 1895, 'uk': 4626, 'stylish': 4251, 'realise': 3548, 'rule': 3753, 'witness': 4914, 'celebrity': 729, 'ask': 316, 'jewish': 2401, 'millions': 2848, 'amounts': 220, 'arrival': 299, 'rubber': 3747, 'cheated': 775, 'amateur': 206, 'outcome': 3142, 'dedicated': 1153, 'melting': 2799, 'exposed': 1598, 'sits': 4006, 'alex': 179, 'rick': 3689, 'types': 4622, 'forest': 1791, 'pops': 3332, 'mitchell': 2875, '1950s': 14, 'phantom': 3251, 'ignorant': 2223, 'whoever': 4872, 'alright': 198, 'stranger': 4213, 'gotta': 1946, 'ya': 4976, 'prince': 3396, 'designs': 1204, 'passionate': 3206, 'testament': 4417, 'sea': 3838, 'staged': 4140, 'skills': 4014, 'eva': 1531, 'frequently': 1832, 'projects': 3428, 'mechanical': 2788, 'texas': 4418, 'robin': 3715, 'exploration': 1593, 'cared': 685, 'johnson': 2411, 'timothy': 4499, 'punch': 3466, 'fx': 1858, 'itll': 2369, 'carter': 703, 'glorious': 1921, 'graphics': 1959, 'throwing': 4480, 'ape': 266, 'intriguing': 2335, 'associated': 327, 'showdown': 3955, 'construction': 960, 'miike': 2837, 'struck': 4232, 'enters': 1496, 'breasts': 572, 'closer': 856, 'ridiculously': 3694, 'partly': 3197, 'interpretation': 2328, 'shock': 3938, 'aware': 368, 'press': 3379, 'junior': 2435, 'roots': 3738, 'mild': 2839, 'irrelevant': 2358, 'boom': 537, 'holy': 2140, 'dalton': 1098, 'damn': 1100, 'consistent': 953, 'akshay': 169, 'laws': 2540, 'thrilling': 4474, 'forth': 1804, 'engaged': 1480, 'pal': 3177, 'waited': 4771, 'olivier': 3103, 'hunter': 2199, 'cary': 706, 'selfish': 3870, 'unforgettable': 4652, 'hype': 2207, 'somebody': 4062, 'der': 1191, 'thrills': 4475, 'lawrence': 2539, 'awe': 370, 'psycho': 3457, 'usa': 4691, 'ireland': 2352, 'cannibal': 669, 'met': 2822, 'education': 1424, 'enthusiasm': 1501, 'losing': 2658, 'constructed': 959, '1990': 24, 'lewis': 2586, 'walking': 4779, 'gothic': 1945, 'classes': 834, 'overwhelming': 3157, 'questionable': 3488, 'namely': 2962, 'contact': 961, 'lucas': 2680, 'represent': 3637, 'visuals': 4759, 'illness': 2230, 'lily': 2605, 'mars': 2746, 'movement': 2923, 'eager': 1396, 'showcase': 3954, 'intention': 2319, 'imagery': 2234, 'alfred': 181, 'ron': 3734, 'hood': 2151, 'appearing': 277, 'mst3k': 2932, 'closet': 858, '2006': 36, 'bottle': 550, 'depicted': 1183, 'kapoor': 2443, 'pulling': 3463, 'drew': 1360, 'faithful': 1634, 'emily': 1456, 'blunt': 520, 'hunting': 2201, 'appreciation': 281, 'acid': 95, 'greater': 1965, 'cube': 1076, 'gangsters': 1869, 'noted': 3045, 'colour': 880, 'columbo': 881, 'husbands': 2205, 'ensues': 1493, 'hint': 2112, 'understandable': 4644, 'unaware': 4632, 'simplistic': 3985, 'lena': 2568, 'boredom': 542, 'anderson': 227, 'sleazy': 4023, 'cage': 645, 'seed': 3856, 'shake': 3914, 'celluloid': 731, 'reads': 3545, 'amy': 222, 'adams': 112, 'viewings': 4741, 'purchased': 3470, 'bargain': 400, 'buffs': 612, 'flawed': 1750, 'shelf': 3926, 'relatives': 3601, 'ned': 2986, 'porno': 3337, 'rage': 3505, 'ward': 4793, 'repetitive': 3633, 'titles': 4506, 'orson': 3132, 'executive': 1567, '25': 40, 'coherent': 871, 'locations': 2636, 'approach': 282, 'misery': 2865, 'ties': 4490, 'luckily': 2682, 'awards': 367, 'kicks': 2463, 'wwii': 4975, 'styles': 4250, 'adorable': 124, 'wealth': 4826, 'chest': 784, 'signs': 3973, 'techniques': 4384, 'agreed': 156, 'caliber': 649, 'speech': 4102, 'documentaries': 1306, 'arrested': 298, 'locked': 2637, '1999': 27, 'settle': 3902, 'bollywood': 530, 'ratings': 3530, 'brains': 563, 'davies': 1125, 'wrestling': 4966, 'dub': 1378, 'franco': 1820, 'balls': 390, 'interview': 2329, 'horrid': 2165, 'bela': 450, 'lugosi': 2686, 'generous': 1886, 'holiday': 2134, 'omen': 3104, 'catching': 716, 'pays': 3218, 'doom': 1326, 'groups': 1981, 'lessons': 2578, 'scores': 3823, 'smooth': 4041, 'closed': 854, 'doors': 1329, 'offended': 3085, 'represented': 3638, 'convoluted': 987, 'kenneth': 2455, 'branagh': 564, 'jr': 2423, 'emphasis': 1463, 'plausible': 3295, 'rough': 3741, 'rings': 3699, 'closely': 855, 'sole': 4055, 'survivor': 4324, 'arguably': 289, 'monkeys': 2891, 'monkey': 2890, 'infamous': 2284, 'popcorn': 3331, 'spiritual': 4116, 'possessed': 3347, 'practice': 3363, 'warrior': 4802, 'detailed': 1218, 'demons': 1178, 'africa': 141, 'swedish': 4335, 'philosophical': 3253, 'substance': 4258, 'gods': 1928, 'soldier': 4053, 'metal': 2823, 'beatty': 427, 'cox': 1026, 'imagined': 2239, 'failing': 1627, 'voight': 4764, 'analysis': 224, 'rank': 3518, 'drawing': 1350, 'spoof': 4127, 'bathroom': 412, 'excessive': 1560, 'tarzan': 4367, 'killings': 2473, 'idiots': 2220, '13th': 5, 'slaughter': 4021, 'offered': 3088, 'pet': 3246, 'superficial': 4298, 'karloff': 2445, 'dracula': 1341, 'april': 284, 'elaborate': 1439, 'shirley': 3936, 'montana': 2895, 'ocean': 3079, 'powell': 3358, 'couples': 1017, 'brando': 566, 'religious': 3608, 'stellar': 4174, 'robots': 3718, 'elderly': 1440, 'albeit': 173, 'cheek': 779, '2002': 32, 'tomatoes': 4515, 'landing': 2512, 'aids': 161, 'tear': 4379, 'modesty': 2883, 'hints': 2113, 'curtis': 1087, 'struggles': 4235, 'angels': 234, 'samurai': 3779, 'nuclear': 3057, 'destruction': 1216, 'melodramatic': 2798, 'advise': 134, 'channels': 754, 'hundreds': 2196, 'intellectual': 2312, 'simpson': 3987, 'pages': 3168, 'ridden': 3691, 'exists': 1573, 'removed': 3624, 'boll': 529, 'despair': 1207, 'greed': 1968, 'criticism': 1063, 'lifestyle': 2593, 'exceptional': 1558, 'merits': 2817, 'rising': 3703, 'simmons': 3981, 'descent': 1193, '1933': 12, 'accompanied': 86, '2000': 30, 'sadness': 3770, 'translation': 4562, 'purposes': 3475, 'cried': 1054, 'uwe': 4703, 'wet': 4855, 'matrix': 2767, 'cg': 739, 'blade': 495, '60': 53, 'eaten': 1412, 'answers': 252, 'iron': 2354, 'bull': 619, 'kudos': 2497, 'fallen': 1638, 'responsibility': 3655, 'promises': 3432, 'prize': 3405, 'cliche': 843, 'attacked': 338, 'francis': 1818, 'motives': 2916, 'amitabh': 216, 'madonna': 2699, 'hoffman': 2128, 'flawless': 1751, 'truck': 4595, 'enemies': 1476, 'transfer': 4559, 'terry': 4415, 'brazil': 568, 'futuristic': 1857, 'randomly': 3515, 'frankenstein': 1822, 'bud': 607, 'spain': 4091, 'dubbing': 1380, 'fighter': 1708, 'superbly': 4297, 'achieved': 93, 'comics': 895, 'devils': 1229, 'redemption': 3578, 'fbi': 1675, 'crying': 1074, 'cagney': 646, 'wed': 4835, 'mysteries': 2954, 'vegas': 4717, 'influenced': 2287, 'latin': 2527, 'holly': 2136, 'religion': 3607, 'chaplin': 756, 'clips': 852, 'bold': 528, 'travesty': 4570, 'resulting': 3661, 'dropping': 1371, 'le': 2544, 'inevitably': 2283, 'fired': 1735, 'explosions': 1597, 'museum': 2945, 'imaginative': 2237, 'competent': 917, 'vast': 4716, 'breathtaking': 574, 'reference': 3582, 'st': 4137, 'loyal': 2679, 'messed': 2821, 'armed': 293, 'library': 2589, 'educational': 1425, 'valley': 4707, 'nonetheless': 3029, 'mall': 2720, 'pursuit': 3476, 'angela': 232, 'ruthless': 3764, 'prisoner': 3402, 'prisoners': 3403, 'react': 3540, 'videos': 4734, 'generic': 1885, 'rush': 3759, 'teaching': 4377, 'leg': 2562, 'jet': 2400, 'stinks': 4192, 'concert': 935, 'dances': 1106, 'spell': 4104, 'jerk': 2395, 'secondly': 3847, 'fonda': 1777, 'circle': 821, 'challenging': 744, 'overrated': 3156, 'kubrick': 2496, 'represents': 3639, 'photographed': 3258, 'politically': 3325, 'rats': 3531, 'unbearable': 4633, 'severe': 3906, 'contest': 967, 'depressed': 1187, 'subplots': 4256, 'reaches': 3538, 'explicit': 1591, 'trap': 4563, 'giallo': 1904, 'nervous': 2999, 'causing': 726, 'scarecrow': 3804, 'capturing': 679, 'dating': 1120, 'matched': 2763, 'trees': 4577, 'transition': 4561, 'kings': 2481, 'overlook': 3153, 'ruth': 3763, 'regardless': 3590, 'neighborhood': 2993, 'mistress': 2874, 'scheme': 3812, 'ear': 1397, 'voiced': 4762, 'conceived': 929, 'bakshi': 386, 'achievement': 94, 'stanley': 4148, 'grandfather': 1954, 'opinions': 3119, 'companion': 909, 'patients': 3212, 'unfolds': 4651, 'stilted': 4190, 'burton': 630, 'butt': 638, 'dignity': 1252, 'heights': 2073, 'eyre': 1614, 'survival': 4320, 'iraq': 2351, 'miserable': 2863, 'developing': 1224, 'alcohol': 176, 'stanwyck': 4149, 'bullets': 621, 'elvira': 1450, 'twins': 4616, 'lion': 2614, 'impress': 2250, 'creation': 1040, 'losers': 2656, 'grab': 1949, 'apes': 267, 'americas': 215, 'widmark': 4882, 'betty': 474, 'rambo': 3511, 'bettie': 473, 'gripping': 1976, 'inferior': 2285, 'discussion': 1284, 'bobby': 525, 'paranoia': 3186, 'gabriel': 1859, 'disturbed': 1299, 'nurse': 3063, 'careful': 688, 'appalling': 268, 'depressing': 1188, 'homer': 2144, 'menace': 2806, 'gandhi': 1866, 'wholly': 4874, 'brenda': 575, 'leo': 2571, 'helen': 2075, 'rushed': 3760, 'mildred': 2841, '1996': 26, 'weakest': 4825, 'combine': 884, 'resident': 3647, 'kay': 2447, 'signed': 3971, 'realizing': 3555, 'territory': 4411, 'catches': 715, 'mentioning': 2812, 'outfit': 3144, 'chorus': 803, 'menacing': 2807, 'hammer': 2014, 'quit': 3494, 'punk': 3468, 'doll': 1313, 'deceased': 1146, 'faults': 1669, 'wacky': 4769, 'gadget': 1860, 'scientific': 3817, 'thumbs': 4485, 'attend': 344, 'conflicts': 940, 'moody': 2899, 'blacks': 494, 'ellen': 1446, 'unreal': 4676, 'household': 2179, 'satan': 3787, 'lou': 2663, 'jumped': 2430, 'exercise': 1568, 'cole': 873, 'airport': 167, 'crack': 1027, 'method': 2824, 'subplot': 4255, 'rochester': 3719, 'widow': 4883, 'surfing': 4311, 'streep': 4215, 'gag': 1861, 'devoted': 1231, 'charlotte': 766, 'toys': 4543, 'methods': 2825, 'tape': 4365, 'grinch': 1975, 'superhero': 4299, 'reel': 3581, 'dutch': 1389, 'troubles': 4594, 'mile': 2842, 'poem': 3312, 'spoke': 4125, 'rolled': 3729, 'importance': 2246, 'ashley': 313, 'hyde': 2206, 'hop': 2154, 'scooby': 3820, 'doo': 1325, 'iran': 2350, 'monk': 2889, 'diana': 1237, 'domino': 1319, 'crisis': 1060, 'unintentional': 4658, 'nuts': 3064, 'limits': 2607, 'lucy': 2684, 'digital': 1251, '2007': 37, 'row': 3744, 'streisand': 4218, 'respected': 3653, 'cheating': 776, 'alternate': 200, 'norman': 3035, 'recorded': 3574, 'mighty': 2836, 'polanski': 3321, 'pat': 3208, 'che': 773, 'hank': 2024, 'garbo': 1871, 'dancers': 1105, 'absence': 70, 'reaching': 3539, 'earl': 1398, 'niro': 3019, 'directs': 1267, 'depicting': 1184, 'literature': 2623, 'wendy': 4846, 'screens': 3832, 'pokemon': 3320, 'dentist': 1180, 'gundam': 1997, 'atlantis': 332, 'kingdom': 2480, 'dolph': 1317, 'morris': 2908}\n"
     ]
    }
   ],
   "source": [
    "print(str(vocabulary))"
   ]
  },
  {
   "cell_type": "markdown",
   "metadata": {},
   "source": [
    "Once you have added the endpoint name to the Lambda function, click on **Save**. Your Lambda function is now up and running. Next we need to create a way for our web app to execute the Lambda function."
   ]
  },
  {
   "cell_type": "markdown",
   "metadata": {},
   "source": [
    "### Setting up API Gateway\n",
    "\n",
    "Now that our Lambda function is set up, it is time to create a new API using API Gateway that will trigger the Lambda function we have just created.\n",
    "\n",
    "Using AWS Console, navigate to **Amazon API Gateway** and then click on **Get started**.\n",
    "\n",
    "On the next page, make sure that **New API** is selected and give the new api a name, for example, `sentiment_analysis_web_app`. Then, click on **Create API**.\n",
    "\n",
    "Now we have created an API, however it doesn't currently do anything. What we want it to do is to trigger the Lambda function that we created earlier.\n",
    "\n",
    "Select the **Actions** dropdown menu and click **Create Method**. A new blank method will be created, select its dropdown menu and select **POST**, then click on the check mark beside it.\n",
    "\n",
    "For the integration point, make sure that **Lambda Function** is selected and click on the **Use Lambda Proxy integration**. This option makes sure that the data that is sent to the API is then sent directly to the Lambda function with no processing. It also means that the return value must be a proper response object as it will also not be processed by API Gateway.\n",
    "\n",
    "Type the name of the Lambda function you created earlier into the **Lambda Function** text entry box and then click on **Save**. Click on **OK** in the pop-up box that then appears, giving permission to API Gateway to invoke the Lambda function you created.\n",
    "\n",
    "The last step in creating the API Gateway is to select the **Actions** dropdown and click on **Deploy API**. You will need to create a new Deployment stage and name it anything you like, for example `prod`.\n",
    "\n",
    "You have now successfully set up a public API to access your SageMaker model. Make sure to copy or write down the URL provided to invoke your newly created public API as this will be needed in the next step. This URL can be found at the top of the page, highlighted in blue next to the text **Invoke URL**."
   ]
  },
  {
   "cell_type": "markdown",
   "metadata": {},
   "source": [
    "## Step 7: Deploying our web app\n",
    "\n",
    "Now that we have a publicly available API, we can start using it in a web app. For our purposes, we have provided a simple static html file which can make use of the public api you created earlier.\n",
    "\n",
    "In the `website` folder there should be a file called `index.html`. Download the file to your computer and open that file up in a text editor of your choice. There should be a line which contains **\\*\\*REPLACE WITH PUBLIC API URL\\*\\***. Replace this string with the url that you wrote down in the last step and then save the file.\n",
    "\n",
    "Now, if you open `index.html` on your local computer, your browser will behave as a local web server and you can use the provided site to interact with your SageMaker model.\n",
    "\n",
    "If you'd like to go further, you can host this html file anywhere you'd like, for example using github or hosting a static site on Amazon's S3. Once you have done this you can share the link with anyone you'd like and have them play with it too!\n",
    "\n",
    "> **Important Note** In order for the web app to communicate with the SageMaker endpoint, the endpoint has to actually be deployed and running. This means that you are paying for it. Make sure that the endpoint is running when you want to use the web app but that you shut it down when you don't need it, otherwise you will end up with a surprisingly large AWS bill."
   ]
  },
  {
   "cell_type": "markdown",
   "metadata": {},
   "source": [
    "### Delete the endpoint\n",
    "\n",
    "Remember to always shut down your endpoint if you are no longer using it. You are charged for the length of time that the endpoint is running so if you forget and leave it on you could end up with an unexpectedly large bill."
   ]
  },
  {
   "cell_type": "code",
   "execution_count": 51,
   "metadata": {},
   "outputs": [],
   "source": [
    "xgb_predictor.delete_endpoint()"
   ]
  },
  {
   "cell_type": "markdown",
   "metadata": {},
   "source": [
    "## Optional: Clean up\n",
    "\n",
    "The default notebook instance on SageMaker doesn't have a lot of excess disk space available. As you continue to complete and execute notebooks you will eventually fill up this disk space, leading to errors which can be difficult to diagnose. Once you are completely finished using a notebook it is a good idea to remove the files that you created along the way. Of course, you can do this from the terminal or from the notebook hub if you would like. The cell below contains some commands to clean up the created files from within the notebook."
   ]
  },
  {
   "cell_type": "code",
   "execution_count": 52,
   "metadata": {},
   "outputs": [],
   "source": [
    "# First we will remove all of the files contained in the data_dir directory\n",
    "!rm $data_dir/*\n",
    "\n",
    "# And then we delete the directory itself\n",
    "!rmdir $data_dir\n",
    "\n",
    "# Similarly we remove the files in the cache_dir directory and the directory itself\n",
    "!rm $cache_dir/*\n",
    "!rmdir $cache_dir"
   ]
  },
  {
   "cell_type": "code",
   "execution_count": null,
   "metadata": {},
   "outputs": [],
   "source": []
  }
 ],
 "metadata": {
  "kernelspec": {
   "display_name": "conda_python3",
   "language": "python",
   "name": "conda_python3"
  },
  "language_info": {
   "codemirror_mode": {
    "name": "ipython",
    "version": 3
   },
   "file_extension": ".py",
   "mimetype": "text/x-python",
   "name": "python",
   "nbconvert_exporter": "python",
   "pygments_lexer": "ipython3",
   "version": "3.6.10"
  }
 },
 "nbformat": 4,
 "nbformat_minor": 2
}
